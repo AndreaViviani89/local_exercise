{
 "cells": [
  {
   "cell_type": "code",
   "execution_count": 1,
   "metadata": {},
   "outputs": [
    {
     "name": "stdout",
     "output_type": "stream",
     "text": [
      "+-----+\n",
      "|hello|\n",
      "+-----+\n",
      "|spark|\n",
      "+-----+\n",
      "\n"
     ]
    }
   ],
   "source": [
    "import findspark\n",
    "findspark.init()\n",
    "\n",
    "import pyspark\n",
    "from pyspark.sql import SparkSession\n",
    "spark = SparkSession.builder.getOrCreate()\n",
    "\n",
    "df = spark.sql(''' select 'spark' as hello ''')\n",
    "\n",
    "df.show()"
   ]
  },
  {
   "cell_type": "code",
   "execution_count": 2,
   "metadata": {},
   "outputs": [
    {
     "name": "stdout",
     "output_type": "stream",
     "text": [
      "Pi is roughly: 3.14150708\n"
     ]
    }
   ],
   "source": [
    "from pyspark import SparkContext, SparkConf\n",
    "from pyspark.sql import SparkSession\n",
    "sc =SparkContext.getOrCreate()\n",
    "\n",
    "import random\n",
    "\n",
    "\n",
    "NUM_SAMPLE = 100000000\n",
    "\n",
    "def inside(p):\n",
    "\n",
    "    x, y = random.random(), random.random()\n",
    "\n",
    "    return x*x + y*y < 1\n",
    "\n",
    "count = sc.parallelize(range(0, NUM_SAMPLE)).filter(inside).count()\n",
    "\n",
    "pi = 4*count / NUM_SAMPLE\n",
    "\n",
    "print(\"Pi is roughly:\", pi)\n"
   ]
  },
  {
   "cell_type": "code",
   "execution_count": 3,
   "metadata": {},
   "outputs": [],
   "source": [
    "from pyspark.sql.types import *\n"
   ]
  },
  {
   "cell_type": "code",
   "execution_count": 4,
   "metadata": {},
   "outputs": [],
   "source": [
    "spark = SparkSession.builder.appName('iris_clf').getOrCreate()"
   ]
  },
  {
   "cell_type": "code",
   "execution_count": 5,
   "metadata": {},
   "outputs": [
    {
     "name": "stdout",
     "output_type": "stream",
     "text": [
      "+---+-------------+------------+-------------+------------+-----------+\n",
      "| Id|SepalLengthCm|SepalWidthCm|PetalLengthCm|PetalWidthCm|    Species|\n",
      "+---+-------------+------------+-------------+------------+-----------+\n",
      "|  1|          5.1|         3.5|          1.4|         0.2|Iris-setosa|\n",
      "|  2|          4.9|         3.0|          1.4|         0.2|Iris-setosa|\n",
      "|  3|          4.7|         3.2|          1.3|         0.2|Iris-setosa|\n",
      "|  4|          4.6|         3.1|          1.5|         0.2|Iris-setosa|\n",
      "|  5|          5.0|         3.6|          1.4|         0.2|Iris-setosa|\n",
      "+---+-------------+------------+-------------+------------+-----------+\n",
      "only showing top 5 rows\n",
      "\n"
     ]
    }
   ],
   "source": [
    "df = spark.read.csv('Iris.csv',header=True, inferSchema=True)\n",
    "df.show(5)"
   ]
  },
  {
   "cell_type": "code",
   "execution_count": 6,
   "metadata": {},
   "outputs": [
    {
     "name": "stdout",
     "output_type": "stream",
     "text": [
      "root\n",
      " |-- Id: integer (nullable = true)\n",
      " |-- SepalLengthCm: double (nullable = true)\n",
      " |-- SepalWidthCm: double (nullable = true)\n",
      " |-- PetalLengthCm: double (nullable = true)\n",
      " |-- PetalWidthCm: double (nullable = true)\n",
      " |-- Species: string (nullable = true)\n",
      "\n"
     ]
    }
   ],
   "source": [
    "df.printSchema()"
   ]
  },
  {
   "cell_type": "code",
   "execution_count": 7,
   "metadata": {},
   "outputs": [],
   "source": [
    "schema = StructType( [\n",
    "                        StructField('sepal_length', DoubleType()),\n",
    "                        StructField('sepal_width', DoubleType()),\n",
    "                        StructField('petal_length', DoubleType()),\n",
    "                        StructField('petal_width', DoubleType()),\n",
    "                        StructField('type', StringType()),\n",
    "])"
   ]
  },
  {
   "cell_type": "code",
   "execution_count": 8,
   "metadata": {},
   "outputs": [
    {
     "name": "stdout",
     "output_type": "stream",
     "text": [
      "root\n",
      " |-- sepal_length: double (nullable = true)\n",
      " |-- sepal_width: double (nullable = true)\n",
      " |-- petal_length: double (nullable = true)\n",
      " |-- petal_width: double (nullable = true)\n",
      " |-- type: string (nullable = true)\n",
      "\n"
     ]
    }
   ],
   "source": [
    "df2 = spark.read.csv('Iris.csv', header=True, schema= schema)\n",
    "df2.printSchema()"
   ]
  },
  {
   "cell_type": "code",
   "execution_count": 9,
   "metadata": {},
   "outputs": [],
   "source": [
    "from pyspark.ml.feature import VectorAssembler"
   ]
  },
  {
   "cell_type": "code",
   "execution_count": 10,
   "metadata": {},
   "outputs": [
    {
     "name": "stdout",
     "output_type": "stream",
     "text": [
      "+---+-------------+------------+-------------+------------+-----------+-----------------+\n",
      "| Id|SepalLengthCm|SepalWidthCm|PetalLengthCm|PetalWidthCm|    Species|         features|\n",
      "+---+-------------+------------+-------------+------------+-----------+-----------------+\n",
      "|  1|          5.1|         3.5|          1.4|         0.2|Iris-setosa|[5.1,3.5,1.4,0.2]|\n",
      "|  2|          4.9|         3.0|          1.4|         0.2|Iris-setosa|[4.9,3.0,1.4,0.2]|\n",
      "|  3|          4.7|         3.2|          1.3|         0.2|Iris-setosa|[4.7,3.2,1.3,0.2]|\n",
      "|  4|          4.6|         3.1|          1.5|         0.2|Iris-setosa|[4.6,3.1,1.5,0.2]|\n",
      "|  5|          5.0|         3.6|          1.4|         0.2|Iris-setosa|[5.0,3.6,1.4,0.2]|\n",
      "+---+-------------+------------+-------------+------------+-----------+-----------------+\n",
      "only showing top 5 rows\n",
      "\n"
     ]
    }
   ],
   "source": [
    "input_col = ['SepalLengthCm', 'SepalWidthCm', 'PetalLengthCm', 'PetalWidthCm']\n",
    "vectorizer = VectorAssembler(inputCols= input_col, outputCol='features')\n",
    "\n",
    "df = vectorizer.transform(df)\n",
    "\n",
    "df.show(5)"
   ]
  },
  {
   "cell_type": "code",
   "execution_count": 11,
   "metadata": {},
   "outputs": [],
   "source": [
    "from pyspark.ml.feature import StringIndexer"
   ]
  },
  {
   "cell_type": "code",
   "execution_count": 13,
   "metadata": {},
   "outputs": [
    {
     "name": "stdout",
     "output_type": "stream",
     "text": [
      "+---+-------------+------------+-------------+------------+-----------+-----------------+------------+\n",
      "| Id|SepalLengthCm|SepalWidthCm|PetalLengthCm|PetalWidthCm|    Species|         features|indexed_type|\n",
      "+---+-------------+------------+-------------+------------+-----------+-----------------+------------+\n",
      "|  1|          5.1|         3.5|          1.4|         0.2|Iris-setosa|[5.1,3.5,1.4,0.2]|         0.0|\n",
      "|  2|          4.9|         3.0|          1.4|         0.2|Iris-setosa|[4.9,3.0,1.4,0.2]|         0.0|\n",
      "|  3|          4.7|         3.2|          1.3|         0.2|Iris-setosa|[4.7,3.2,1.3,0.2]|         0.0|\n",
      "|  4|          4.6|         3.1|          1.5|         0.2|Iris-setosa|[4.6,3.1,1.5,0.2]|         0.0|\n",
      "|  5|          5.0|         3.6|          1.4|         0.2|Iris-setosa|[5.0,3.6,1.4,0.2]|         0.0|\n",
      "+---+-------------+------------+-------------+------------+-----------+-----------------+------------+\n",
      "only showing top 5 rows\n",
      "\n"
     ]
    }
   ],
   "source": [
    "indexer = StringIndexer(inputCol='Species', outputCol='indexed_type')\n",
    "\n",
    "df = indexer.fit(df).transform(df)\n",
    "\n",
    "df.show(5)\n"
   ]
  },
  {
   "cell_type": "code",
   "execution_count": 16,
   "metadata": {},
   "outputs": [
    {
     "name": "stdout",
     "output_type": "stream",
     "text": [
      "+---+-------------+------------+-------------+------------+-----------+-----------------+------------+\n",
      "| Id|SepalLengthCm|SepalWidthCm|PetalLengthCm|PetalWidthCm|    Species|         features|indexed_type|\n",
      "+---+-------------+------------+-------------+------------+-----------+-----------------+------------+\n",
      "|  1|          5.1|         3.5|          1.4|         0.2|Iris-setosa|[5.1,3.5,1.4,0.2]|         0.0|\n",
      "|  2|          4.9|         3.0|          1.4|         0.2|Iris-setosa|[4.9,3.0,1.4,0.2]|         0.0|\n",
      "|  3|          4.7|         3.2|          1.3|         0.2|Iris-setosa|[4.7,3.2,1.3,0.2]|         0.0|\n",
      "|  4|          4.6|         3.1|          1.5|         0.2|Iris-setosa|[4.6,3.1,1.5,0.2]|         0.0|\n",
      "|  5|          5.0|         3.6|          1.4|         0.2|Iris-setosa|[5.0,3.6,1.4,0.2]|         0.0|\n",
      "+---+-------------+------------+-------------+------------+-----------+-----------------+------------+\n",
      "only showing top 5 rows\n",
      "\n"
     ]
    }
   ],
   "source": [
    "df_train, df_test = df.randomSplit([0.8, 0.2], seed= 0)\n",
    "df_train.show(5)"
   ]
  },
  {
   "cell_type": "code",
   "execution_count": 17,
   "metadata": {},
   "outputs": [],
   "source": [
    "from pyspark.ml.classification import RandomForestClassifier"
   ]
  },
  {
   "cell_type": "code",
   "execution_count": 18,
   "metadata": {},
   "outputs": [],
   "source": [
    "rf_clf = RandomForestClassifier(featuresCol= 'features', labelCol='indexed_type')"
   ]
  },
  {
   "cell_type": "code",
   "execution_count": 19,
   "metadata": {},
   "outputs": [],
   "source": [
    "rf_clf = rf_clf.fit(df_train)"
   ]
  },
  {
   "cell_type": "code",
   "execution_count": 20,
   "metadata": {},
   "outputs": [
    {
     "name": "stdout",
     "output_type": "stream",
     "text": [
      "+---+-------------+------------+-------------+------------+---------------+-----------------+------------+--------------------+--------------------+----------+\n",
      "| Id|SepalLengthCm|SepalWidthCm|PetalLengthCm|PetalWidthCm|        Species|         features|indexed_type|       rawPrediction|         probability|prediction|\n",
      "+---+-------------+------------+-------------+------------+---------------+-----------------+------------+--------------------+--------------------+----------+\n",
      "| 21|          5.4|         3.4|          1.7|         0.2|    Iris-setosa|[5.4,3.4,1.7,0.2]|         0.0|      [19.0,1.0,0.0]|     [0.95,0.05,0.0]|       0.0|\n",
      "| 22|          5.1|         3.7|          1.5|         0.4|    Iris-setosa|[5.1,3.7,1.5,0.4]|         0.0|      [20.0,0.0,0.0]|       [1.0,0.0,0.0]|       0.0|\n",
      "| 29|          5.2|         3.4|          1.4|         0.2|    Iris-setosa|[5.2,3.4,1.4,0.2]|         0.0|      [20.0,0.0,0.0]|       [1.0,0.0,0.0]|       0.0|\n",
      "| 30|          4.7|         3.2|          1.6|         0.2|    Iris-setosa|[4.7,3.2,1.6,0.2]|         0.0|      [20.0,0.0,0.0]|       [1.0,0.0,0.0]|       0.0|\n",
      "| 31|          4.8|         3.1|          1.6|         0.2|    Iris-setosa|[4.8,3.1,1.6,0.2]|         0.0|      [20.0,0.0,0.0]|       [1.0,0.0,0.0]|       0.0|\n",
      "| 37|          5.5|         3.5|          1.3|         0.2|    Iris-setosa|[5.5,3.5,1.3,0.2]|         0.0|      [20.0,0.0,0.0]|       [1.0,0.0,0.0]|       0.0|\n",
      "| 38|          4.9|         3.1|          1.5|         0.1|    Iris-setosa|[4.9,3.1,1.5,0.1]|         0.0|      [20.0,0.0,0.0]|       [1.0,0.0,0.0]|       0.0|\n",
      "| 40|          5.1|         3.4|          1.5|         0.2|    Iris-setosa|[5.1,3.4,1.5,0.2]|         0.0|      [20.0,0.0,0.0]|       [1.0,0.0,0.0]|       0.0|\n",
      "| 50|          5.0|         3.3|          1.4|         0.2|    Iris-setosa|[5.0,3.3,1.4,0.2]|         0.0|      [20.0,0.0,0.0]|       [1.0,0.0,0.0]|       0.0|\n",
      "| 54|          5.5|         2.3|          4.0|         1.3|Iris-versicolor|[5.5,2.3,4.0,1.3]|         1.0|      [0.0,20.0,0.0]|       [0.0,1.0,0.0]|       1.0|\n",
      "| 61|          5.0|         2.0|          3.5|         1.0|Iris-versicolor|[5.0,2.0,3.5,1.0]|         1.0|      [0.0,20.0,0.0]|       [0.0,1.0,0.0]|       1.0|\n",
      "| 62|          5.9|         3.0|          4.2|         1.5|Iris-versicolor|[5.9,3.0,4.2,1.5]|         1.0|      [0.0,20.0,0.0]|       [0.0,1.0,0.0]|       1.0|\n",
      "| 63|          6.0|         2.2|          4.0|         1.0|Iris-versicolor|[6.0,2.2,4.0,1.0]|         1.0|      [0.0,20.0,0.0]|       [0.0,1.0,0.0]|       1.0|\n",
      "| 66|          6.7|         3.1|          4.4|         1.4|Iris-versicolor|[6.7,3.1,4.4,1.4]|         1.0|      [0.0,20.0,0.0]|       [0.0,1.0,0.0]|       1.0|\n",
      "| 73|          6.3|         2.5|          4.9|         1.5|Iris-versicolor|[6.3,2.5,4.9,1.5]|         1.0|      [0.0,14.5,5.5]|   [0.0,0.725,0.275]|       1.0|\n",
      "| 76|          6.6|         3.0|          4.4|         1.4|Iris-versicolor|[6.6,3.0,4.4,1.4]|         1.0|      [0.0,20.0,0.0]|       [0.0,1.0,0.0]|       1.0|\n",
      "| 88|          6.3|         2.3|          4.4|         1.3|Iris-versicolor|[6.3,2.3,4.4,1.3]|         1.0|      [0.0,18.0,2.0]|       [0.0,0.9,0.1]|       1.0|\n",
      "| 90|          5.5|         2.5|          4.0|         1.3|Iris-versicolor|[5.5,2.5,4.0,1.3]|         1.0|      [0.0,20.0,0.0]|       [0.0,1.0,0.0]|       1.0|\n",
      "| 91|          5.5|         2.6|          4.4|         1.2|Iris-versicolor|[5.5,2.6,4.4,1.2]|         1.0|      [0.0,20.0,0.0]|       [0.0,1.0,0.0]|       1.0|\n",
      "|101|          6.3|         3.3|          6.0|         2.5| Iris-virginica|[6.3,3.3,6.0,2.5]|         2.0|[0.0,0.0434782608...|[0.0,0.0021739130...|       2.0|\n",
      "+---+-------------+------------+-------------+------------+---------------+-----------------+------------+--------------------+--------------------+----------+\n",
      "only showing top 20 rows\n",
      "\n"
     ]
    }
   ],
   "source": [
    "df_test = rf_clf.transform(df_test)\n",
    "df_test.show()"
   ]
  },
  {
   "cell_type": "code",
   "execution_count": 23,
   "metadata": {},
   "outputs": [
    {
     "name": "stdout",
     "output_type": "stream",
     "text": [
      "+---------------+-----------------+------------+--------------+---------------+----------+\n",
      "|        Species|         features|indexed_type| rawPrediction|    probability|prediction|\n",
      "+---------------+-----------------+------------+--------------+---------------+----------+\n",
      "|    Iris-setosa|[5.4,3.4,1.7,0.2]|         0.0|[19.0,1.0,0.0]|[0.95,0.05,0.0]|       0.0|\n",
      "|    Iris-setosa|[5.1,3.7,1.5,0.4]|         0.0|[20.0,0.0,0.0]|  [1.0,0.0,0.0]|       0.0|\n",
      "|    Iris-setosa|[5.2,3.4,1.4,0.2]|         0.0|[20.0,0.0,0.0]|  [1.0,0.0,0.0]|       0.0|\n",
      "|    Iris-setosa|[4.7,3.2,1.6,0.2]|         0.0|[20.0,0.0,0.0]|  [1.0,0.0,0.0]|       0.0|\n",
      "|    Iris-setosa|[4.8,3.1,1.6,0.2]|         0.0|[20.0,0.0,0.0]|  [1.0,0.0,0.0]|       0.0|\n",
      "|    Iris-setosa|[5.5,3.5,1.3,0.2]|         0.0|[20.0,0.0,0.0]|  [1.0,0.0,0.0]|       0.0|\n",
      "|    Iris-setosa|[4.9,3.1,1.5,0.1]|         0.0|[20.0,0.0,0.0]|  [1.0,0.0,0.0]|       0.0|\n",
      "|    Iris-setosa|[5.1,3.4,1.5,0.2]|         0.0|[20.0,0.0,0.0]|  [1.0,0.0,0.0]|       0.0|\n",
      "|    Iris-setosa|[5.0,3.3,1.4,0.2]|         0.0|[20.0,0.0,0.0]|  [1.0,0.0,0.0]|       0.0|\n",
      "|Iris-versicolor|[5.5,2.3,4.0,1.3]|         1.0|[0.0,20.0,0.0]|  [0.0,1.0,0.0]|       1.0|\n",
      "+---------------+-----------------+------------+--------------+---------------+----------+\n",
      "only showing top 10 rows\n",
      "\n"
     ]
    }
   ],
   "source": [
    "df_test.select('Species', 'features', 'indexed_type', 'rawPrediction', 'probability', 'prediction').show(10)"
   ]
  },
  {
   "cell_type": "code",
   "execution_count": 24,
   "metadata": {},
   "outputs": [],
   "source": [
    "from pyspark.ml.evaluation import MulticlassClassificationEvaluator"
   ]
  },
  {
   "cell_type": "code",
   "execution_count": 25,
   "metadata": {},
   "outputs": [],
   "source": [
    "criterion = MulticlassClassificationEvaluator(labelCol='indexed_type')"
   ]
  },
  {
   "cell_type": "code",
   "execution_count": 26,
   "metadata": {},
   "outputs": [
    {
     "data": {
      "text/plain": [
       "0.9330303030303031"
      ]
     },
     "execution_count": 26,
     "metadata": {},
     "output_type": "execute_result"
    }
   ],
   "source": [
    "acc = criterion.evaluate(df_test)\n",
    "acc"
   ]
  }
 ],
 "metadata": {
  "kernelspec": {
   "display_name": "Python 3.9.12 ('DL')",
   "language": "python",
   "name": "python3"
  },
  "language_info": {
   "codemirror_mode": {
    "name": "ipython",
    "version": 3
   },
   "file_extension": ".py",
   "mimetype": "text/x-python",
   "name": "python",
   "nbconvert_exporter": "python",
   "pygments_lexer": "ipython3",
   "version": "3.9.12"
  },
  "orig_nbformat": 4,
  "vscode": {
   "interpreter": {
    "hash": "ca6d8dca7ea44f50a219602c5adcd3e65ceab2675748fe45a38b1f25aedd036e"
   }
  }
 },
 "nbformat": 4,
 "nbformat_minor": 2
}
