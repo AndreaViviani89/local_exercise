{
 "cells": [
  {
   "cell_type": "code",
   "execution_count": 3,
   "metadata": {},
   "outputs": [],
   "source": [
    "from selenium import webdriver\n",
    "from bs4 import BeautifulSoup\n",
    "import time\n",
    "import pandas as pd\n",
    " \n",
    "#URL = This is the url of the yelp page that you are going to extract data from\n",
    " \n",
    "URL = ('https://www.yelp.co.uk/search?cflt=restaurants&find_loc=Berlin%2C+Germany')\n",
    " \n",
    "driver = webdriver.Chrome()\n",
    "driver.get(URL)\n",
    "yelp_page_source_page1 = driver.page_source"
   ]
  },
  {
   "cell_type": "code",
   "execution_count": 5,
   "metadata": {},
   "outputs": [],
   "source": [
    "final_data = []\n",
    " \n",
    "soup = BeautifulSoup(yelp_page_source_page1,'html.parser')\n",
    "all = soup.find_all('li',{'class':' border-color--default__09f24__NPAKY'})"
   ]
  }
 ],
 "metadata": {
  "interpreter": {
   "hash": "430b7d4413b2177f05b848cb6acb02b7196cdff9e6dac31e1a37def6732e5784"
  },
  "kernelspec": {
   "display_name": "Python 3.9.7 ('Strive')",
   "language": "python",
   "name": "python3"
  },
  "language_info": {
   "codemirror_mode": {
    "name": "ipython",
    "version": 3
   },
   "file_extension": ".py",
   "mimetype": "text/x-python",
   "name": "python",
   "nbconvert_exporter": "python",
   "pygments_lexer": "ipython3",
   "version": "3.10.0"
  },
  "orig_nbformat": 4
 },
 "nbformat": 4,
 "nbformat_minor": 2
}
