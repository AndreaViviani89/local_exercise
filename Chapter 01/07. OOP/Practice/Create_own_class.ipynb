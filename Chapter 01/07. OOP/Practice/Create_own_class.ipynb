{
 "cells": [
  {
   "cell_type": "code",
   "execution_count": 1,
   "metadata": {},
   "outputs": [],
   "source": [
    "\"\"\"Group class exercise\"\"\"\n",
    "\"\"\"I've created a class called cars with attributes and methods\"\"\"\n",
    "\n",
    "class Vehicles:\n",
    "    \"\"\"1st - Create a constructor with different attributes\"\"\"\n",
    "    def __init__(self, model, color, style, price, max_speed):\n",
    "        self.model = model\n",
    "        self.color = color\n",
    "        self.style = style\n",
    "        self.price = price\n",
    "        self.max_speed = max_speed\n",
    "\n",
    "\n",
    "    def change_price(self, price): #need to ask\n",
    "        self.price = price \n",
    "    \n",
    "\n",
    "    def calculate_vehicle_taxation(self, taxation):\n",
    "        \"\"\"Calculate the Italian vehicle taxation\"\"\"\n",
    "        self.taxatin = taxation\n",
    "        taxation_price = self.price * (1 + self.taxatin)\n",
    "        return taxation_price\n",
    "\n",
    "\n",
    "    def calculate_discount(self, discount):\n",
    "        \"\"\"Set discount formula\"\"\"\n",
    "        self.discount = discount\n",
    "        discount_price = self.price * (1 - self.discount)\n",
    "        return discount_price\n",
    "\n",
    "    # def calculate_luxury_vehicle(self, luxury):\n",
    "    #     \"\"\"I set a special tax for luxory vehicles\"\"\"\n",
    "    #     self.luxury = luxury\n",
    "    #     \"\"\"I'd like to set an if - else statement but at the moment I've no clue\"\"\"\n",
    "    #     luxory_taxation = self.price * (1 + self.luxury)\n",
    "    #     return luxory_taxation\n",
    "\n",
    "\n",
    "class Car (Vehicles):\n",
    "    \"\"\"I created a sub-class called Car inside the main class Vehicles\"\"\"\n",
    "    def __init__(self, model, color, style, price, max_speed, luxury):\n",
    "        super().__init__(model, color, style, price, max_speed)\n",
    "        self.luxury = luxury\n",
    "\n",
    "    \"\"\"I set the double price formula for luxory cars. My goal was adapt an if - else statment\"\"\"\n",
    "    def double_price(self):\n",
    "        return self.price * 2\n",
    "\n",
    "\n",
    "class Motorcycle (Vehicles):\n",
    "    \"\"\"I created a sub-class called Motorcycle inside the main class Vehicles\"\"\"\n",
    "    def __init__(self, model, color, style, price, max_speed, customization):\n",
    "        super().__init__(model, color, style, price, max_speed)\n",
    "        self.customization = customization\n",
    "\n",
    "\n",
    "    \"\"\"I defined the formula for the customization\"\"\"\n",
    "\n",
    "    def customization_price (self):\n",
    "        return self.customization * 1.25 #I'm not sure about this formula, because the customization will increase the total price\n",
    "\n",
    "    \n",
    "\n",
    "\n"
   ]
  },
  {
   "cell_type": "code",
   "execution_count": null,
   "metadata": {},
   "outputs": [],
   "source": []
  },
  {
   "cell_type": "code",
   "execution_count": 4,
   "metadata": {},
   "outputs": [
    {
     "name": "stdout",
     "output_type": "stream",
     "text": [
      "<class '__main__.Car'>\n"
     ]
    }
   ],
   "source": [
    "print(Car)"
   ]
  },
  {
   "cell_type": "code",
   "execution_count": 5,
   "metadata": {},
   "outputs": [
    {
     "name": "stdout",
     "output_type": "stream",
     "text": [
      "16800.0\n"
     ]
    }
   ],
   "source": [
    "cars_forniture = Car(\"Alfa Romeo\", \"Red\", \"Sport car\", 24000, 240, False)\n",
    "\n",
    "\"\"\"Calculate the discount\"\"\"\n",
    "\n",
    "cars_forniture = cars_forniture.calculate_discount(0.30)\n",
    "print(cars_forniture)"
   ]
  },
  {
   "cell_type": "code",
   "execution_count": 6,
   "metadata": {},
   "outputs": [
    {
     "name": "stdout",
     "output_type": "stream",
     "text": [
      "130000.0\n"
     ]
    }
   ],
   "source": [
    "cars_taxation = Car(\"Ferrari\", \"Red\", \"Luxury car\", 100000, 300, True)\n",
    "\n",
    "\n",
    "cars_taxation = cars_taxation.calculate_vehicle_taxation(0.3)\n",
    "print(cars_taxation)"
   ]
  },
  {
   "cell_type": "code",
   "execution_count": 8,
   "metadata": {},
   "outputs": [
    {
     "ename": "TypeError",
     "evalue": "Motorcycle.__init__() takes 6 positional arguments but 7 were given",
     "output_type": "error",
     "traceback": [
      "\u001b[1;31m---------------------------------------------------------------------------\u001b[0m",
      "\u001b[1;31mTypeError\u001b[0m                                 Traceback (most recent call last)",
      "\u001b[1;32m~\\AppData\\Local\\Temp/ipykernel_1836/3060295552.py\u001b[0m in \u001b[0;36m<module>\u001b[1;34m\u001b[0m\n\u001b[1;32m----> 1\u001b[1;33m \u001b[0mmotorcycle_customization\u001b[0m \u001b[1;33m=\u001b[0m \u001b[0mMotorcycle\u001b[0m\u001b[1;33m(\u001b[0m\u001b[1;34m\"harley davidson\"\u001b[0m\u001b[1;33m,\u001b[0m \u001b[1;34m\"black\"\u001b[0m\u001b[1;33m,\u001b[0m \u001b[1;34m\"custom\"\u001b[0m\u001b[1;33m,\u001b[0m \u001b[1;36m27000\u001b[0m\u001b[1;33m,\u001b[0m \u001b[1;36m200\u001b[0m\u001b[1;33m,\u001b[0m \u001b[1;32mTrue\u001b[0m\u001b[1;33m)\u001b[0m\u001b[1;33m\u001b[0m\u001b[1;33m\u001b[0m\u001b[0m\n\u001b[0m\u001b[0;32m      2\u001b[0m \u001b[1;33m\u001b[0m\u001b[0m\n\u001b[0;32m      3\u001b[0m \u001b[0mmotorcycle_customization\u001b[0m \u001b[1;33m=\u001b[0m \u001b[0mmotorcycle_customization\u001b[0m\u001b[1;33m.\u001b[0m\u001b[0mcustomization_price\u001b[0m\u001b[1;33m(\u001b[0m\u001b[1;33m)\u001b[0m\u001b[1;33m\u001b[0m\u001b[1;33m\u001b[0m\u001b[0m\n\u001b[0;32m      4\u001b[0m \u001b[0mprint\u001b[0m\u001b[1;33m(\u001b[0m\u001b[0mmotorcycle_customization\u001b[0m\u001b[1;33m)\u001b[0m\u001b[1;33m\u001b[0m\u001b[1;33m\u001b[0m\u001b[0m\n",
      "\u001b[1;31mTypeError\u001b[0m: Motorcycle.__init__() takes 6 positional arguments but 7 were given"
     ]
    }
   ],
   "source": [
    "motorcycle_customization = Motorcycle(\"harley davidson\", \"black\", \"custom\", 27000, 200, True)\n",
    "\n",
    "motorcycle_customization = motorcycle_customization.customization_price()\n",
    "print(motorcycle_customization)"
   ]
  }
 ],
 "metadata": {
  "interpreter": {
   "hash": "430b7d4413b2177f05b848cb6acb02b7196cdff9e6dac31e1a37def6732e5784"
  },
  "kernelspec": {
   "display_name": "Python 3.9.7 ('Strive')",
   "language": "python",
   "name": "python3"
  },
  "language_info": {
   "codemirror_mode": {
    "name": "ipython",
    "version": 3
   },
   "file_extension": ".py",
   "mimetype": "text/x-python",
   "name": "python",
   "nbconvert_exporter": "python",
   "pygments_lexer": "ipython3",
   "version": "3.10.0"
  },
  "orig_nbformat": 4
 },
 "nbformat": 4,
 "nbformat_minor": 2
}
