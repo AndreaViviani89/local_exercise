{
  "cells": [
    {
      "cell_type": "markdown",
      "metadata": {
        "id": "VSIsAF-Enrv5"
      },
      "source": [
        "# Inheritance Exercise Clothing\n",
        "\n",
        "The following code contains a Clothing parent class and two children classes: Shirt Pants and Blouse. Read through the code and fill out the TODOs. "
      ]
    },
    {
      "cell_type": "code",
      "execution_count": 3,
      "metadata": {
        "id": "bO3T1fppnrwB"
      },
      "outputs": [],
      "source": [
        "class Clothing:\n",
        "\n",
        "  #TODO: Create a class called clothing that has following attributes and methods\n",
        "    # attributes: color, size, style, price\n",
        "\n",
        "    # methods: change_price, calculate_discount & calculate shipping\n",
        "    \"\"\"1st step create the class with attributes and methods\"\"\"\n",
        "    \n",
        "    def __init__(self, color, size, style, price):\n",
        "        self.color = color\n",
        "        self.size = size\n",
        "        self.style = style\n",
        "        self.price = price\n",
        "\n",
        "\n",
        "    def change_price(self, price):\n",
        "        self.price = price\n",
        "        \n",
        "    # calculate discount by multiplying self price and (1 - discount)\n",
        "    # return the discount value\n",
        "    \n",
        "    \"\"\"calculate the discount\"\"\"\n",
        "\n",
        "    def calculate_discount(self, discount):\n",
        "        self.discount = discount\n",
        "        discount = self.price * (1 - self.discount)\n",
        "        return self.discount\n",
        "  \n",
        "\n",
        "    # shipping price = weight * rate\n",
        "    # return the shipping value \n",
        "\n",
        "    \"\"\"calculate the shipping price\"\"\"\n",
        "    def calculate_shipping(self, weight, rate):\n",
        "        self.weight = weight\n",
        "        self.rate = rate\n",
        "        self.shipping_price = self.weight * self.rate # I'm not about this string\n",
        "        return self.shipping_price\n",
        "\n",
        "class Shirt(Clothing):\n",
        "\n",
        "  #TODO: Create a class called shirt that has following attributes and methods\n",
        "    # attributes: color, size, style, price, long_or_short\n",
        "\n",
        "    # methods: double_price, which has no inputs and returns two times\n",
        "    # the price of the blouse\n",
        "\n",
        "    \"\"\"create a class called Shirt and calculate the double price --> self.price * 2\"\"\" \n",
        "    \"\"\"here I made a mistake I should use \"\"\"\n",
        "    # def __init__(self, color, size, style, price, long_or_short):\n",
        "    #     self.color = color\n",
        "    #     self.size = size\n",
        "    #     self.style = style\n",
        "    #     self.style = price\n",
        "    #     self.long_or_short = long_or_short\n",
        "\n",
        "    def __init__(self, color, size, style, price, long_or_short):\n",
        "        super().__init__(color, size, style, price)\n",
        "\n",
        "        self.price = price\n",
        "        self.long_or_short = long_or_short\n",
        "\n",
        "\n",
        "    def double_price(self):\n",
        "        return self.price * 2\n",
        "    \n",
        "class Pants(Clothing):\n",
        "    \"\"\"create a class called Pants and calculate the discount\"\"\"\n",
        "    \"\"\"Here the same mistake\"\"\"\n",
        "\n",
        "    # def __init__(self, color, size, style, price, waist):\n",
        "    #     self.color = color\n",
        "    #     self.size = size\n",
        "    #     self.style = style\n",
        "    #     self.price = price\n",
        "    #     self.waist = waist\n",
        "\n",
        "    def __init__(self, color, size, style, price, waist):\n",
        "        super().__init__(color, size, style,price)\n",
        "        self.waist = waist\n",
        "\n",
        "    def calculate_discount(self, discount):\n",
        "        self.discount = discount\n",
        "        discount = self.price * (1 - self.discount)\n",
        "        return self.discount\n",
        "    \n",
        "# TODO: Write a class called Blouse, that inherits from the Clothing class\n",
        "# and has the the following attributes and methods:\n",
        "#   attributes: color, size, style, price, country_of_origin\n",
        "#     where country_of_origin is a string that holds the name of a \n",
        "#     country\n",
        "#\n",
        "#   methods: triple_price, which has no inputs and returns three times\n",
        "#     the price of the blouse\n",
        "#\n",
        "#\n",
        "\n",
        "\"\"\"Another mistake here\"\"\"\n",
        "\n",
        "class Blouse(Clothing):\n",
        "#     def __init__(self, color, size, style, price, country_of_origin):\n",
        "#         self.color = color\n",
        "#         self.size = size\n",
        "#         self.style = style\n",
        "#         self.price = price\n",
        "#         self.country_of_origin = country_of_origin\n",
        "    def __init__(self, color, size, style, price, country_of_origin):\n",
        "        super().__init__(color, size, style, price)\n",
        "        self.__price = price\n",
        "        self.country_of_origin = country_of_origin\n",
        "\n",
        "        \n",
        "        \n",
        "    def triple_price(self):\n",
        "        return self.price * 3\n",
        "\n",
        "# TODO: Add a method to the clothing class called calculate_shipping.\n",
        "#   The method has two inputs: weight and rate. Weight is a float\n",
        "#   representing the weight of the article of clothing. Rate is a float\n",
        "#   representing the shipping weight. The method returns weight * rate\n",
        "\n"
      ]
    },
    {
      "cell_type": "code",
      "execution_count": 9,
      "metadata": {
        "id": "UbeA6QBmnrwE"
      },
      "outputs": [
        {
          "name": "stdout",
          "output_type": "stream",
          "text": [
            "86.8\n",
            "0.25\n"
          ]
        }
      ],
      "source": [
        "clothing_class = Clothing('Red', 27, 'Vintage', 21)\n",
        "\n",
        "\"\"\"calculate the discount and the shipping price\"\"\"\n",
        "\n",
        "print(clothing_class.calculate_shipping(15.5, 5.6))\n",
        "\n",
        "print(clothing_class.calculate_discount(0.25))"
      ]
    },
    {
      "cell_type": "code",
      "execution_count": null,
      "metadata": {
        "id": "nlrkB2OAnrwH"
      },
      "outputs": [],
      "source": []
    }
  ],
  "metadata": {
    "colab": {
      "collapsed_sections": [],
      "name": "inheritance-exercise-clothing.ipynb",
      "provenance": []
    },
    "kernelspec": {
      "display_name": "Python 3",
      "language": "python",
      "name": "python3"
    },
    "language_info": {
      "codemirror_mode": {
        "name": "ipython",
        "version": 3
      },
      "file_extension": ".py",
      "mimetype": "text/x-python",
      "name": "python",
      "nbconvert_exporter": "python",
      "pygments_lexer": "ipython3",
      "version": "3.10.0"
    }
  },
  "nbformat": 4,
  "nbformat_minor": 0
}
