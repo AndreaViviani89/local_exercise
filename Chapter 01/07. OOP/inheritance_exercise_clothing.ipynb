{
  "cells": [
    {
      "cell_type": "markdown",
      "metadata": {
        "id": "VSIsAF-Enrv5"
      },
      "source": [
        "# Inheritance Exercise Clothing\n",
        "\n",
        "The following code contains a Clothing parent class and two children classes: Shirt Pants and Blouse. Read through the code and fill out the TODOs. "
      ]
    },
    {
      "cell_type": "code",
      "execution_count": 30,
      "metadata": {
        "id": "bO3T1fppnrwB"
      },
      "outputs": [],
      "source": [
        "class Clothing:\n",
        "\n",
        "  #TODO: Create a class called clothing that has following attributes and methods\n",
        "    # attributes: color, size, style, price\n",
        "\n",
        "    # methods: change_price, calculate_discount & calculate shipping\n",
        "    \"\"\"1st step create the class with attributes and methods\"\"\"\n",
        "    \n",
        "    def __init__(self, color, size, style, price):\n",
        "        self.color = color\n",
        "        self.size = size\n",
        "        self.style = style\n",
        "        self.price = price #these strings are attribute\n",
        "\n",
        "\n",
        "    def change_price(self, price):\n",
        "        self.price = price\n",
        "        \n",
        "    # calculate discount by multiplying self price and (1 - discount)\n",
        "    # return the discount value\n",
        "    \n",
        "    \n",
        "\n",
        "    def calculate_discount(self, discount):\n",
        "        \"\"\"calculate the discount\"\"\"\n",
        "        self.discount = discount\n",
        "        discount_price = self.price * (1 - self.discount)\n",
        "        return discount_price\n",
        "  \n",
        "\n",
        "    # shipping price = weight * rate\n",
        "    # return the shipping value \n",
        "\n",
        "    \"\"\"calculate the shipping price\"\"\"\n",
        "    def calculate_shipping(self, weight, rate):\n",
        "        self.weight = weight\n",
        "        self.rate = rate\n",
        "        self.shipping_price = self.weight * self.rate \n",
        "        return self.shipping_price\n",
        "\n",
        "class Shirt(Clothing):\n",
        "\n",
        "  #TODO: Create a class called shirt that has following attributes and methods\n",
        "    # attributes: color, size, style, price, long_or_short\n",
        "\n",
        "    # methods: double_price, which has no inputs and returns two times\n",
        "    # the price of the blouse\n",
        "\n",
        "    \"\"\"create a class called Shirt and calculate the double price --> self.price * 2\"\"\" \n",
        "    \"\"\"here I made a mistake I should use \"\"\"\n",
        "    # def __init__(self, color, size, style, price, long_or_short):\n",
        "    #     self.color = color\n",
        "    #     self.size = size\n",
        "    #     self.style = style\n",
        "    #     self.style = price\n",
        "    #     self.long_or_short = long_or_short\n",
        "\n",
        "    def __init__(self, color, size, style, price, long_or_short):\n",
        "        super().__init__(color, size, style, price)\n",
        "\n",
        "        # self.price = price\n",
        "        self.long_or_short = long_or_short\n",
        "\n",
        "\n",
        "    def double_price(self):\n",
        "        return self.price * 2\n",
        "    \n",
        "class Pants(Clothing):\n",
        "    \"\"\"create a class called Pants and calculate the discount\"\"\"\n",
        "    \"\"\"Here the same mistake\"\"\"\n",
        "\n",
        "    # def __init__(self, color, size, style, price, waist):\n",
        "    #     self.color = color\n",
        "    #     self.size = size\n",
        "    #     self.style = style\n",
        "    #     self.price = price\n",
        "    #     self.waist = waist\n",
        "\n",
        "    def __init__(self, color, size, style, price, waist):\n",
        "        super().__init__(color, size, style,price)\n",
        "        self.waist = waist\n",
        "\n",
        "    def calculate_discount(self, discount): #For private we need to add __ ---> self.__discount\n",
        "        # self.discount = discount\n",
        "        discount_price = self.price * (1 - discount)\n",
        "        return discount_price\n",
        "    \n",
        "# TODO: Write a class called Blouse, that inherits from the Clothing class\n",
        "# and has the the following attributes and methods:\n",
        "#   attributes: color, size, style, price, country_of_origin\n",
        "#     where country_of_origin is a string that holds the name of a \n",
        "#     country\n",
        "#\n",
        "#   methods: triple_price, which has no inputs and returns three times\n",
        "#     the price of the blouse\n",
        "#\n",
        "#\n",
        "\n",
        "\"\"\"Another mistake here\"\"\"\n",
        "\n",
        "class Blouse(Clothing):\n",
        "#     def __init__(self, color, size, style, price, country_of_origin):\n",
        "#         self.color = color\n",
        "#         self.size = size\n",
        "#         self.style = style\n",
        "#         self.price = price\n",
        "#         self.country_of_origin = country_of_origin\n",
        "    def __init__(self, color, size, style, price, country_of_origin):\n",
        "        super().__init__(color, size, style, price)\n",
        "        self.price = price\n",
        "        self.country_of_origin = country_of_origin\n",
        "\n",
        "        \n",
        "        \n",
        "    def triple_price(self):\n",
        "        return self.price * 3\n",
        "\n",
        "# TODO: Add a method to the clothing class called calculate_shipping.\n",
        "#   The method has two inputs: weight and rate. Weight is a float\n",
        "#   representing the weight of the article of clothing. Rate is a float\n",
        "#   representing the shipping weight. The method returns weight * rate\n",
        "\n"
      ]
    },
    {
      "cell_type": "code",
      "execution_count": 35,
      "metadata": {
        "id": "UbeA6QBmnrwE"
      },
      "outputs": [
        {
          "name": "stdout",
          "output_type": "stream",
          "text": [
            "21\n",
            "86.8\n",
            "15.75\n"
          ]
        }
      ],
      "source": [
        "#Instance --> print(cloting) per verificare l'instance\n",
        "\n",
        "clothing_class = Clothing('Red', 27, 'Vintage', 21)\n",
        "\n",
        "\"\"\"calculate the discount and the shipping price\"\"\"\n",
        "print(clothing_class.price)\n",
        "\n",
        "print(clothing_class.calculate_shipping(15.5, 5.6))\n",
        "\n",
        "print(clothing_class.calculate_discount(0.25))"
      ]
    },
    {
      "cell_type": "code",
      "execution_count": 32,
      "metadata": {
        "id": "nlrkB2OAnrwH"
      },
      "outputs": [
        {
          "data": {
            "text/plain": [
              "140"
            ]
          },
          "execution_count": 32,
          "metadata": {},
          "output_type": "execute_result"
        }
      ],
      "source": [
        "op_shirt = Shirt(\"Green\", 32, \"Formal\", 70, \"long\")\n",
        "op_shirt.double_price()"
      ]
    },
    {
      "cell_type": "code",
      "execution_count": 33,
      "metadata": {},
      "outputs": [
        {
          "data": {
            "text/plain": [
              "48.75"
            ]
          },
          "execution_count": 33,
          "metadata": {},
          "output_type": "execute_result"
        }
      ],
      "source": [
        "op_pants = Pants(\"Black\", 42, \"Casual\", 75, \"Italy\")\n",
        "op_pants.calculate_discount(0.35)"
      ]
    },
    {
      "cell_type": "code",
      "execution_count": 34,
      "metadata": {},
      "outputs": [
        {
          "data": {
            "text/plain": [
              "360"
            ]
          },
          "execution_count": 34,
          "metadata": {},
          "output_type": "execute_result"
        }
      ],
      "source": [
        "op_blouse = Blouse(\"Red\", 37, \"Hipster\", 120, \"Italy\")\n",
        "op_blouse.triple_price()"
      ]
    }
  ],
  "metadata": {
    "colab": {
      "collapsed_sections": [],
      "name": "inheritance-exercise-clothing.ipynb",
      "provenance": []
    },
    "kernelspec": {
      "display_name": "Python 3",
      "language": "python",
      "name": "python3"
    },
    "language_info": {
      "codemirror_mode": {
        "name": "ipython",
        "version": 3
      },
      "file_extension": ".py",
      "mimetype": "text/x-python",
      "name": "python",
      "nbconvert_exporter": "python",
      "pygments_lexer": "ipython3",
      "version": "3.9.7"
    }
  },
  "nbformat": 4,
  "nbformat_minor": 0
}
