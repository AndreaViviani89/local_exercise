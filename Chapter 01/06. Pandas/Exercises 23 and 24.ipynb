{
 "cells": [
  {
   "cell_type": "code",
   "execution_count": null,
   "metadata": {},
   "outputs": [],
   "source": [
    "#23 --> Given a DataFrame of numeric values, say\n",
    "#df = pd.DataFrame(np.random.random(size=(5, 3))) # a 5x3 frame of float values\n",
    "#how do you subtract the row mean from each element in the row?"
   ]
  },
  {
   "cell_type": "code",
   "execution_count": 15,
   "metadata": {},
   "outputs": [
    {
     "name": "stdout",
     "output_type": "stream",
     "text": [
      "          0         1         2\n",
      "0  0.940107  0.582014  0.878832\n",
      "1  0.844734  0.905392  0.459880\n",
      "2  0.546347  0.798604  0.285719\n",
      "3  0.490254  0.599110  0.015533\n",
      "4  0.593481  0.433676  0.807361\n"
     ]
    },
    {
     "data": {
      "text/html": [
       "<div>\n",
       "<style scoped>\n",
       "    .dataframe tbody tr th:only-of-type {\n",
       "        vertical-align: middle;\n",
       "    }\n",
       "\n",
       "    .dataframe tbody tr th {\n",
       "        vertical-align: top;\n",
       "    }\n",
       "\n",
       "    .dataframe thead th {\n",
       "        text-align: right;\n",
       "    }\n",
       "</style>\n",
       "<table border=\"1\" class=\"dataframe\">\n",
       "  <thead>\n",
       "    <tr style=\"text-align: right;\">\n",
       "      <th></th>\n",
       "      <th>0</th>\n",
       "      <th>1</th>\n",
       "      <th>2</th>\n",
       "    </tr>\n",
       "  </thead>\n",
       "  <tbody>\n",
       "    <tr>\n",
       "      <th>0</th>\n",
       "      <td>0.139790</td>\n",
       "      <td>-0.218304</td>\n",
       "      <td>0.078514</td>\n",
       "    </tr>\n",
       "    <tr>\n",
       "      <th>1</th>\n",
       "      <td>0.108065</td>\n",
       "      <td>0.168723</td>\n",
       "      <td>-0.276789</td>\n",
       "    </tr>\n",
       "    <tr>\n",
       "      <th>2</th>\n",
       "      <td>0.002790</td>\n",
       "      <td>0.255047</td>\n",
       "      <td>-0.257838</td>\n",
       "    </tr>\n",
       "    <tr>\n",
       "      <th>3</th>\n",
       "      <td>0.121954</td>\n",
       "      <td>0.230811</td>\n",
       "      <td>-0.352766</td>\n",
       "    </tr>\n",
       "    <tr>\n",
       "      <th>4</th>\n",
       "      <td>-0.018025</td>\n",
       "      <td>-0.177830</td>\n",
       "      <td>0.195854</td>\n",
       "    </tr>\n",
       "  </tbody>\n",
       "</table>\n",
       "</div>"
      ],
      "text/plain": [
       "          0         1         2\n",
       "0  0.139790 -0.218304  0.078514\n",
       "1  0.108065  0.168723 -0.276789\n",
       "2  0.002790  0.255047 -0.257838\n",
       "3  0.121954  0.230811 -0.352766\n",
       "4 -0.018025 -0.177830  0.195854"
      ]
     },
     "execution_count": 15,
     "metadata": {},
     "output_type": "execute_result"
    }
   ],
   "source": [
    "import pandas as pd\n",
    "import numpy as np\n",
    "'''\n",
    "df = pd.DataFrame(np.random.random(size=(5, 3))) # a 5x3 frame of float values\n",
    "df.mean(axis=1)\n",
    "\n",
    "'''\n",
    "df = pd.DataFrame(np.random.random(size=(5, 3)))\n",
    "print(df)\n",
    "df.sub(df.mean(axis=1), axis=0)\n",
    "\n",
    "\n",
    "\n"
   ]
  },
  {
   "cell_type": "code",
   "execution_count": 17,
   "metadata": {},
   "outputs": [
    {
     "name": "stdout",
     "output_type": "stream",
     "text": [
      "          a         b         c         d         e         f         g  \\\n",
      "0  0.519012  0.770884  0.568858  0.465710  0.342689  0.068209  0.377924   \n",
      "1  0.811859  0.874962  0.688413  0.569494  0.160971  0.466880  0.345172   \n",
      "2  0.916306  0.909636  0.257118  0.110891  0.192963  0.499584  0.728586   \n",
      "3  0.415849  0.616685  0.233666  0.101967  0.515857  0.477141  0.152672   \n",
      "4  0.144546  0.751528  0.222049  0.519352  0.785296  0.022330  0.324362   \n",
      "\n",
      "          h         i         j  \n",
      "0  0.079626  0.982817  0.181613  \n",
      "1  0.225040  0.592512  0.312270  \n",
      "2  0.208194  0.248034  0.851672  \n",
      "3  0.621806  0.544010  0.654137  \n",
      "4  0.872922  0.844710  0.538441  \n",
      "a    4\n",
      "b    3\n",
      "c    4\n",
      "d    3\n",
      "e    1\n",
      "f    4\n",
      "g    3\n",
      "h    0\n",
      "i    2\n",
      "j    0\n",
      "dtype: int64\n"
     ]
    }
   ],
   "source": [
    "#24\n",
    "# Suppose you have DataFrame with 10 columns of real numbers, for example:\n",
    "# df = pd.DataFrame(np.random.random(size=(5, 10)), columns=list('abcdefghij'))\n",
    "# Which column of numbers has the smallest sum? (Find that column's label.)\n",
    "\n",
    "df = pd.DataFrame(np.random.random(size=(5, 10)), columns=list('abcdefghij'))\n",
    "print(df)\n",
    "\n",
    "#I think I need to use idxmin\n",
    "\n",
    "column = df.idxmin()\n",
    "print(column)\n",
    "\n"
   ]
  }
 ],
 "metadata": {
  "interpreter": {
   "hash": "430b7d4413b2177f05b848cb6acb02b7196cdff9e6dac31e1a37def6732e5784"
  },
  "kernelspec": {
   "display_name": "Python 3.9.7 ('Strive')",
   "language": "python",
   "name": "python3"
  },
  "language_info": {
   "codemirror_mode": {
    "name": "ipython",
    "version": 3
   },
   "file_extension": ".py",
   "mimetype": "text/x-python",
   "name": "python",
   "nbconvert_exporter": "python",
   "pygments_lexer": "ipython3",
   "version": "3.10.0"
  },
  "orig_nbformat": 4
 },
 "nbformat": 4,
 "nbformat_minor": 2
}
