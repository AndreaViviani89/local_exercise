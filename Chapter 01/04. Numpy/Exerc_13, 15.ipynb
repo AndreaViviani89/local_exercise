{
 "cells": [
  {
   "cell_type": "code",
   "execution_count": 1,
   "id": "a0046b7f",
   "metadata": {},
   "outputs": [],
   "source": [
    "# Import the needed libraries\n",
    "import numpy as np"
   ]
  },
  {
   "cell_type": "markdown",
   "id": "27781914",
   "metadata": {},
   "source": [
    "**13. Create a 10x10 array with random values and find the minimum and maximum values**"
   ]
  },
  {
   "cell_type": "code",
   "execution_count": 4,
   "id": "b2dc8a76",
   "metadata": {},
   "outputs": [],
   "source": [
    "# 1 point\n",
    "sol1 = 0\n",
    "# YOUR CODE HERE\n",
    "sol1 = np.random.normal(size = (10,10))\n",
    "\n"
   ]
  },
  {
   "cell_type": "code",
   "execution_count": 11,
   "id": "df739d51",
   "metadata": {},
   "outputs": [],
   "source": [
    "assert sol1.shape == (10,10)"
   ]
  },
  {
   "cell_type": "markdown",
   "id": "7014a719",
   "metadata": {},
   "source": [
    "**15. Create a 2d 10x10 array with 1 on the border and 0 inside**"
   ]
  },
  {
   "cell_type": "code",
   "execution_count": 5,
   "id": "c1946869",
   "metadata": {},
   "outputs": [],
   "source": [
    "#1 points\n",
    "sol2 = 0\n",
    "\n",
    "# YOUR CODE HERE\n",
    "sol2 = np.ones((10,10))\n",
    "sol2[1:-1,1:-1] = 0"
   ]
  },
  {
   "cell_type": "code",
   "execution_count": 6,
   "id": "f8bb3cd2",
   "metadata": {},
   "outputs": [],
   "source": [
    "assert sol2.shape == (10,10)\n",
    "assert sol2[0].all() == 1\n",
    "assert sol2[:,0].all() == 1\n",
    "assert sol2[1][1] == 0\n",
    "assert sol2[2][2] == 0\n",
    "assert sol2[3][3] == 0\n",
    "assert sol2[4][4] == 0\n",
    "assert sol2[1][2] == 0\n",
    "assert sol2[2][3] == 0\n",
    "assert sol2[3][4] == 0\n",
    "assert sol2[4][5] == 0"
   ]
  },
  {
   "cell_type": "code",
   "execution_count": 14,
   "id": "1d4333b6",
   "metadata": {},
   "outputs": [
    {
     "ename": "NotImplementedError",
     "evalue": "",
     "output_type": "error",
     "traceback": [
      "\u001b[1;31m---------------------------------------------------------------------------\u001b[0m",
      "\u001b[1;31mNotImplementedError\u001b[0m                       Traceback (most recent call last)",
      "\u001b[1;32m~\\AppData\\Local\\Temp/ipykernel_20452/1651702614.py\u001b[0m in \u001b[0;36m<module>\u001b[1;34m\u001b[0m\n\u001b[0;32m      3\u001b[0m \u001b[1;33m\u001b[0m\u001b[0m\n\u001b[0;32m      4\u001b[0m \u001b[1;31m# YOUR CODE HERE\u001b[0m\u001b[1;33m\u001b[0m\u001b[1;33m\u001b[0m\u001b[0m\n\u001b[1;32m----> 5\u001b[1;33m \u001b[1;32mraise\u001b[0m \u001b[0mNotImplementedError\u001b[0m\u001b[1;33m(\u001b[0m\u001b[1;33m)\u001b[0m\u001b[1;33m\u001b[0m\u001b[1;33m\u001b[0m\u001b[0m\n\u001b[0m",
      "\u001b[1;31mNotImplementedError\u001b[0m: "
     ]
    }
   ],
   "source": [
    "#2 points\n",
    "sol3 = 0\n",
    "\n",
    "# YOUR CODE HERE\n",
    "raise NotImplementedError()"
   ]
  },
  {
   "cell_type": "code",
   "execution_count": null,
   "id": "dc103a5c",
   "metadata": {},
   "outputs": [],
   "source": [
    "assert sol3.shape == (31,)\n",
    "assert type(sol3[0]) is np.datetime64"
   ]
  },
  {
   "cell_type": "code",
   "execution_count": 7,
   "id": "f9d3a6cc",
   "metadata": {},
   "outputs": [
    {
     "name": "stdout",
     "output_type": "stream",
     "text": [
      "[[8.61550781e-01 9.86191707e-02 3.38956892e-01 4.23024103e-01\n",
      "  4.05831570e-01 5.33868633e-01 8.18868503e-01 2.30997897e-01\n",
      "  9.76772995e-01 1.36462896e-01]\n",
      " [2.89105065e-01 7.33690109e-01 6.70211468e-01 7.05028980e-01\n",
      "  1.33864100e-01 6.86931500e-01 4.15691237e-01 6.98792818e-01\n",
      "  6.91137708e-04 8.55946329e-01]\n",
      " [7.78825240e-01 5.61017946e-01 2.13492092e-01 6.88690309e-01\n",
      "  7.92636734e-01 8.97104826e-03 7.68965617e-01 4.72888857e-02\n",
      "  2.26663532e-01 7.82296765e-01]\n",
      " [7.02884132e-01 9.22509643e-01 7.32987194e-01 1.69999396e-01\n",
      "  6.28917164e-02 5.18406313e-01 7.70837560e-01 5.29915593e-01\n",
      "  9.23005007e-01 1.78964630e-01]\n",
      " [7.93663569e-01 7.45264025e-01 3.59155177e-01 4.09123501e-01\n",
      "  1.23519487e-01 2.72195884e-01 1.44090346e-01 7.01189877e-01\n",
      "  1.55597514e-01 4.50992295e-02]\n",
      " [6.28102867e-01 7.65945493e-01 4.33266951e-01 8.28634587e-01\n",
      "  3.60999065e-01 3.36078780e-01 7.12535771e-01 1.70723500e-01\n",
      "  6.85545114e-01 8.37701795e-01]\n",
      " [1.31604330e-01 5.13855668e-01 6.69231843e-02 6.66298817e-01\n",
      "  5.19719593e-01 3.09210218e-01 2.99836205e-01 5.78236113e-01\n",
      "  7.88450964e-01 8.78558022e-01]\n",
      " [7.46329701e-01 9.78891124e-01 5.69396654e-01 8.63206627e-01\n",
      "  8.08226601e-01 8.47920422e-01 5.94326524e-02 2.65984005e-01\n",
      "  6.37018573e-01 9.58591898e-01]\n",
      " [1.39360582e-01 7.40467979e-01 1.94678175e-01 4.95148763e-01\n",
      "  9.13270011e-01 5.79611745e-01 5.76609953e-02 3.21273219e-01\n",
      "  2.99206935e-01 1.38424195e-01]\n",
      " [1.87316812e-01 2.83168287e-01 1.31640422e-01 2.13566646e-01\n",
      "  4.52979314e-01 4.51460539e-01 2.46961571e-01 8.49909873e-01\n",
      "  4.65116166e-01 5.57740593e-01]]\n"
     ]
    },
    {
     "ename": "TypeError",
     "evalue": "can only concatenate str (not \"numpy.float64\") to str",
     "output_type": "error",
     "traceback": [
      "\u001b[1;31m---------------------------------------------------------------------------\u001b[0m",
      "\u001b[1;31mTypeError\u001b[0m                                 Traceback (most recent call last)",
      "\u001b[1;32m~\\AppData\\Local\\Temp/ipykernel_7204/611305889.py\u001b[0m in \u001b[0;36m<module>\u001b[1;34m\u001b[0m\n\u001b[0;32m      1\u001b[0m \u001b[0mg\u001b[0m\u001b[1;33m=\u001b[0m\u001b[0mnp\u001b[0m\u001b[1;33m.\u001b[0m\u001b[0mrandom\u001b[0m\u001b[1;33m.\u001b[0m\u001b[0mrandom\u001b[0m\u001b[1;33m(\u001b[0m\u001b[1;33m(\u001b[0m\u001b[1;36m10\u001b[0m\u001b[1;33m,\u001b[0m\u001b[1;36m10\u001b[0m\u001b[1;33m)\u001b[0m\u001b[1;33m)\u001b[0m\u001b[1;33m\u001b[0m\u001b[1;33m\u001b[0m\u001b[0m\n\u001b[0;32m      2\u001b[0m \u001b[0mprint\u001b[0m\u001b[1;33m(\u001b[0m\u001b[0mg\u001b[0m\u001b[1;33m)\u001b[0m\u001b[1;33m\u001b[0m\u001b[1;33m\u001b[0m\u001b[0m\n\u001b[1;32m----> 3\u001b[1;33m \u001b[0mprint\u001b[0m\u001b[1;33m(\u001b[0m\u001b[1;34m\"the maximum number is \"\u001b[0m\u001b[1;33m+\u001b[0m \u001b[0mg\u001b[0m\u001b[1;33m.\u001b[0m\u001b[0mmax\u001b[0m\u001b[1;33m(\u001b[0m\u001b[1;33m)\u001b[0m\u001b[1;33m)\u001b[0m\u001b[1;33m\u001b[0m\u001b[1;33m\u001b[0m\u001b[0m\n\u001b[0m\u001b[0;32m      4\u001b[0m \u001b[0mprint\u001b[0m\u001b[1;33m(\u001b[0m\u001b[1;34m\"the minimum number is \"\u001b[0m\u001b[1;33m+\u001b[0m\u001b[0mg\u001b[0m\u001b[1;33m.\u001b[0m\u001b[0mmin\u001b[0m\u001b[1;33m(\u001b[0m\u001b[1;33m)\u001b[0m\u001b[1;33m)\u001b[0m\u001b[1;33m\u001b[0m\u001b[1;33m\u001b[0m\u001b[0m\n",
      "\u001b[1;31mTypeError\u001b[0m: can only concatenate str (not \"numpy.float64\") to str"
     ]
    }
   ],
   "source": []
  }
 ],
 "metadata": {
  "kernelspec": {
   "display_name": "Python 3 (ipykernel)",
   "language": "python",
   "name": "python3"
  },
  "language_info": {
   "codemirror_mode": {
    "name": "ipython",
    "version": 3
   },
   "file_extension": ".py",
   "mimetype": "text/x-python",
   "name": "python",
   "nbconvert_exporter": "python",
   "pygments_lexer": "ipython3",
   "version": "3.9.7"
  }
 },
 "nbformat": 4,
 "nbformat_minor": 5
}
