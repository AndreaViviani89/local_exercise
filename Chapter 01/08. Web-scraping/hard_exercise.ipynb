{
 "cells": [
  {
   "cell_type": "code",
   "execution_count": 16,
   "metadata": {},
   "outputs": [],
   "source": [
    "import requests\n",
    "from bs4 import BeautifulSoup\n",
    "import pandas as pd\n",
    "from datetime import date"
   ]
  },
  {
   "cell_type": "code",
   "execution_count": 17,
   "metadata": {},
   "outputs": [
    {
     "name": "stdout",
     "output_type": "stream",
     "text": [
      "<Response [200]>\n"
     ]
    }
   ],
   "source": [
    "\"\"\"Extract the web page\"\"\"\n",
    "\n",
    "url = \"https://weather.com/weather/tenday/l/San+Francisco+CA?canonicalCityId=dfdaba8cbe3a4d12a8796e1f7b1ccc7174b4b0a2d5ddb1c8566ae9f154fa638c\"\n",
    "\n",
    "page = requests.get(url)\n",
    "print(page)"
   ]
  },
  {
   "cell_type": "code",
   "execution_count": 18,
   "metadata": {},
   "outputs": [],
   "source": [
    "\"\"\"Scrapping\"\"\"\n",
    "\n",
    "soup = BeautifulSoup(page.content, \"html.parser\")\n"
   ]
  },
  {
   "cell_type": "code",
   "execution_count": 19,
   "metadata": {},
   "outputs": [
    {
     "data": {
      "text/plain": [
       "['Mon 14 | Day',\n",
       " 'Mon 14 | Night',\n",
       " 'Tue 15 | Day',\n",
       " 'Tue 15 | Night',\n",
       " 'Wed 16 | Day',\n",
       " 'Wed 16 | Night',\n",
       " 'Thu 17 | Day',\n",
       " 'Thu 17 | Night',\n",
       " 'Fri 18 | Day',\n",
       " 'Fri 18 | Night',\n",
       " 'Sat 19 | Day',\n",
       " 'Sat 19 | Night',\n",
       " 'Sun 20 | Day',\n",
       " 'Sun 20 | Night',\n",
       " 'Mon 21 | Day',\n",
       " 'Mon 21 | Night',\n",
       " 'Tue 22 | Day',\n",
       " 'Tue 22 | Night',\n",
       " 'Wed 23 | Day',\n",
       " 'Wed 23 | Night']"
      ]
     },
     "execution_count": 19,
     "metadata": {},
     "output_type": "execute_result"
    }
   ],
   "source": [
    "# week_days = soup.find_all(\"h3\", class_= \"DailyContent--daypartName--1bzYn\")[1:11]\n",
    "# print(week_days)\n",
    "\n",
    "\"\"\"Extract the 10 days\"\"\"\n",
    "\n",
    "week_days = []\n",
    "weather_week_days = soup.find_all(\"h3\", class_= \"DailyContent--daypartName--1bzYn\")[1:21]\n",
    "for i in weather_week_days:\n",
    "    # print(i.text)\n",
    "    week_days.append(i.text)\n",
    "\n",
    "week_days"
   ]
  },
  {
   "cell_type": "code",
   "execution_count": 20,
   "metadata": {},
   "outputs": [
    {
     "data": {
      "text/plain": [
       "['Intervals of clouds and sunshine. High 61F. Winds SSW at 10 to 15 mph.',\n",
       " 'Rain showers in the evening will evolve into a more steady rain overnight. Low 53F. Winds SSW at 5 to 10 mph. Chance of rain 80%.',\n",
       " 'Cloudy. Slight chance of a rain shower. High 58F. Winds WSW at 10 to 20 mph.',\n",
       " 'Clear to partly cloudy. Low around 45F. Winds WNW at 10 to 15 mph.',\n",
       " 'Sunshine and clouds mixed. High 61F. Winds WNW at 10 to 20 mph.',\n",
       " 'Partly cloudy skies early will become overcast later during the night. Low 47F. Winds W at 10 to 15 mph.',\n",
       " 'Cloudy skies early, then partly cloudy in the afternoon. High near 60F. Winds W at 10 to 15 mph.',\n",
       " 'Partly cloudy. Low 47F. Winds W at 10 to 15 mph.',\n",
       " 'Partly cloudy. High 62F. Winds W at 10 to 20 mph.',\n",
       " 'Considerable cloudiness. Occasional rain showers later at night. Low 49F. Winds WSW at 10 to 15 mph. Chance of rain 50%.',\n",
       " 'A steady rain in the morning. Showers continuing in the afternoon. High 56F. Winds WSW at 15 to 25 mph. Chance of rain 80%. Rainfall near a quarter of an inch.',\n",
       " 'A few clouds from time to time. Low 44F. Winds NW at 15 to 25 mph.',\n",
       " 'Sunshine in the morning followed by partly cloudy skies and gusty winds during the afternoon. High 57F. Winds NW at 20 to 30 mph.',\n",
       " 'A few clouds from time to time. Low around 45F. Winds NW at 15 to 25 mph.',\n",
       " 'Mostly sunny skies. High 62F. Winds WNW at 10 to 20 mph.',\n",
       " 'A few clouds from time to time. Low 47F. Winds WNW at 10 to 15 mph.',\n",
       " 'Sunny. High 66F. Winds WNW at 10 to 15 mph.',\n",
       " 'Clear to partly cloudy. Low 48F. Winds WNW at 10 to 15 mph.',\n",
       " 'Except for a few afternoon clouds, mainly sunny. High 68F. Winds WNW at 10 to 15 mph.',\n",
       " 'Mostly clear skies. Low 48F. Winds WNW at 10 to 15 mph.']"
      ]
     },
     "execution_count": 20,
     "metadata": {},
     "output_type": "execute_result"
    }
   ],
   "source": [
    "\"\"\"Extract the short description of the conditions\"\"\"\n",
    "\n",
    "description = []\n",
    "\n",
    "weather_description = soup.find_all(\"p\", class_= \"DailyContent--narrative--hplRl\") [1:21]\n",
    "\n",
    "for i in weather_description:\n",
    "    description.append(i.text)\n",
    "\n",
    "description\n",
    "\n"
   ]
  },
  {
   "cell_type": "code",
   "execution_count": 21,
   "metadata": {},
   "outputs": [
    {
     "data": {
      "text/plain": [
       "['61',\n",
       " '53',\n",
       " '58',\n",
       " '45',\n",
       " '61',\n",
       " '47',\n",
       " '60',\n",
       " '47',\n",
       " '62',\n",
       " '49',\n",
       " '56',\n",
       " '44',\n",
       " '57',\n",
       " '45',\n",
       " '62',\n",
       " '47',\n",
       " '66',\n",
       " '48',\n",
       " '68',\n",
       " '48']"
      ]
     },
     "execution_count": 21,
     "metadata": {},
     "output_type": "execute_result"
    }
   ],
   "source": [
    "\"\"\"Extract the temperature\"\"\"\n",
    "\n",
    "temperature = []\n",
    "\n",
    "weather_temperature = soup.find_all(\"span\", class_= \"DailyContent--temp--3d4dn\")[1:21]\n",
    "\n",
    "for i in weather_temperature:\n",
    "    temperature.append(i.text.split(\"°\")[0])\n",
    "\n",
    "temperature\n",
    "\n"
   ]
  },
  {
   "cell_type": "code",
   "execution_count": 22,
   "metadata": {},
   "outputs": [
    {
     "data": {
      "text/plain": [
       "[16, 12, 14, 7, 16, 8, 16, 8, 17, 9, 13, 7, 14, 7, 17, 8, 19, 9, 20, 9]"
      ]
     },
     "execution_count": 22,
     "metadata": {},
     "output_type": "execute_result"
    }
   ],
   "source": [
    "\"\"\"Temperature convertion: from fahrenheit to celsius\n",
    "Formula --> C = 5/9 x (F-32)\"\"\"\n",
    "\n",
    "celsius = []\n",
    "\n",
    "for fahrenheit in temperature:\n",
    "    celsius.append(round((5/9) * (float(fahrenheit) - 32)))\n",
    "    # print(type(int(fahrenheit)))\n",
    "\n",
    "celsius"
   ]
  },
  {
   "cell_type": "code",
   "execution_count": 23,
   "metadata": {},
   "outputs": [
    {
     "data": {
      "text/html": [
       "<div>\n",
       "<style scoped>\n",
       "    .dataframe tbody tr th:only-of-type {\n",
       "        vertical-align: middle;\n",
       "    }\n",
       "\n",
       "    .dataframe tbody tr th {\n",
       "        vertical-align: top;\n",
       "    }\n",
       "\n",
       "    .dataframe thead th {\n",
       "        text-align: right;\n",
       "    }\n",
       "</style>\n",
       "<table border=\"1\" class=\"dataframe\">\n",
       "  <thead>\n",
       "    <tr style=\"text-align: right;\">\n",
       "      <th></th>\n",
       "      <th>Days_week</th>\n",
       "      <th>Description</th>\n",
       "      <th>Temperature</th>\n",
       "    </tr>\n",
       "  </thead>\n",
       "  <tbody>\n",
       "    <tr>\n",
       "      <th>0</th>\n",
       "      <td>Mon 14 | Day</td>\n",
       "      <td>Intervals of clouds and sunshine. High 61F. Wi...</td>\n",
       "      <td>16</td>\n",
       "    </tr>\n",
       "    <tr>\n",
       "      <th>1</th>\n",
       "      <td>Mon 14 | Night</td>\n",
       "      <td>Rain showers in the evening will evolve into a...</td>\n",
       "      <td>12</td>\n",
       "    </tr>\n",
       "    <tr>\n",
       "      <th>2</th>\n",
       "      <td>Tue 15 | Day</td>\n",
       "      <td>Cloudy. Slight chance of a rain shower. High 5...</td>\n",
       "      <td>14</td>\n",
       "    </tr>\n",
       "    <tr>\n",
       "      <th>3</th>\n",
       "      <td>Tue 15 | Night</td>\n",
       "      <td>Clear to partly cloudy. Low around 45F. Winds ...</td>\n",
       "      <td>7</td>\n",
       "    </tr>\n",
       "    <tr>\n",
       "      <th>4</th>\n",
       "      <td>Wed 16 | Day</td>\n",
       "      <td>Sunshine and clouds mixed. High 61F. Winds WNW...</td>\n",
       "      <td>16</td>\n",
       "    </tr>\n",
       "    <tr>\n",
       "      <th>5</th>\n",
       "      <td>Wed 16 | Night</td>\n",
       "      <td>Partly cloudy skies early will become overcast...</td>\n",
       "      <td>8</td>\n",
       "    </tr>\n",
       "    <tr>\n",
       "      <th>6</th>\n",
       "      <td>Thu 17 | Day</td>\n",
       "      <td>Cloudy skies early, then partly cloudy in the ...</td>\n",
       "      <td>16</td>\n",
       "    </tr>\n",
       "    <tr>\n",
       "      <th>7</th>\n",
       "      <td>Thu 17 | Night</td>\n",
       "      <td>Partly cloudy. Low 47F. Winds W at 10 to 15 mph.</td>\n",
       "      <td>8</td>\n",
       "    </tr>\n",
       "    <tr>\n",
       "      <th>8</th>\n",
       "      <td>Fri 18 | Day</td>\n",
       "      <td>Partly cloudy. High 62F. Winds W at 10 to 20 mph.</td>\n",
       "      <td>17</td>\n",
       "    </tr>\n",
       "    <tr>\n",
       "      <th>9</th>\n",
       "      <td>Fri 18 | Night</td>\n",
       "      <td>Considerable cloudiness. Occasional rain showe...</td>\n",
       "      <td>9</td>\n",
       "    </tr>\n",
       "    <tr>\n",
       "      <th>10</th>\n",
       "      <td>Sat 19 | Day</td>\n",
       "      <td>A steady rain in the morning. Showers continui...</td>\n",
       "      <td>13</td>\n",
       "    </tr>\n",
       "    <tr>\n",
       "      <th>11</th>\n",
       "      <td>Sat 19 | Night</td>\n",
       "      <td>A few clouds from time to time. Low 44F. Winds...</td>\n",
       "      <td>7</td>\n",
       "    </tr>\n",
       "    <tr>\n",
       "      <th>12</th>\n",
       "      <td>Sun 20 | Day</td>\n",
       "      <td>Sunshine in the morning followed by partly clo...</td>\n",
       "      <td>14</td>\n",
       "    </tr>\n",
       "    <tr>\n",
       "      <th>13</th>\n",
       "      <td>Sun 20 | Night</td>\n",
       "      <td>A few clouds from time to time. Low around 45F...</td>\n",
       "      <td>7</td>\n",
       "    </tr>\n",
       "    <tr>\n",
       "      <th>14</th>\n",
       "      <td>Mon 21 | Day</td>\n",
       "      <td>Mostly sunny skies. High 62F. Winds WNW at 10 ...</td>\n",
       "      <td>17</td>\n",
       "    </tr>\n",
       "    <tr>\n",
       "      <th>15</th>\n",
       "      <td>Mon 21 | Night</td>\n",
       "      <td>A few clouds from time to time. Low 47F. Winds...</td>\n",
       "      <td>8</td>\n",
       "    </tr>\n",
       "    <tr>\n",
       "      <th>16</th>\n",
       "      <td>Tue 22 | Day</td>\n",
       "      <td>Sunny. High 66F. Winds WNW at 10 to 15 mph.</td>\n",
       "      <td>19</td>\n",
       "    </tr>\n",
       "    <tr>\n",
       "      <th>17</th>\n",
       "      <td>Tue 22 | Night</td>\n",
       "      <td>Clear to partly cloudy. Low 48F. Winds WNW at ...</td>\n",
       "      <td>9</td>\n",
       "    </tr>\n",
       "    <tr>\n",
       "      <th>18</th>\n",
       "      <td>Wed 23 | Day</td>\n",
       "      <td>Except for a few afternoon clouds, mainly sunn...</td>\n",
       "      <td>20</td>\n",
       "    </tr>\n",
       "    <tr>\n",
       "      <th>19</th>\n",
       "      <td>Wed 23 | Night</td>\n",
       "      <td>Mostly clear skies. Low 48F. Winds WNW at 10 t...</td>\n",
       "      <td>9</td>\n",
       "    </tr>\n",
       "  </tbody>\n",
       "</table>\n",
       "</div>"
      ],
      "text/plain": [
       "         Days_week                                        Description  \\\n",
       "0     Mon 14 | Day  Intervals of clouds and sunshine. High 61F. Wi...   \n",
       "1   Mon 14 | Night  Rain showers in the evening will evolve into a...   \n",
       "2     Tue 15 | Day  Cloudy. Slight chance of a rain shower. High 5...   \n",
       "3   Tue 15 | Night  Clear to partly cloudy. Low around 45F. Winds ...   \n",
       "4     Wed 16 | Day  Sunshine and clouds mixed. High 61F. Winds WNW...   \n",
       "5   Wed 16 | Night  Partly cloudy skies early will become overcast...   \n",
       "6     Thu 17 | Day  Cloudy skies early, then partly cloudy in the ...   \n",
       "7   Thu 17 | Night   Partly cloudy. Low 47F. Winds W at 10 to 15 mph.   \n",
       "8     Fri 18 | Day  Partly cloudy. High 62F. Winds W at 10 to 20 mph.   \n",
       "9   Fri 18 | Night  Considerable cloudiness. Occasional rain showe...   \n",
       "10    Sat 19 | Day  A steady rain in the morning. Showers continui...   \n",
       "11  Sat 19 | Night  A few clouds from time to time. Low 44F. Winds...   \n",
       "12    Sun 20 | Day  Sunshine in the morning followed by partly clo...   \n",
       "13  Sun 20 | Night  A few clouds from time to time. Low around 45F...   \n",
       "14    Mon 21 | Day  Mostly sunny skies. High 62F. Winds WNW at 10 ...   \n",
       "15  Mon 21 | Night  A few clouds from time to time. Low 47F. Winds...   \n",
       "16    Tue 22 | Day        Sunny. High 66F. Winds WNW at 10 to 15 mph.   \n",
       "17  Tue 22 | Night  Clear to partly cloudy. Low 48F. Winds WNW at ...   \n",
       "18    Wed 23 | Day  Except for a few afternoon clouds, mainly sunn...   \n",
       "19  Wed 23 | Night  Mostly clear skies. Low 48F. Winds WNW at 10 t...   \n",
       "\n",
       "    Temperature  \n",
       "0            16  \n",
       "1            12  \n",
       "2            14  \n",
       "3             7  \n",
       "4            16  \n",
       "5             8  \n",
       "6            16  \n",
       "7             8  \n",
       "8            17  \n",
       "9             9  \n",
       "10           13  \n",
       "11            7  \n",
       "12           14  \n",
       "13            7  \n",
       "14           17  \n",
       "15            8  \n",
       "16           19  \n",
       "17            9  \n",
       "18           20  \n",
       "19            9  "
      ]
     },
     "execution_count": 23,
     "metadata": {},
     "output_type": "execute_result"
    }
   ],
   "source": [
    "pd = pd.DataFrame({\"Days_week\" : week_days,\n",
    "\"Description\" : description,\n",
    "\"Temperature\" : celsius})\n",
    "\n",
    "pd"
   ]
  }
 ],
 "metadata": {
  "interpreter": {
   "hash": "430b7d4413b2177f05b848cb6acb02b7196cdff9e6dac31e1a37def6732e5784"
  },
  "kernelspec": {
   "display_name": "Python 3.9.7 ('Strive')",
   "language": "python",
   "name": "python3"
  },
  "language_info": {
   "codemirror_mode": {
    "name": "ipython",
    "version": 3
   },
   "file_extension": ".py",
   "mimetype": "text/x-python",
   "name": "python",
   "nbconvert_exporter": "python",
   "pygments_lexer": "ipython3",
   "version": "3.9.7"
  },
  "orig_nbformat": 4
 },
 "nbformat": 4,
 "nbformat_minor": 2
}
