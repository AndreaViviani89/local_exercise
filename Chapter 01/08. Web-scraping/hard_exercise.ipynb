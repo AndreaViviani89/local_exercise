{
 "cells": [
  {
   "cell_type": "code",
   "execution_count": 1,
   "metadata": {},
   "outputs": [],
   "source": [
    "import requests\n",
    "from bs4 import BeautifulSoup\n",
    "import pandas as pd\n",
    "from datetime import date"
   ]
  },
  {
   "cell_type": "code",
   "execution_count": 2,
   "metadata": {},
   "outputs": [
    {
     "name": "stdout",
     "output_type": "stream",
     "text": [
      "<Response [200]>\n"
     ]
    }
   ],
   "source": [
    "\"\"\"Extract the web page\"\"\"\n",
    "\n",
    "url = \"https://weather.com/weather/tenday/l/San+Francisco+CA?canonicalCityId=dfdaba8cbe3a4d12a8796e1f7b1ccc7174b4b0a2d5ddb1c8566ae9f154fa638c\"\n",
    "\n",
    "page = requests.get(url)\n",
    "print(page)"
   ]
  },
  {
   "cell_type": "code",
   "execution_count": 3,
   "metadata": {},
   "outputs": [],
   "source": [
    "\"\"\"Scrapping\"\"\"\n",
    "\n",
    "soup = BeautifulSoup(page.content, \"html.parser\")\n"
   ]
  },
  {
   "cell_type": "code",
   "execution_count": 14,
   "metadata": {},
   "outputs": [
    {
     "data": {
      "text/plain": [
       "['Sun 13 | Night',\n",
       " 'Mon 14 | Day',\n",
       " 'Mon 14 | Night',\n",
       " 'Tue 15 | Day',\n",
       " 'Tue 15 | Night',\n",
       " 'Wed 16 | Day',\n",
       " 'Wed 16 | Night',\n",
       " 'Thu 17 | Day',\n",
       " 'Thu 17 | Night',\n",
       " 'Fri 18 | Day',\n",
       " 'Fri 18 | Night',\n",
       " 'Sat 19 | Day',\n",
       " 'Sat 19 | Night',\n",
       " 'Sun 20 | Day',\n",
       " 'Sun 20 | Night',\n",
       " 'Mon 21 | Day',\n",
       " 'Mon 21 | Night',\n",
       " 'Tue 22 | Day',\n",
       " 'Tue 22 | Night',\n",
       " 'Wed 23 | Day']"
      ]
     },
     "execution_count": 14,
     "metadata": {},
     "output_type": "execute_result"
    }
   ],
   "source": [
    "# week_days = soup.find_all(\"h3\", class_= \"DailyContent--daypartName--1bzYn\")[1:11]\n",
    "# print(week_days)\n",
    "\n",
    "\"\"\"Extract the 10 days\"\"\"\n",
    "\n",
    "week_days = []\n",
    "weather_week_days = soup.find_all(\"h3\", class_= \"DailyContent--daypartName--1bzYn\")[1:21]\n",
    "for i in weather_week_days:\n",
    "    # print(i.text)\n",
    "    week_days.append(i.text)\n",
    "\n",
    "week_days"
   ]
  },
  {
   "cell_type": "code",
   "execution_count": 16,
   "metadata": {},
   "outputs": [
    {
     "data": {
      "text/plain": [
       "['Partly cloudy this evening with more clouds for overnight. Low 43F. Winds W at 10 to 15 mph.',\n",
       " 'Partly cloudy skies. High near 60F. Winds SW at 10 to 15 mph.',\n",
       " 'Occasional light rain. Low 52F. Winds SSW at 5 to 10 mph. Chance of rain 70%.',\n",
       " 'Rain showers early with overcast skies later in the day. High 58F. Winds WSW at 10 to 20 mph. Chance of rain 70%.',\n",
       " 'Partly cloudy. Low near 45F. Winds WNW at 10 to 15 mph.',\n",
       " 'Some clouds in the morning will give way to mainly sunny skies for the afternoon. High 61F. Winds WNW at 10 to 20 mph.',\n",
       " 'Partly cloudy skies during the evening will give way to cloudy skies overnight. Low 47F. Winds W at 10 to 15 mph.',\n",
       " 'Cloudy early, becoming mostly sunny in the afternoon. High near 60F. Winds W at 10 to 15 mph.',\n",
       " 'Partly cloudy. Low 46F. Winds WSW at 10 to 15 mph.',\n",
       " 'Intervals of clouds and sunshine. High 62F. Winds W at 10 to 15 mph.',\n",
       " 'Considerable cloudiness. Occasional rain showers later at night. Low 48F. Winds WSW at 5 to 10 mph. Chance of rain 50%.',\n",
       " 'Rain early...then remaining cloudy with showers in the afternoon. High 56F. Winds WSW at 15 to 25 mph. Chance of rain 70%. Rainfall around a quarter of an inch.',\n",
       " 'Some clouds early will give way to generally clear conditions overnight. Low 43F. Winds WNW at 15 to 25 mph.',\n",
       " 'Generally sunny despite a few afternoon clouds. High around 60F. Winds WNW at 15 to 25 mph.',\n",
       " 'Mostly clear skies. Low 44F. Winds NW at 10 to 20 mph.',\n",
       " 'Mostly sunny skies. High 62F. Winds WNW at 10 to 20 mph.',\n",
       " 'Generally fair. Low 46F. Winds WNW at 10 to 15 mph.',\n",
       " 'Mostly sunny skies. High near 65F. Winds WNW at 10 to 15 mph.',\n",
       " 'A few clouds. Low 47F. Winds WNW at 10 to 15 mph.',\n",
       " 'Intervals of clouds and sunshine. High 68F. Winds WNW at 10 to 15 mph.']"
      ]
     },
     "execution_count": 16,
     "metadata": {},
     "output_type": "execute_result"
    }
   ],
   "source": [
    "\"\"\"Extract the short description of the conditions\"\"\"\n",
    "\n",
    "description = []\n",
    "\n",
    "weather_description = soup.find_all(\"p\", class_= \"DailyContent--narrative--hplRl\") [1:21]\n",
    "\n",
    "for i in weather_description:\n",
    "    description.append(i.text)\n",
    "\n",
    "description\n",
    "\n"
   ]
  },
  {
   "cell_type": "code",
   "execution_count": 25,
   "metadata": {},
   "outputs": [
    {
     "ename": "TypeError",
     "evalue": "unsupported operand type(s) for -: 'str' and 'int'",
     "output_type": "error",
     "traceback": [
      "\u001b[1;31m---------------------------------------------------------------------------\u001b[0m",
      "\u001b[1;31mTypeError\u001b[0m                                 Traceback (most recent call last)",
      "\u001b[1;32m~\\AppData\\Local\\Temp/ipykernel_15236/1284248288.py\u001b[0m in \u001b[0;36m<module>\u001b[1;34m\u001b[0m\n\u001b[0;32m     18\u001b[0m \u001b[1;33m\u001b[0m\u001b[0m\n\u001b[0;32m     19\u001b[0m \u001b[1;32mfor\u001b[0m \u001b[0mi\u001b[0m \u001b[1;32min\u001b[0m \u001b[0mtemperature\u001b[0m\u001b[1;33m:\u001b[0m\u001b[1;33m\u001b[0m\u001b[1;33m\u001b[0m\u001b[0m\n\u001b[1;32m---> 20\u001b[1;33m     \u001b[0mcelsius\u001b[0m\u001b[1;33m.\u001b[0m\u001b[0mappend\u001b[0m\u001b[1;33m(\u001b[0m\u001b[0mround\u001b[0m\u001b[1;33m(\u001b[0m\u001b[1;33m(\u001b[0m\u001b[1;36m5\u001b[0m\u001b[1;33m/\u001b[0m\u001b[1;36m9\u001b[0m\u001b[1;33m)\u001b[0m \u001b[1;33m*\u001b[0m \u001b[1;33m(\u001b[0m\u001b[0mi\u001b[0m \u001b[1;33m-\u001b[0m \u001b[1;36m32\u001b[0m\u001b[1;33m)\u001b[0m\u001b[1;33m)\u001b[0m\u001b[1;33m)\u001b[0m\u001b[1;33m\u001b[0m\u001b[1;33m\u001b[0m\u001b[0m\n\u001b[0m\u001b[0;32m     21\u001b[0m \u001b[1;33m\u001b[0m\u001b[0m\n\u001b[0;32m     22\u001b[0m \u001b[0mcelsius\u001b[0m\u001b[1;33m\u001b[0m\u001b[1;33m\u001b[0m\u001b[0m\n",
      "\u001b[1;31mTypeError\u001b[0m: unsupported operand type(s) for -: 'str' and 'int'"
     ]
    }
   ],
   "source": [
    "\"\"\"Extract the temperature\"\"\"\n",
    "\n",
    "temperature = []\n",
    "\n",
    "weather_temperature = soup.find_all(\"span\", class_= \"DailyContent--temp--3d4dn\")[1:21]\n",
    "\n",
    "for i in weather_temperature:\n",
    "    temperature.append(i.text.split(\"°\")[0])\n",
    "\n",
    "temperature\n",
    "\n",
    "\n",
    "\"\"\"Temperature convertion: from fahrenheit to celsius\n",
    "Formula --> C = 5/9 x (F-32)\"\"\"\n",
    "\n",
    "celsius = []\n",
    "\n",
    "for i in temperature:\n",
    "    celsius.append(round((5/9) * (i - 32)))\n",
    "\n",
    "celsius\n"
   ]
  }
 ],
 "metadata": {
  "interpreter": {
   "hash": "430b7d4413b2177f05b848cb6acb02b7196cdff9e6dac31e1a37def6732e5784"
  },
  "kernelspec": {
   "display_name": "Python 3.9.7 ('Strive')",
   "language": "python",
   "name": "python3"
  },
  "language_info": {
   "codemirror_mode": {
    "name": "ipython",
    "version": 3
   },
   "file_extension": ".py",
   "mimetype": "text/x-python",
   "name": "python",
   "nbconvert_exporter": "python",
   "pygments_lexer": "ipython3",
   "version": "3.10.0"
  },
  "orig_nbformat": 4
 },
 "nbformat": 4,
 "nbformat_minor": 2
}
