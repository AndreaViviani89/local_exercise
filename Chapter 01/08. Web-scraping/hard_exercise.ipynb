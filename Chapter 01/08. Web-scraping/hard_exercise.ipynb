{
 "cells": [
  {
   "cell_type": "code",
   "execution_count": 1,
   "metadata": {},
   "outputs": [],
   "source": [
    "import requests\n",
    "from bs4 import BeautifulSoup\n",
    "import pandas as pd\n",
    "from datetime import date"
   ]
  },
  {
   "cell_type": "code",
   "execution_count": 2,
   "metadata": {},
   "outputs": [
    {
     "name": "stdout",
     "output_type": "stream",
     "text": [
      "<Response [200]>\n"
     ]
    }
   ],
   "source": [
    "\"\"\"Extract the web page\"\"\"\n",
    "\n",
    "url = \"https://weather.com/weather/tenday/l/San+Francisco+CA?canonicalCityId=dfdaba8cbe3a4d12a8796e1f7b1ccc7174b4b0a2d5ddb1c8566ae9f154fa638c\"\n",
    "\n",
    "page = requests.get(url)\n",
    "print(page)"
   ]
  },
  {
   "cell_type": "code",
   "execution_count": 3,
   "metadata": {},
   "outputs": [],
   "source": [
    "\"\"\"Scrapping\"\"\"\n",
    "\n",
    "soup = BeautifulSoup(page.content, \"html.parser\")\n"
   ]
  },
  {
   "cell_type": "code",
   "execution_count": 4,
   "metadata": {},
   "outputs": [
    {
     "data": {
      "text/plain": [
       "['Mon 14 | Day',\n",
       " 'Mon 14 | Night',\n",
       " 'Tue 15 | Day',\n",
       " 'Tue 15 | Night',\n",
       " 'Wed 16 | Day',\n",
       " 'Wed 16 | Night',\n",
       " 'Thu 17 | Day',\n",
       " 'Thu 17 | Night',\n",
       " 'Fri 18 | Day',\n",
       " 'Fri 18 | Night',\n",
       " 'Sat 19 | Day',\n",
       " 'Sat 19 | Night',\n",
       " 'Sun 20 | Day',\n",
       " 'Sun 20 | Night',\n",
       " 'Mon 21 | Day',\n",
       " 'Mon 21 | Night',\n",
       " 'Tue 22 | Day',\n",
       " 'Tue 22 | Night',\n",
       " 'Wed 23 | Day',\n",
       " 'Wed 23 | Night']"
      ]
     },
     "execution_count": 4,
     "metadata": {},
     "output_type": "execute_result"
    }
   ],
   "source": [
    "# week_days = soup.find_all(\"h3\", class_= \"DailyContent--daypartName--1bzYn\")[1:11]\n",
    "# print(week_days)\n",
    "\n",
    "\"\"\"Extract the 10 days\"\"\"\n",
    "\n",
    "week_days = []\n",
    "weather_week_days = soup.find_all(\"h3\", class_= \"DailyContent--daypartName--1bzYn\")[1:21]\n",
    "for i in weather_week_days:\n",
    "    # print(i.text)\n",
    "    week_days.append(i.text)\n",
    "\n",
    "week_days"
   ]
  },
  {
   "cell_type": "code",
   "execution_count": 5,
   "metadata": {},
   "outputs": [
    {
     "data": {
      "text/plain": [
       "['Partly cloudy. High 62F. Winds SSW at 10 to 15 mph.',\n",
       " 'Rain showers in the evening becoming a steady light rain overnight. Low 53F. Winds SSW at 5 to 10 mph. Chance of rain 70%.',\n",
       " 'Overcast. Slight chance of a rain shower. High 59F. Winds WSW at 10 to 20 mph.',\n",
       " 'Mostly clear skies. Low 46F. Winds WNW at 10 to 15 mph.',\n",
       " 'Partly cloudy. High 61F. Winds W at 10 to 20 mph.',\n",
       " 'Partly cloudy skies early will become overcast later during the night. Low 48F. Winds W at 5 to 10 mph.',\n",
       " 'Partly to mostly cloudy. High near 60F. Winds WSW at 10 to 15 mph.',\n",
       " 'Partly cloudy. Low 47F. Winds W at 10 to 15 mph.',\n",
       " 'Partly cloudy. High 62F. Winds WSW at 10 to 15 mph.',\n",
       " 'Cloudy skies early with showers later at night. Low 49F. Winds WSW at 10 to 15 mph. Chance of rain 50%.',\n",
       " 'Rain early...then remaining cloudy with showers in the afternoon. High 57F. Winds WSW at 15 to 25 mph. Chance of rain 80%. Rainfall around a quarter of an inch.',\n",
       " 'A few clouds. Low 44F. Winds WNW at 15 to 25 mph.',\n",
       " 'Mostly sunny skies. Becoming windy during the afternoon. High 58F. Winds NW at 20 to 30 mph.',\n",
       " 'A few clouds from time to time. Low around 45F. Winds NW at 15 to 25 mph.',\n",
       " 'Mostly sunny skies. High 63F. Winds WNW at 10 to 20 mph.',\n",
       " 'Mostly clear. Low 48F. Winds WNW at 10 to 15 mph.',\n",
       " 'Sunny skies. High 67F. Winds WNW at 10 to 15 mph.',\n",
       " 'Mainly clear early, then a few clouds later on. Low 49F. Winds WNW at 10 to 15 mph.',\n",
       " 'Partly cloudy. High 68F. Winds WNW at 10 to 15 mph.',\n",
       " 'Mostly clear skies. Low 49F. Winds WNW at 10 to 15 mph.']"
      ]
     },
     "execution_count": 5,
     "metadata": {},
     "output_type": "execute_result"
    }
   ],
   "source": [
    "\"\"\"Extract the short description of the conditions\"\"\"\n",
    "\n",
    "description = []\n",
    "\n",
    "weather_description = soup.find_all(\"p\", class_= \"DailyContent--narrative--hplRl\") [1:21]\n",
    "\n",
    "for i in weather_description:\n",
    "    description.append(i.text)\n",
    "\n",
    "description\n",
    "\n"
   ]
  },
  {
   "cell_type": "code",
   "execution_count": 6,
   "metadata": {},
   "outputs": [
    {
     "data": {
      "text/plain": [
       "['62',\n",
       " '53',\n",
       " '59',\n",
       " '46',\n",
       " '61',\n",
       " '48',\n",
       " '60',\n",
       " '47',\n",
       " '62',\n",
       " '49',\n",
       " '57',\n",
       " '44',\n",
       " '58',\n",
       " '45',\n",
       " '63',\n",
       " '48',\n",
       " '67',\n",
       " '49',\n",
       " '68',\n",
       " '49']"
      ]
     },
     "execution_count": 6,
     "metadata": {},
     "output_type": "execute_result"
    }
   ],
   "source": [
    "\"\"\"Extract the temperature\"\"\"\n",
    "\n",
    "temperature = []\n",
    "\n",
    "weather_temperature = soup.find_all(\"span\", class_= \"DailyContent--temp--3d4dn\")[1:21]\n",
    "\n",
    "for i in weather_temperature:\n",
    "    temperature.append(i.text.split(\"°\")[0])\n",
    "\n",
    "temperature\n",
    "\n"
   ]
  },
  {
   "cell_type": "code",
   "execution_count": 7,
   "metadata": {},
   "outputs": [
    {
     "ename": "TypeError",
     "evalue": "unsupported operand type(s) for -: 'str' and 'int'",
     "output_type": "error",
     "traceback": [
      "\u001b[1;31m---------------------------------------------------------------------------\u001b[0m",
      "\u001b[1;31mTypeError\u001b[0m                                 Traceback (most recent call last)",
      "\u001b[1;32m~\\AppData\\Local\\Temp/ipykernel_19216/2950621237.py\u001b[0m in \u001b[0;36m<module>\u001b[1;34m\u001b[0m\n\u001b[0;32m      5\u001b[0m \u001b[1;33m\u001b[0m\u001b[0m\n\u001b[0;32m      6\u001b[0m \u001b[1;32mfor\u001b[0m \u001b[0mi\u001b[0m \u001b[1;32min\u001b[0m \u001b[0mtemperature\u001b[0m\u001b[1;33m:\u001b[0m\u001b[1;33m\u001b[0m\u001b[1;33m\u001b[0m\u001b[0m\n\u001b[1;32m----> 7\u001b[1;33m     \u001b[0mcelsius\u001b[0m\u001b[1;33m.\u001b[0m\u001b[0mappend\u001b[0m\u001b[1;33m(\u001b[0m\u001b[0mround\u001b[0m\u001b[1;33m(\u001b[0m\u001b[1;33m(\u001b[0m\u001b[1;36m5\u001b[0m\u001b[1;33m/\u001b[0m\u001b[1;36m9\u001b[0m\u001b[1;33m)\u001b[0m \u001b[1;33m*\u001b[0m \u001b[1;33m(\u001b[0m\u001b[0mi\u001b[0m \u001b[1;33m-\u001b[0m \u001b[1;36m32\u001b[0m\u001b[1;33m)\u001b[0m\u001b[1;33m)\u001b[0m\u001b[1;33m)\u001b[0m\u001b[1;33m\u001b[0m\u001b[1;33m\u001b[0m\u001b[0m\n\u001b[0m\u001b[0;32m      8\u001b[0m \u001b[1;33m\u001b[0m\u001b[0m\n\u001b[0;32m      9\u001b[0m \u001b[0mcelsius\u001b[0m\u001b[1;33m\u001b[0m\u001b[1;33m\u001b[0m\u001b[0m\n",
      "\u001b[1;31mTypeError\u001b[0m: unsupported operand type(s) for -: 'str' and 'int'"
     ]
    }
   ],
   "source": [
    "\"\"\"Temperature convertion: from fahrenheit to celsius\n",
    "Formula --> C = 5/9 x (F-32)\"\"\"\n",
    "\n",
    "celsius = []\n",
    "\n",
    "for i in temperature:\n",
    "    celsius.append(round((5/9) * (i - 32)))\n",
    "\n",
    "celsius"
   ]
  },
  {
   "cell_type": "code",
   "execution_count": 8,
   "metadata": {},
   "outputs": [
    {
     "data": {
      "text/html": [
       "<div>\n",
       "<style scoped>\n",
       "    .dataframe tbody tr th:only-of-type {\n",
       "        vertical-align: middle;\n",
       "    }\n",
       "\n",
       "    .dataframe tbody tr th {\n",
       "        vertical-align: top;\n",
       "    }\n",
       "\n",
       "    .dataframe thead th {\n",
       "        text-align: right;\n",
       "    }\n",
       "</style>\n",
       "<table border=\"1\" class=\"dataframe\">\n",
       "  <thead>\n",
       "    <tr style=\"text-align: right;\">\n",
       "      <th></th>\n",
       "      <th>Days_week</th>\n",
       "      <th>Description</th>\n",
       "      <th>Temperature</th>\n",
       "    </tr>\n",
       "  </thead>\n",
       "  <tbody>\n",
       "    <tr>\n",
       "      <th>0</th>\n",
       "      <td>Mon 14 | Day</td>\n",
       "      <td>Partly cloudy. High 62F. Winds SSW at 10 to 15...</td>\n",
       "      <td>62</td>\n",
       "    </tr>\n",
       "    <tr>\n",
       "      <th>1</th>\n",
       "      <td>Mon 14 | Night</td>\n",
       "      <td>Rain showers in the evening becoming a steady ...</td>\n",
       "      <td>53</td>\n",
       "    </tr>\n",
       "    <tr>\n",
       "      <th>2</th>\n",
       "      <td>Tue 15 | Day</td>\n",
       "      <td>Overcast. Slight chance of a rain shower. High...</td>\n",
       "      <td>59</td>\n",
       "    </tr>\n",
       "    <tr>\n",
       "      <th>3</th>\n",
       "      <td>Tue 15 | Night</td>\n",
       "      <td>Mostly clear skies. Low 46F. Winds WNW at 10 t...</td>\n",
       "      <td>46</td>\n",
       "    </tr>\n",
       "    <tr>\n",
       "      <th>4</th>\n",
       "      <td>Wed 16 | Day</td>\n",
       "      <td>Partly cloudy. High 61F. Winds W at 10 to 20 mph.</td>\n",
       "      <td>61</td>\n",
       "    </tr>\n",
       "    <tr>\n",
       "      <th>5</th>\n",
       "      <td>Wed 16 | Night</td>\n",
       "      <td>Partly cloudy skies early will become overcast...</td>\n",
       "      <td>48</td>\n",
       "    </tr>\n",
       "    <tr>\n",
       "      <th>6</th>\n",
       "      <td>Thu 17 | Day</td>\n",
       "      <td>Partly to mostly cloudy. High near 60F. Winds ...</td>\n",
       "      <td>60</td>\n",
       "    </tr>\n",
       "    <tr>\n",
       "      <th>7</th>\n",
       "      <td>Thu 17 | Night</td>\n",
       "      <td>Partly cloudy. Low 47F. Winds W at 10 to 15 mph.</td>\n",
       "      <td>47</td>\n",
       "    </tr>\n",
       "    <tr>\n",
       "      <th>8</th>\n",
       "      <td>Fri 18 | Day</td>\n",
       "      <td>Partly cloudy. High 62F. Winds WSW at 10 to 15...</td>\n",
       "      <td>62</td>\n",
       "    </tr>\n",
       "    <tr>\n",
       "      <th>9</th>\n",
       "      <td>Fri 18 | Night</td>\n",
       "      <td>Cloudy skies early with showers later at night...</td>\n",
       "      <td>49</td>\n",
       "    </tr>\n",
       "    <tr>\n",
       "      <th>10</th>\n",
       "      <td>Sat 19 | Day</td>\n",
       "      <td>Rain early...then remaining cloudy with shower...</td>\n",
       "      <td>57</td>\n",
       "    </tr>\n",
       "    <tr>\n",
       "      <th>11</th>\n",
       "      <td>Sat 19 | Night</td>\n",
       "      <td>A few clouds. Low 44F. Winds WNW at 15 to 25 mph.</td>\n",
       "      <td>44</td>\n",
       "    </tr>\n",
       "    <tr>\n",
       "      <th>12</th>\n",
       "      <td>Sun 20 | Day</td>\n",
       "      <td>Mostly sunny skies. Becoming windy during the ...</td>\n",
       "      <td>58</td>\n",
       "    </tr>\n",
       "    <tr>\n",
       "      <th>13</th>\n",
       "      <td>Sun 20 | Night</td>\n",
       "      <td>A few clouds from time to time. Low around 45F...</td>\n",
       "      <td>45</td>\n",
       "    </tr>\n",
       "    <tr>\n",
       "      <th>14</th>\n",
       "      <td>Mon 21 | Day</td>\n",
       "      <td>Mostly sunny skies. High 63F. Winds WNW at 10 ...</td>\n",
       "      <td>63</td>\n",
       "    </tr>\n",
       "    <tr>\n",
       "      <th>15</th>\n",
       "      <td>Mon 21 | Night</td>\n",
       "      <td>Mostly clear. Low 48F. Winds WNW at 10 to 15 mph.</td>\n",
       "      <td>48</td>\n",
       "    </tr>\n",
       "    <tr>\n",
       "      <th>16</th>\n",
       "      <td>Tue 22 | Day</td>\n",
       "      <td>Sunny skies. High 67F. Winds WNW at 10 to 15 mph.</td>\n",
       "      <td>67</td>\n",
       "    </tr>\n",
       "    <tr>\n",
       "      <th>17</th>\n",
       "      <td>Tue 22 | Night</td>\n",
       "      <td>Mainly clear early, then a few clouds later on...</td>\n",
       "      <td>49</td>\n",
       "    </tr>\n",
       "    <tr>\n",
       "      <th>18</th>\n",
       "      <td>Wed 23 | Day</td>\n",
       "      <td>Partly cloudy. High 68F. Winds WNW at 10 to 15...</td>\n",
       "      <td>68</td>\n",
       "    </tr>\n",
       "    <tr>\n",
       "      <th>19</th>\n",
       "      <td>Wed 23 | Night</td>\n",
       "      <td>Mostly clear skies. Low 49F. Winds WNW at 10 t...</td>\n",
       "      <td>49</td>\n",
       "    </tr>\n",
       "  </tbody>\n",
       "</table>\n",
       "</div>"
      ],
      "text/plain": [
       "         Days_week                                        Description  \\\n",
       "0     Mon 14 | Day  Partly cloudy. High 62F. Winds SSW at 10 to 15...   \n",
       "1   Mon 14 | Night  Rain showers in the evening becoming a steady ...   \n",
       "2     Tue 15 | Day  Overcast. Slight chance of a rain shower. High...   \n",
       "3   Tue 15 | Night  Mostly clear skies. Low 46F. Winds WNW at 10 t...   \n",
       "4     Wed 16 | Day  Partly cloudy. High 61F. Winds W at 10 to 20 mph.   \n",
       "5   Wed 16 | Night  Partly cloudy skies early will become overcast...   \n",
       "6     Thu 17 | Day  Partly to mostly cloudy. High near 60F. Winds ...   \n",
       "7   Thu 17 | Night   Partly cloudy. Low 47F. Winds W at 10 to 15 mph.   \n",
       "8     Fri 18 | Day  Partly cloudy. High 62F. Winds WSW at 10 to 15...   \n",
       "9   Fri 18 | Night  Cloudy skies early with showers later at night...   \n",
       "10    Sat 19 | Day  Rain early...then remaining cloudy with shower...   \n",
       "11  Sat 19 | Night  A few clouds. Low 44F. Winds WNW at 15 to 25 mph.   \n",
       "12    Sun 20 | Day  Mostly sunny skies. Becoming windy during the ...   \n",
       "13  Sun 20 | Night  A few clouds from time to time. Low around 45F...   \n",
       "14    Mon 21 | Day  Mostly sunny skies. High 63F. Winds WNW at 10 ...   \n",
       "15  Mon 21 | Night  Mostly clear. Low 48F. Winds WNW at 10 to 15 mph.   \n",
       "16    Tue 22 | Day  Sunny skies. High 67F. Winds WNW at 10 to 15 mph.   \n",
       "17  Tue 22 | Night  Mainly clear early, then a few clouds later on...   \n",
       "18    Wed 23 | Day  Partly cloudy. High 68F. Winds WNW at 10 to 15...   \n",
       "19  Wed 23 | Night  Mostly clear skies. Low 49F. Winds WNW at 10 t...   \n",
       "\n",
       "   Temperature  \n",
       "0           62  \n",
       "1           53  \n",
       "2           59  \n",
       "3           46  \n",
       "4           61  \n",
       "5           48  \n",
       "6           60  \n",
       "7           47  \n",
       "8           62  \n",
       "9           49  \n",
       "10          57  \n",
       "11          44  \n",
       "12          58  \n",
       "13          45  \n",
       "14          63  \n",
       "15          48  \n",
       "16          67  \n",
       "17          49  \n",
       "18          68  \n",
       "19          49  "
      ]
     },
     "execution_count": 8,
     "metadata": {},
     "output_type": "execute_result"
    }
   ],
   "source": [
    "pd = pd.DataFrame({\"Days_week\" : week_days,\n",
    "\"Description\" : description,\n",
    "\"Temperature\" : temperature})\n",
    "\n",
    "pd"
   ]
  }
 ],
 "metadata": {
  "interpreter": {
   "hash": "430b7d4413b2177f05b848cb6acb02b7196cdff9e6dac31e1a37def6732e5784"
  },
  "kernelspec": {
   "display_name": "Python 3.9.7 ('Strive')",
   "language": "python",
   "name": "python3"
  },
  "language_info": {
   "codemirror_mode": {
    "name": "ipython",
    "version": 3
   },
   "file_extension": ".py",
   "mimetype": "text/x-python",
   "name": "python",
   "nbconvert_exporter": "python",
   "pygments_lexer": "ipython3",
   "version": "3.10.0"
  },
  "orig_nbformat": 4
 },
 "nbformat": 4,
 "nbformat_minor": 2
}
