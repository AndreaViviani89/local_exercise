{
 "cells": [
  {
   "cell_type": "code",
   "execution_count": 2,
   "metadata": {},
   "outputs": [],
   "source": [
    "import requests\n",
    "from bs4 import BeautifulSoup\n",
    "import pandas as pd\n",
    "from datetime import date\n",
    "\n",
    "\n"
   ]
  },
  {
   "cell_type": "code",
   "execution_count": 3,
   "metadata": {},
   "outputs": [
    {
     "name": "stdout",
     "output_type": "stream",
     "text": [
      "<Response [200]>\n"
     ]
    }
   ],
   "source": [
    "page = requests.get('https://forecast.weather.gov/MapClick.php?x=276&y=148&site=lox&zmx=&zmy=&map_x=276&map_y=148#.YitNSDXSJD8')\n",
    "print(page)"
   ]
  },
  {
   "cell_type": "code",
   "execution_count": 4,
   "metadata": {},
   "outputs": [
    {
     "name": "stdout",
     "output_type": "stream",
     "text": [
      "2022-03-11\n"
     ]
    }
   ],
   "source": [
    "today = date.today()\n",
    "print(today)"
   ]
  },
  {
   "cell_type": "code",
   "execution_count": 5,
   "metadata": {},
   "outputs": [],
   "source": [
    "soup = BeautifulSoup(page.content, 'html.parser')\n"
   ]
  },
  {
   "cell_type": "code",
   "execution_count": 6,
   "metadata": {},
   "outputs": [],
   "source": [
    "\"\"\"I've scap the data from \"days\" colum on the label exept the first row\"\"\"\n",
    "\n",
    "days = soup.find_all(\"div\", class_= \"col-sm-2 forecast-label\")[1:10]\n"
   ]
  },
  {
   "cell_type": "code",
   "execution_count": 7,
   "metadata": {},
   "outputs": [],
   "source": [
    "\"\"\"I've scap the data from \"description\" column on the label exept the first row\"\"\"\n",
    "\n",
    "description = soup.find_all(\"div\", class_= \"col-sm-10 forecast-text\") [1:10]"
   ]
  },
  {
   "cell_type": "code",
   "execution_count": 8,
   "metadata": {},
   "outputs": [
    {
     "data": {
      "text/plain": [
       "['Tonight',\n",
       " 'Saturday',\n",
       " 'Saturday Night',\n",
       " 'Sunday',\n",
       " 'Sunday Night',\n",
       " 'Monday',\n",
       " 'Monday Night',\n",
       " 'Tuesday',\n",
       " 'Tuesday Night']"
      ]
     },
     "execution_count": 8,
     "metadata": {},
     "output_type": "execute_result"
    }
   ],
   "source": [
    "\"\"\"I've create a loop for days\"\"\"\n",
    "days_list = []\n",
    "for i in days:\n",
    "    # print(i.text)\n",
    "    days_list.append(i.text)\n",
    "\n",
    "days_list"
   ]
  },
  {
   "cell_type": "code",
   "execution_count": 9,
   "metadata": {},
   "outputs": [
    {
     "data": {
      "text/plain": [
       "['Mostly clear, with a low around 45. Northwest wind around 5 mph becoming northeast after midnight. ',\n",
       " 'Sunny, with a high near 76. North northeast wind 5 to 10 mph becoming west southwest in the afternoon. Winds could gust as high as 15 mph. ',\n",
       " 'Partly cloudy, with a low around 49. West southwest wind around 5 mph becoming northeast after midnight. ',\n",
       " 'Mostly sunny, with a high near 71. East northeast wind 5 to 15 mph becoming west southwest in the afternoon. Winds could gust as high as 20 mph. ',\n",
       " 'Partly cloudy, with a low around 49.',\n",
       " 'Sunny, with a high near 76.',\n",
       " 'Mostly clear, with a low around 53.',\n",
       " 'Mostly sunny, with a high near 75.',\n",
       " 'Partly cloudy, with a low around 52.']"
      ]
     },
     "execution_count": 9,
     "metadata": {},
     "output_type": "execute_result"
    }
   ],
   "source": [
    "\"\"\"I've create a loop for description\"\"\"\n",
    "description_list = []\n",
    "\n",
    "for i in description:\n",
    "    # print(i.text)\n",
    "    description_list.append(i.text)\n",
    "\n",
    "description_list"
   ]
  },
  {
   "cell_type": "code",
   "execution_count": 10,
   "metadata": {},
   "outputs": [
    {
     "data": {
      "text/plain": [
       "'C = 5/9 x (F-32)'"
      ]
     },
     "execution_count": 10,
     "metadata": {},
     "output_type": "execute_result"
    }
   ],
   "source": [
    "\"\"\"C = 5/9 x (F-32)\"\"\""
   ]
  },
  {
   "cell_type": "code",
   "execution_count": 11,
   "metadata": {},
   "outputs": [
    {
     "data": {
      "text/plain": [
       "DatetimeIndex(['2022-03-11 15:45:27.183716', '2022-03-12 15:45:27.183716',\n",
       "               '2022-03-13 15:45:27.183716', '2022-03-14 15:45:27.183716',\n",
       "               '2022-03-15 15:45:27.183716', '2022-03-16 15:45:27.183716',\n",
       "               '2022-03-17 15:45:27.183716'],\n",
       "              dtype='datetime64[ns]', freq='D')"
      ]
     },
     "execution_count": 11,
     "metadata": {},
     "output_type": "execute_result"
    }
   ],
   "source": [
    "pd.date_range(start= pd.to_datetime(\"today\"), periods=7)"
   ]
  },
  {
   "cell_type": "code",
   "execution_count": 17,
   "metadata": {},
   "outputs": [
    {
     "name": "stdout",
     "output_type": "stream",
     "text": [
      "['Sunny,', 'with', 'a', 'high', 'near', '76']\n"
     ]
    },
    {
     "ename": "TypeError",
     "evalue": "'NoneType' object is not subscriptable",
     "output_type": "error",
     "traceback": [
      "\u001b[1;31m---------------------------------------------------------------------------\u001b[0m",
      "\u001b[1;31mTypeError\u001b[0m                                 Traceback (most recent call last)",
      "\u001b[1;32m~\\AppData\\Local\\Temp/ipykernel_16036/1921786845.py\u001b[0m in \u001b[0;36m<module>\u001b[1;34m\u001b[0m\n\u001b[1;32m----> 1\u001b[1;33m \u001b[0mprint\u001b[0m\u001b[1;33m(\u001b[0m\u001b[0mdescription_list\u001b[0m\u001b[1;33m[\u001b[0m\u001b[1;36m1\u001b[0m\u001b[1;33m]\u001b[0m\u001b[1;33m.\u001b[0m\u001b[0msplit\u001b[0m\u001b[1;33m(\u001b[0m\u001b[1;34m\".\"\u001b[0m\u001b[1;33m)\u001b[0m\u001b[1;33m[\u001b[0m\u001b[1;36m0\u001b[0m\u001b[1;33m]\u001b[0m\u001b[1;33m.\u001b[0m\u001b[0msplit\u001b[0m\u001b[1;33m(\u001b[0m\u001b[1;34m\" \"\u001b[0m\u001b[1;33m)\u001b[0m\u001b[1;33m)\u001b[0m\u001b[1;33m[\u001b[0m\u001b[1;33m-\u001b[0m\u001b[1;36m1\u001b[0m\u001b[1;33m]\u001b[0m\u001b[1;33m\u001b[0m\u001b[1;33m\u001b[0m\u001b[0m\n\u001b[0m",
      "\u001b[1;31mTypeError\u001b[0m: 'NoneType' object is not subscriptable"
     ]
    }
   ],
   "source": [
    "print(description_list[1].split(\".\")[0].split(\" \"))[-1]"
   ]
  }
 ],
 "metadata": {
  "interpreter": {
   "hash": "430b7d4413b2177f05b848cb6acb02b7196cdff9e6dac31e1a37def6732e5784"
  },
  "kernelspec": {
   "display_name": "Python 3.9.7 ('Strive')",
   "language": "python",
   "name": "python3"
  },
  "language_info": {
   "codemirror_mode": {
    "name": "ipython",
    "version": 3
   },
   "file_extension": ".py",
   "mimetype": "text/x-python",
   "name": "python",
   "nbconvert_exporter": "python",
   "pygments_lexer": "ipython3",
   "version": "3.10.0"
  },
  "orig_nbformat": 4
 },
 "nbformat": 4,
 "nbformat_minor": 2
}
