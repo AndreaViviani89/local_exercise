{
 "cells": [
  {
   "cell_type": "code",
   "execution_count": 2,
   "metadata": {},
   "outputs": [],
   "source": [
    "import requests\n",
    "from bs4 import BeautifulSoup\n",
    "import pandas as pd\n",
    "from datetime import date\n",
    "\n",
    "\n"
   ]
  },
  {
   "cell_type": "code",
   "execution_count": 3,
   "metadata": {},
   "outputs": [
    {
     "name": "stdout",
     "output_type": "stream",
     "text": [
      "<Response [200]>\n"
     ]
    }
   ],
   "source": [
    "page = requests.get('https://forecast.weather.gov/MapClick.php?x=276&y=148&site=lox&zmx=&zmy=&map_x=276&map_y=148#.YitNSDXSJD8')\n",
    "print(page)"
   ]
  },
  {
   "cell_type": "code",
   "execution_count": 4,
   "metadata": {},
   "outputs": [
    {
     "name": "stdout",
     "output_type": "stream",
     "text": [
      "2022-03-11\n"
     ]
    }
   ],
   "source": [
    "today = date.today()\n",
    "print(today)"
   ]
  },
  {
   "cell_type": "code",
   "execution_count": 5,
   "metadata": {},
   "outputs": [],
   "source": [
    "soup = BeautifulSoup(page.content, 'html.parser')\n"
   ]
  },
  {
   "cell_type": "code",
   "execution_count": 25,
   "metadata": {},
   "outputs": [],
   "source": [
    "\"\"\"I've scap the data from \"days\" colum on the label exept the first row\"\"\"\n",
    "\n",
    "days = soup.find_all(\"div\", class_= \"col-sm-2 forecast-label\")[1:11]\n"
   ]
  },
  {
   "cell_type": "code",
   "execution_count": 26,
   "metadata": {},
   "outputs": [],
   "source": [
    "\"\"\"I've scap the data from \"description\" column on the label exept the first row\"\"\"\n",
    "\n",
    "description = soup.find_all(\"div\", class_= \"col-sm-10 forecast-text\") [1:11]"
   ]
  },
  {
   "cell_type": "code",
   "execution_count": 27,
   "metadata": {},
   "outputs": [
    {
     "data": {
      "text/plain": [
       "['Tonight',\n",
       " 'Saturday',\n",
       " 'Saturday Night',\n",
       " 'Sunday',\n",
       " 'Sunday Night',\n",
       " 'Monday',\n",
       " 'Monday Night',\n",
       " 'Tuesday',\n",
       " 'Tuesday Night',\n",
       " 'Wednesday']"
      ]
     },
     "execution_count": 27,
     "metadata": {},
     "output_type": "execute_result"
    }
   ],
   "source": [
    "\"\"\"I've create a loop for days\"\"\"\n",
    "days_list = []\n",
    "for i in days:\n",
    "    # print(i.text)\n",
    "    days_list.append(i.text)\n",
    "\n",
    "days_list"
   ]
  },
  {
   "cell_type": "code",
   "execution_count": 28,
   "metadata": {},
   "outputs": [
    {
     "data": {
      "text/plain": [
       "['Mostly clear, with a low around 45. Northwest wind around 5 mph becoming northeast after midnight. ',\n",
       " 'Sunny, with a high near 76. North northeast wind 5 to 10 mph becoming west southwest in the afternoon. Winds could gust as high as 15 mph. ',\n",
       " 'Partly cloudy, with a low around 49. West southwest wind around 5 mph becoming northeast after midnight. ',\n",
       " 'Mostly sunny, with a high near 71. East northeast wind 5 to 15 mph becoming west southwest in the afternoon. Winds could gust as high as 20 mph. ',\n",
       " 'Partly cloudy, with a low around 49.',\n",
       " 'Sunny, with a high near 76.',\n",
       " 'Mostly clear, with a low around 53.',\n",
       " 'Mostly sunny, with a high near 75.',\n",
       " 'Partly cloudy, with a low around 52.',\n",
       " 'Sunny, with a high near 76.']"
      ]
     },
     "execution_count": 28,
     "metadata": {},
     "output_type": "execute_result"
    }
   ],
   "source": [
    "\"\"\"I've create a loop for description\"\"\"\n",
    "description_list = []\n",
    "\n",
    "for i in description:\n",
    "    # print(i.text)\n",
    "    description_list.append(i.text)\n",
    "\n",
    "description_list"
   ]
  },
  {
   "cell_type": "code",
   "execution_count": 24,
   "metadata": {},
   "outputs": [
    {
     "data": {
      "text/plain": [
       "['45', '76', '49', '71', '49', '76', '53', '75', '52']"
      ]
     },
     "execution_count": 24,
     "metadata": {},
     "output_type": "execute_result"
    }
   ],
   "source": [
    "\"\"\"I've create a loop for temperature\"\"\"\n",
    "\n",
    "high_and_low = []\n",
    "for i in description:\n",
    "    high_and_low.append(i.text.split(\".\")[0].split(\" \")[-1])\n",
    "\n",
    "high_and_low"
   ]
  },
  {
   "cell_type": "code",
   "execution_count": 18,
   "metadata": {},
   "outputs": [
    {
     "data": {
      "text/plain": [
       "26.11111111111111"
      ]
     },
     "execution_count": 18,
     "metadata": {},
     "output_type": "execute_result"
    }
   ],
   "source": [
    "\"\"\"C = 5/9 x (F-32)\"\"\"\n",
    "\n",
    "def fafahrenheit_to_celsius(f):\n",
    "    c = 5/9 * (f-32)\n",
    "    return c\n",
    "\n",
    "fafahrenheit_to_celsius(79)\n"
   ]
  },
  {
   "cell_type": "code",
   "execution_count": 23,
   "metadata": {},
   "outputs": [],
   "source": [
    "dates = pd.date_range(start=pd.to_datetime(\"today\"), periods=7, freq='D')\n",
    "\n",
    "df = pd.DataFrame(zip(dates, days, description, high_and_low), )\n",
    "\n"
   ]
  }
 ],
 "metadata": {
  "interpreter": {
   "hash": "430b7d4413b2177f05b848cb6acb02b7196cdff9e6dac31e1a37def6732e5784"
  },
  "kernelspec": {
   "display_name": "Python 3.9.7 ('Strive')",
   "language": "python",
   "name": "python3"
  },
  "language_info": {
   "codemirror_mode": {
    "name": "ipython",
    "version": 3
   },
   "file_extension": ".py",
   "mimetype": "text/x-python",
   "name": "python",
   "nbconvert_exporter": "python",
   "pygments_lexer": "ipython3",
   "version": "3.9.7"
  },
  "orig_nbformat": 4
 },
 "nbformat": 4,
 "nbformat_minor": 2
}
