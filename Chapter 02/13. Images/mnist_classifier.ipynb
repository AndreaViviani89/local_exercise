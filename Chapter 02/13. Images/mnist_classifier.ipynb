{
 "cells": [
  {
   "cell_type": "markdown",
   "metadata": {},
   "source": [
    "# MNIST Classifier\n",
    "\n",
    "In this notebook you will create both, an mnist tabular dataset and a classifier."
   ]
  },
  {
   "cell_type": "markdown",
   "metadata": {},
   "source": [
    "## 1.- import the Operating System (os) module in python and any other library you need"
   ]
  },
  {
   "cell_type": "code",
   "execution_count": 1,
   "metadata": {},
   "outputs": [],
   "source": [
    "import os\n",
    "from PIL import Image\n",
    "import numpy as np\n",
    "import pandas as pd"
   ]
  },
  {
   "cell_type": "markdown",
   "metadata": {},
   "source": [
    "## 2.- As you can see each class has its own folder (Do it only for train). \n",
    "\n",
    "    - Iterate folder by folder ( os.listdir() )\n",
    "    - Inside each folder: \n",
    "        1.- Read the image\n",
    "        2.- Reshape it into a flat array (784,)\n",
    "        3.- Save the data into a pandas dataframe apending the column name as the class\n",
    "    - Save the data into a CSV\n",
    "\n",
    "    Note: if it takes to long try doing only 100 images per folder and the teacher for the CSV."
   ]
  },
  {
   "cell_type": "code",
   "execution_count": 8,
   "metadata": {
    "tags": []
   },
   "outputs": [
    {
     "name": "stdout",
     "output_type": "stream",
     "text": [
      "4132\n",
      "(4132, 785)\n",
      "(4132, 785)\n",
      "4684\n",
      "(4684, 785)\n",
      "(4684, 785)\n",
      "4177\n",
      "(4177, 785)\n"
     ]
    },
    {
     "ename": "KeyboardInterrupt",
     "evalue": "",
     "output_type": "error",
     "traceback": [
      "\u001b[1;31m---------------------------------------------------------------------------\u001b[0m",
      "\u001b[1;31mKeyboardInterrupt\u001b[0m                         Traceback (most recent call last)",
      "\u001b[1;32mc:\\Users\\andre\\Documents\\Strive_repository\\local_exercise\\Chapter 02\\13. Images\\mnist_classifier.ipynb Cell 5'\u001b[0m in \u001b[0;36m<cell line: 9>\u001b[1;34m()\u001b[0m\n\u001b[0;32m     <a href='vscode-notebook-cell:/c%3A/Users/andre/Documents/Strive_repository/local_exercise/Chapter%2002/13.%20Images/mnist_classifier.ipynb#ch0000004?line=12'>13</a>\u001b[0m \u001b[39mprint\u001b[39m(arr\u001b[39m.\u001b[39mshape)  \n\u001b[0;32m     <a href='vscode-notebook-cell:/c%3A/Users/andre/Documents/Strive_repository/local_exercise/Chapter%2002/13.%20Images/mnist_classifier.ipynb#ch0000004?line=14'>15</a>\u001b[0m \u001b[39mfor\u001b[39;00m i, img \u001b[39min\u001b[39;00m \u001b[39menumerate\u001b[39m(images):                                \u001b[39m# Return an enumerate object.\u001b[39;00m\n\u001b[1;32m---> <a href='vscode-notebook-cell:/c%3A/Users/andre/Documents/Strive_repository/local_exercise/Chapter%2002/13.%20Images/mnist_classifier.ipynb#ch0000004?line=15'>16</a>\u001b[0m     images_2 \u001b[39m=\u001b[39m Image\u001b[39m.\u001b[39;49mopen(directory \u001b[39m+\u001b[39;49m file \u001b[39m+\u001b[39;49m \u001b[39m'\u001b[39;49m\u001b[39m/\u001b[39;49m\u001b[39m'\u001b[39;49m \u001b[39m+\u001b[39;49m img)         \u001b[39m# Trying to open every single image with the for loop\u001b[39;00m\n\u001b[0;32m     <a href='vscode-notebook-cell:/c%3A/Users/andre/Documents/Strive_repository/local_exercise/Chapter%2002/13.%20Images/mnist_classifier.ipynb#ch0000004?line=16'>17</a>\u001b[0m     arry \u001b[39m=\u001b[39m np\u001b[39m.\u001b[39marray(images_2, dtype\u001b[39m=\u001b[39m\u001b[39mfloat\u001b[39m)\n\u001b[0;32m     <a href='vscode-notebook-cell:/c%3A/Users/andre/Documents/Strive_repository/local_exercise/Chapter%2002/13.%20Images/mnist_classifier.ipynb#ch0000004?line=17'>18</a>\u001b[0m     \u001b[39m# print(arry.shape)\u001b[39;00m\n",
      "File \u001b[1;32m~\\anaconda3\\envs\\ML\\lib\\site-packages\\PIL\\Image.py:3068\u001b[0m, in \u001b[0;36mopen\u001b[1;34m(fp, mode, formats)\u001b[0m\n\u001b[0;32m   <a href='file:///c%3A/Users/andre/anaconda3/envs/ML/lib/site-packages/PIL/Image.py?line=3064'>3065</a>\u001b[0m     filename \u001b[39m=\u001b[39m fp\n\u001b[0;32m   <a href='file:///c%3A/Users/andre/anaconda3/envs/ML/lib/site-packages/PIL/Image.py?line=3066'>3067</a>\u001b[0m \u001b[39mif\u001b[39;00m filename:\n\u001b[1;32m-> <a href='file:///c%3A/Users/andre/anaconda3/envs/ML/lib/site-packages/PIL/Image.py?line=3067'>3068</a>\u001b[0m     fp \u001b[39m=\u001b[39m builtins\u001b[39m.\u001b[39;49mopen(filename, \u001b[39m\"\u001b[39;49m\u001b[39mrb\u001b[39;49m\u001b[39m\"\u001b[39;49m)\n\u001b[0;32m   <a href='file:///c%3A/Users/andre/anaconda3/envs/ML/lib/site-packages/PIL/Image.py?line=3068'>3069</a>\u001b[0m     exclusive_fp \u001b[39m=\u001b[39m \u001b[39mTrue\u001b[39;00m\n\u001b[0;32m   <a href='file:///c%3A/Users/andre/anaconda3/envs/ML/lib/site-packages/PIL/Image.py?line=3070'>3071</a>\u001b[0m \u001b[39mtry\u001b[39;00m:\n",
      "\u001b[1;31mKeyboardInterrupt\u001b[0m: "
     ]
    }
   ],
   "source": [
    "directory = 'C:/Users/andre/Documents/Strive_repository/local_exercise/Chapter 02/13. Images/archive/trainingSet/trainingSet/'\n",
    "\n",
    "# Determine the number of folder in the given directory\n",
    "dir_list = os.listdir(directory)\n",
    "\n",
    "# Initial DataFrame\n",
    "data_empty = pd.DataFrame()\n",
    "\n",
    "for file in dir_list:\n",
    "    images = os.listdir(directory + file)\n",
    "    print(len(images))                           # from directory read images and files.\n",
    "    arr = np.zeros((len(images), 785))                              # built an array with 0 according to the dimensions of image and 785\n",
    "    print(arr.shape)  \n",
    "\n",
    "    for i, img in enumerate(images):                                # Return an enumerate object.\n",
    "        images_2 = Image.open(directory + file + '/' + img)         # Trying to open every single image with the for loop\n",
    "        arry = np.array(images_2, dtype=float)\n",
    "        # print(arry.shape)\n",
    "        array = arry.flatten()                                       # Change the shape of the array to (784, )\n",
    "        # print(arry.shape)\n",
    "\n",
    "        # arr =np.append(array,int(i))\n",
    "\n",
    "        arr[i, :784] = array                                         # Read everything from the first column till the 783\n",
    "        arr[i, 784] = int(file)                                     # Read the column n. 784\n",
    "    \n",
    "    df = pd.DataFrame(data= arr)\n",
    "    df_conc = pd.concat([data_empty, df])                                 # Merge everything in the first DataFrame 'data'\n",
    "    final_df = df_conc\n",
    "    print(final_df.shape)\n",
    "\n",
    "final_df.to_csv('data.csv', index= False, header=False)             # Saved the csv file\n",
    "    \n",
    "\n"
   ]
  },
  {
   "cell_type": "code",
   "execution_count": 2,
   "metadata": {},
   "outputs": [
    {
     "name": "stdout",
     "output_type": "stream",
     "text": [
      "4132\n",
      "4684\n",
      "4177\n",
      "4351\n",
      "4072\n",
      "3795\n",
      "4137\n",
      "4401\n",
      "4063\n",
      "4188\n"
     ]
    }
   ],
   "source": [
    "# directory=\"C:/Users/andre/Documents/Strive_repository/local_exercise/Chapter 02/13. Images/archive/trainingSet/trainingSet/\"\n",
    "\n",
    "\n",
    "# dir_list = os.listdir(directory)\n",
    "# data = pd.DataFrame()\n",
    "\n",
    "# df_empty = []\n",
    "# for i in dir_list:\n",
    "#     f_name = os.listdir(f\"{directory}/{i}\")\n",
    "#     print(len(f_name))\n",
    "#     for num in f_name:\n",
    "#         img = Image.open(f'{directory}/{i}/{num}')\n",
    "#         arr =np.array(img, dtype=float).flatten()\n",
    "#         arr =np.append(arr,int(i))\n",
    "#         df_empty.append(arr)\n",
    "# new_df = pd.DataFrame(df_empty)\n",
    "# data = pd.concat([data, new_df])\n",
    "# data.to_csv(\"test.csv\", index=False)\n",
    "\n",
    "\n"
   ]
  },
  {
   "cell_type": "code",
   "execution_count": 7,
   "metadata": {},
   "outputs": [
    {
     "name": "stdout",
     "output_type": "stream",
     "text": [
      "(42000, 785)\n",
      "   0    1    2    3    4    5    6    7    8     9    ...  775  776  777  778  \\\n",
      "0  3.0  0.0  0.0  3.0  7.0  3.0  0.0  3.0  0.0  11.0  ...  0.0  0.0  0.0  0.0   \n",
      "1  0.0  0.0  0.0  0.0  0.0  0.0  0.0  0.0  8.0   0.0  ...  0.0  0.0  0.0  0.0   \n",
      "2  0.0  0.0  0.0  0.0  0.0  0.0  0.0  0.0  2.0   0.0  ...  0.0  0.0  0.0  0.0   \n",
      "\n",
      "   779  780  781  782  783  784  \n",
      "0  0.0  0.0  0.0  0.0  0.0  0.0  \n",
      "1  0.0  0.0  0.0  0.0  0.0  0.0  \n",
      "2  0.0  0.0  0.0  0.0  0.0  0.0  \n",
      "\n",
      "[3 rows x 785 columns]\n"
     ]
    }
   ],
   "source": [
    "print(data.shape)\n",
    "print(data.head(3))"
   ]
  },
  {
   "cell_type": "markdown",
   "metadata": {},
   "source": [
    "## 3.- Load the CSV"
   ]
  },
  {
   "cell_type": "code",
   "execution_count": 8,
   "metadata": {},
   "outputs": [
    {
     "name": "stdout",
     "output_type": "stream",
     "text": [
      "(4188, 785)\n",
      "(4188, 784)\n",
      "(4188,)\n"
     ]
    }
   ],
   "source": [
    "dataset = pd.read_csv('C:/Users/andre/Documents/Strive_repository/local_exercise/Chapter 02/13. Images/data.csv', header=None)\n",
    "\n",
    "# print(dataset.head())\n",
    "print(dataset.shape)\n",
    "\n",
    "x = dataset.iloc[:, :-1]                    # Get all the rows and all the coloums apart from the last one (785)\n",
    "y = dataset.iloc[:, -1]                     # Get all the rows and the last coloum\n",
    "\n",
    "print(x.shape)\n",
    "print(y.shape)\n",
    "\n",
    "\n",
    "\n",
    "# print(\"----------------- \\n\" , x.info(), \"----------------- \\n\")\n",
    "# print(y.info())"
   ]
  },
  {
   "cell_type": "code",
   "execution_count": 3,
   "metadata": {},
   "outputs": [
    {
     "name": "stdout",
     "output_type": "stream",
     "text": [
      "42001\n",
      "         784\n",
      "0      784.0\n",
      "1        0.0\n",
      "2        0.0\n",
      "3        0.0\n",
      "4        0.0\n",
      "...      ...\n",
      "41996    9.0\n",
      "41997    9.0\n",
      "41998    9.0\n",
      "41999    9.0\n",
      "42000    9.0\n",
      "\n",
      "[42001 rows x 1 columns]\n"
     ]
    }
   ],
   "source": [
    "print(len(dataset))\n",
    "print(dataset[[784]])"
   ]
  },
  {
   "cell_type": "markdown",
   "metadata": {},
   "source": [
    "## 4.- Create a dictionary of models (No preprocessing needed, it has already been done).\n",
    "    \n",
    "    Include both, tree models and mult models."
   ]
  },
  {
   "cell_type": "code",
   "execution_count": 9,
   "metadata": {},
   "outputs": [],
   "source": [
    "# importing the libraries\n",
    "\n",
    "from sklearn.tree import DecisionTreeClassifier\n",
    "from sklearn.ensemble import RandomForestClassifier, GradientBoostingClassifier, AdaBoostClassifier\n",
    "from catboost import CatBoostClassifier\n",
    "from xgboost import XGBClassifier\n",
    "from lightgbm import LGBMClassifier\n",
    "from sklearn.svm import SVC\n",
    "from sklearn.linear_model import LogisticRegression\n",
    "from sklearn.model_selection import train_test_split\n",
    "from sklearn.neighbors import KNeighborsClassifier\n",
    "from sklearn import metrics\n",
    "import time\n",
    "\n",
    "\n",
    "# Create a dictionary of models\n",
    "\n",
    "tree_classifiers = {\n",
    "    'Random Forest': RandomForestClassifier(n_estimators=100),\n",
    "    'AdaBoost': AdaBoostClassifier(n_estimators=100),\n",
    "    'Skl GBM': GradientBoostingClassifier(n_estimators=100),\n",
    "    'Decision Tree': DecisionTreeClassifier(),\n",
    "    'CatBoost': CatBoostClassifier(n_estimators=100),\n",
    "    'XGBoost': XGBClassifier(n_estimators= 100),\n",
    "    'LightGBM': LGBMClassifier(n_estimators=100),\n",
    "    'SVM': SVC(),\n",
    "    'Logistic Regression': LogisticRegression(),\n",
    "    'KNN': KNeighborsClassifier()\n",
    "\n",
    "}\n"
   ]
  },
  {
   "cell_type": "markdown",
   "metadata": {},
   "source": [
    "## 5.- Using either cross validation or stratification find out which is the best model\n",
    "    - Base your code on the previous two days examples"
   ]
  },
  {
   "cell_type": "code",
   "execution_count": 10,
   "metadata": {},
   "outputs": [
    {
     "name": "stdout",
     "output_type": "stream",
     "text": [
      "(3350, 784)\n",
      "(838, 784)\n",
      "(3350,)\n",
      "(838,)\n"
     ]
    }
   ],
   "source": [
    "x_train, x_test, y_train, y_test = train_test_split(x, y, random_state=0, test_size= 0.2, stratify= y)\n",
    "\n",
    "# check the shape\n",
    "print(x_train.shape)\n",
    "print(x_test.shape)\n",
    "print(y_train.shape)\n",
    "print(y_test.shape)"
   ]
  },
  {
   "cell_type": "code",
   "execution_count": 11,
   "metadata": {},
   "outputs": [
    {
     "name": "stderr",
     "output_type": "stream",
     "text": [
      "C:\\Users\\andre\\AppData\\Local\\Temp\\ipykernel_19860\\1509442284.py:18: FutureWarning: The frame.append method is deprecated and will be removed from pandas in a future version. Use pandas.concat instead.\n",
      "  results = results.append({'Model': model_name,\n",
      "C:\\Users\\andre\\AppData\\Local\\Temp\\ipykernel_19860\\1509442284.py:18: FutureWarning: The frame.append method is deprecated and will be removed from pandas in a future version. Use pandas.concat instead.\n",
      "  results = results.append({'Model': model_name,\n"
     ]
    },
    {
     "ename": "ValueError",
     "evalue": "y contains 1 class after sample_weight trimmed classes with zero weights, while a minimum of 2 classes are required.",
     "output_type": "error",
     "traceback": [
      "\u001b[1;31m---------------------------------------------------------------------------\u001b[0m",
      "\u001b[1;31mValueError\u001b[0m                                Traceback (most recent call last)",
      "\u001b[1;32mc:\\Users\\andre\\Documents\\Strive_repository\\local_exercise\\Chapter 02\\13. Images\\mnist_classifier.ipynb Cell 14'\u001b[0m in \u001b[0;36m<cell line: 26>\u001b[1;34m()\u001b[0m\n\u001b[0;32m     <a href='vscode-notebook-cell:/c%3A/Users/andre/Documents/Strive_repository/local_exercise/Chapter%2002/13.%20Images/mnist_classifier.ipynb#ch0000013?line=17'>18</a>\u001b[0m         results \u001b[39m=\u001b[39m results\u001b[39m.\u001b[39mappend({\u001b[39m'\u001b[39m\u001b[39mModel\u001b[39m\u001b[39m'\u001b[39m: model_name, \n\u001b[0;32m     <a href='vscode-notebook-cell:/c%3A/Users/andre/Documents/Strive_repository/local_exercise/Chapter%2002/13.%20Images/mnist_classifier.ipynb#ch0000013?line=18'>19</a>\u001b[0m                                     \u001b[39m'\u001b[39m\u001b[39mAccuracy\u001b[39m\u001b[39m'\u001b[39m: metrics\u001b[39m.\u001b[39maccuracy_score(y_test, prediction)\u001b[39m*\u001b[39m\u001b[39m100\u001b[39m, \n\u001b[0;32m     <a href='vscode-notebook-cell:/c%3A/Users/andre/Documents/Strive_repository/local_exercise/Chapter%2002/13.%20Images/mnist_classifier.ipynb#ch0000013?line=19'>20</a>\u001b[0m                                     \u001b[39m'\u001b[39m\u001b[39mBal accuracy\u001b[39m\u001b[39m'\u001b[39m: metrics\u001b[39m.\u001b[39mbalanced_accuracy_score(y_test, prediction)\u001b[39m*\u001b[39m\u001b[39m100\u001b[39m, \n\u001b[0;32m     <a href='vscode-notebook-cell:/c%3A/Users/andre/Documents/Strive_repository/local_exercise/Chapter%2002/13.%20Images/mnist_classifier.ipynb#ch0000013?line=20'>21</a>\u001b[0m                                     \u001b[39m'\u001b[39m\u001b[39mTime\u001b[39m\u001b[39m'\u001b[39m: final_time}, \n\u001b[0;32m     <a href='vscode-notebook-cell:/c%3A/Users/andre/Documents/Strive_repository/local_exercise/Chapter%2002/13.%20Images/mnist_classifier.ipynb#ch0000013?line=21'>22</a>\u001b[0m                                     ignore_index \u001b[39m=\u001b[39m \u001b[39mTrue\u001b[39;00m)\n\u001b[0;32m     <a href='vscode-notebook-cell:/c%3A/Users/andre/Documents/Strive_repository/local_exercise/Chapter%2002/13.%20Images/mnist_classifier.ipynb#ch0000013?line=23'>24</a>\u001b[0m     \u001b[39mreturn\u001b[39;00m results\n\u001b[1;32m---> <a href='vscode-notebook-cell:/c%3A/Users/andre/Documents/Strive_repository/local_exercise/Chapter%2002/13.%20Images/mnist_classifier.ipynb#ch0000013?line=25'>26</a>\u001b[0m final_results \u001b[39m=\u001b[39m predictions (x_test)\n\u001b[0;32m     <a href='vscode-notebook-cell:/c%3A/Users/andre/Documents/Strive_repository/local_exercise/Chapter%2002/13.%20Images/mnist_classifier.ipynb#ch0000013?line=26'>27</a>\u001b[0m \u001b[39mprint\u001b[39m(final_results)\n",
      "\u001b[1;32mc:\\Users\\andre\\Documents\\Strive_repository\\local_exercise\\Chapter 02\\13. Images\\mnist_classifier.ipynb Cell 14'\u001b[0m in \u001b[0;36mpredictions\u001b[1;34m(data)\u001b[0m\n\u001b[0;32m      <a href='vscode-notebook-cell:/c%3A/Users/andre/Documents/Strive_repository/local_exercise/Chapter%2002/13.%20Images/mnist_classifier.ipynb#ch0000013?line=6'>7</a>\u001b[0m starting_time \u001b[39m=\u001b[39m time\u001b[39m.\u001b[39mtime()\n\u001b[0;32m      <a href='vscode-notebook-cell:/c%3A/Users/andre/Documents/Strive_repository/local_exercise/Chapter%2002/13.%20Images/mnist_classifier.ipynb#ch0000013?line=8'>9</a>\u001b[0m \u001b[39m# Fit the model\u001b[39;00m\n\u001b[1;32m---> <a href='vscode-notebook-cell:/c%3A/Users/andre/Documents/Strive_repository/local_exercise/Chapter%2002/13.%20Images/mnist_classifier.ipynb#ch0000013?line=9'>10</a>\u001b[0m new_mod \u001b[39m=\u001b[39m model\u001b[39m.\u001b[39;49mfit(x_train, y_train)\n\u001b[0;32m     <a href='vscode-notebook-cell:/c%3A/Users/andre/Documents/Strive_repository/local_exercise/Chapter%2002/13.%20Images/mnist_classifier.ipynb#ch0000013?line=11'>12</a>\u001b[0m \u001b[39m# prediction\u001b[39;00m\n\u001b[0;32m     <a href='vscode-notebook-cell:/c%3A/Users/andre/Documents/Strive_repository/local_exercise/Chapter%2002/13.%20Images/mnist_classifier.ipynb#ch0000013?line=12'>13</a>\u001b[0m prediction \u001b[39m=\u001b[39m new_mod\u001b[39m.\u001b[39mpredict(data)\n",
      "File \u001b[1;32m~\\anaconda3\\envs\\ML\\lib\\site-packages\\sklearn\\ensemble\\_gb.py:497\u001b[0m, in \u001b[0;36mBaseGradientBoosting.fit\u001b[1;34m(self, X, y, sample_weight, monitor)\u001b[0m\n\u001b[0;32m    <a href='file:///c%3A/Users/andre/anaconda3/envs/ML/lib/site-packages/sklearn/ensemble/_gb.py?line=493'>494</a>\u001b[0m y \u001b[39m=\u001b[39m column_or_1d(y, warn\u001b[39m=\u001b[39m\u001b[39mTrue\u001b[39;00m)\n\u001b[0;32m    <a href='file:///c%3A/Users/andre/anaconda3/envs/ML/lib/site-packages/sklearn/ensemble/_gb.py?line=495'>496</a>\u001b[0m \u001b[39mif\u001b[39;00m is_classifier(\u001b[39mself\u001b[39m):\n\u001b[1;32m--> <a href='file:///c%3A/Users/andre/anaconda3/envs/ML/lib/site-packages/sklearn/ensemble/_gb.py?line=496'>497</a>\u001b[0m     y \u001b[39m=\u001b[39m \u001b[39mself\u001b[39;49m\u001b[39m.\u001b[39;49m_validate_y(y, sample_weight)\n\u001b[0;32m    <a href='file:///c%3A/Users/andre/anaconda3/envs/ML/lib/site-packages/sklearn/ensemble/_gb.py?line=497'>498</a>\u001b[0m \u001b[39melse\u001b[39;00m:\n\u001b[0;32m    <a href='file:///c%3A/Users/andre/anaconda3/envs/ML/lib/site-packages/sklearn/ensemble/_gb.py?line=498'>499</a>\u001b[0m     y \u001b[39m=\u001b[39m \u001b[39mself\u001b[39m\u001b[39m.\u001b[39m_validate_y(y)\n",
      "File \u001b[1;32m~\\anaconda3\\envs\\ML\\lib\\site-packages\\sklearn\\ensemble\\_gb.py:1272\u001b[0m, in \u001b[0;36mGradientBoostingClassifier._validate_y\u001b[1;34m(self, y, sample_weight)\u001b[0m\n\u001b[0;32m   <a href='file:///c%3A/Users/andre/anaconda3/envs/ML/lib/site-packages/sklearn/ensemble/_gb.py?line=1269'>1270</a>\u001b[0m n_trim_classes \u001b[39m=\u001b[39m np\u001b[39m.\u001b[39mcount_nonzero(np\u001b[39m.\u001b[39mbincount(y, sample_weight))\n\u001b[0;32m   <a href='file:///c%3A/Users/andre/anaconda3/envs/ML/lib/site-packages/sklearn/ensemble/_gb.py?line=1270'>1271</a>\u001b[0m \u001b[39mif\u001b[39;00m n_trim_classes \u001b[39m<\u001b[39m \u001b[39m2\u001b[39m:\n\u001b[1;32m-> <a href='file:///c%3A/Users/andre/anaconda3/envs/ML/lib/site-packages/sklearn/ensemble/_gb.py?line=1271'>1272</a>\u001b[0m     \u001b[39mraise\u001b[39;00m \u001b[39mValueError\u001b[39;00m(\n\u001b[0;32m   <a href='file:///c%3A/Users/andre/anaconda3/envs/ML/lib/site-packages/sklearn/ensemble/_gb.py?line=1272'>1273</a>\u001b[0m         \u001b[39m\"\u001b[39m\u001b[39my contains \u001b[39m\u001b[39m%d\u001b[39;00m\u001b[39m class after sample_weight \u001b[39m\u001b[39m\"\u001b[39m\n\u001b[0;32m   <a href='file:///c%3A/Users/andre/anaconda3/envs/ML/lib/site-packages/sklearn/ensemble/_gb.py?line=1273'>1274</a>\u001b[0m         \u001b[39m\"\u001b[39m\u001b[39mtrimmed classes with zero weights, while a \u001b[39m\u001b[39m\"\u001b[39m\n\u001b[0;32m   <a href='file:///c%3A/Users/andre/anaconda3/envs/ML/lib/site-packages/sklearn/ensemble/_gb.py?line=1274'>1275</a>\u001b[0m         \u001b[39m\"\u001b[39m\u001b[39mminimum of 2 classes are required.\u001b[39m\u001b[39m\"\u001b[39m \u001b[39m%\u001b[39m n_trim_classes\n\u001b[0;32m   <a href='file:///c%3A/Users/andre/anaconda3/envs/ML/lib/site-packages/sklearn/ensemble/_gb.py?line=1275'>1276</a>\u001b[0m     )\n\u001b[0;32m   <a href='file:///c%3A/Users/andre/anaconda3/envs/ML/lib/site-packages/sklearn/ensemble/_gb.py?line=1276'>1277</a>\u001b[0m \u001b[39mself\u001b[39m\u001b[39m.\u001b[39m_n_classes \u001b[39m=\u001b[39m \u001b[39mlen\u001b[39m(\u001b[39mself\u001b[39m\u001b[39m.\u001b[39mclasses_)\n\u001b[0;32m   <a href='file:///c%3A/Users/andre/anaconda3/envs/ML/lib/site-packages/sklearn/ensemble/_gb.py?line=1277'>1278</a>\u001b[0m \u001b[39m# expose n_classes_ attribute\u001b[39;00m\n",
      "\u001b[1;31mValueError\u001b[0m: y contains 1 class after sample_weight trimmed classes with zero weights, while a minimum of 2 classes are required."
     ]
    }
   ],
   "source": [
    "# Predict function\n",
    "\n",
    "def predictions (data):\n",
    "    results = pd.DataFrame(columns=['Model', 'Accuracy', 'Bal accuracy', 'Time'])\n",
    "\n",
    "    for model_name, model in tree_classifiers.items():\n",
    "        starting_time = time.time()\n",
    "\n",
    "        # Fit the model\n",
    "        new_mod = model.fit(x_train, y_train)\n",
    "\n",
    "        # prediction\n",
    "        prediction = new_mod.predict(data)\n",
    "\n",
    "        # Total time that the model need\n",
    "        final_time = time.time() - starting_time\n",
    "\n",
    "        results = results.append({'Model': model_name, \n",
    "                                    'Accuracy': metrics.accuracy_score(y_test, prediction)*100, \n",
    "                                    'Bal accuracy': metrics.balanced_accuracy_score(y_test, prediction)*100, \n",
    "                                    'Time': final_time}, \n",
    "                                    ignore_index = True)\n",
    "        \n",
    "    return results\n",
    "\n",
    "final_results = predictions (x_test)\n",
    "print(final_results)\n"
   ]
  },
  {
   "cell_type": "markdown",
   "metadata": {},
   "source": [
    "## Optional: Can you rotate an image?"
   ]
  },
  {
   "cell_type": "code",
   "execution_count": null,
   "metadata": {},
   "outputs": [],
   "source": []
  }
 ],
 "metadata": {
  "interpreter": {
   "hash": "35717f1c4f95342094abc4f6ac6148258ab8398bdcca50048c184145a1017736"
  },
  "kernelspec": {
   "display_name": "Python 3.9.12 ('ML')",
   "language": "python",
   "name": "python3"
  },
  "language_info": {
   "codemirror_mode": {
    "name": "ipython",
    "version": 3
   },
   "file_extension": ".py",
   "mimetype": "text/x-python",
   "name": "python",
   "nbconvert_exporter": "python",
   "pygments_lexer": "ipython3",
   "version": "3.9.12"
  },
  "orig_nbformat": 4
 },
 "nbformat": 4,
 "nbformat_minor": 2
}
