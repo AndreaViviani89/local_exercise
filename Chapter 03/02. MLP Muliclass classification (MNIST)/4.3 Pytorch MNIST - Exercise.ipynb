{
 "cells": [
  {
   "cell_type": "markdown",
   "metadata": {},
   "source": [
    "<div style=\"background:#222222; color:#ffffff; padding:20px\">\n",
    "    <h2 align=\"center\">Deep Learning Fundamentals</h2>\n",
    "    <h2 align=\"center\" style=\"color:#01ff84\">Multiclass Clasification: MNIST</h2>\n",
    "<div>"
   ]
  },
  {
   "cell_type": "markdown",
   "metadata": {},
   "source": [
    "## Imports"
   ]
  },
  {
   "cell_type": "code",
   "execution_count": 1,
   "metadata": {},
   "outputs": [],
   "source": [
    "%matplotlib inline\n",
    "%config InlineBackend.figure_format = 'retina'\n",
    "\n",
    "from collections import OrderedDict\n",
    "\n",
    "import numpy as np\n",
    "import matplotlib.pyplot as plt\n",
    "import time\n",
    "\n",
    "import torch\n",
    "from torch import nn\n",
    "from torch import optim\n",
    "import torch.nn.functional as F\n",
    "\n",
    "from torchvision import datasets, transforms"
   ]
  },
  {
   "cell_type": "markdown",
   "metadata": {},
   "source": [
    "## Auxliary plotting function"
   ]
  },
  {
   "cell_type": "code",
   "execution_count": 2,
   "metadata": {},
   "outputs": [],
   "source": [
    "# https://discuss.pytorch.org/t/view-classify-in-module-helper/30279/6\n",
    "\n",
    "def view_classify(img, ps):\n",
    "\n",
    "    ps = ps.data.numpy().squeeze()\n",
    "\n",
    "    fig, (ax1, ax2) = plt.subplots(figsize=(6,9), ncols=2)\n",
    "    ax1.imshow(img.resize_(1, 28, 28).numpy().squeeze())\n",
    "    ax1.axis('off')\n",
    "    ax2.barh(np.arange(10), ps)\n",
    "    ax2.set_aspect(0.1)\n",
    "    ax2.set_yticks(np.arange(10))\n",
    "    ax2.set_yticklabels(np.arange(10))\n",
    "    ax2.set_title('Class Probability')\n",
    "    ax2.set_xlim(0, 1.1)"
   ]
  },
  {
   "cell_type": "markdown",
   "metadata": {},
   "source": [
    "# Load MNIST Dataset\n",
    "First up, we need to get our dataset. This is provided through the `torchvision` package. The code below will download the MNIST dataset, then create training and test datasets for us. Don't worry too much about the details here, you'll learn more about this later."
   ]
  },
  {
   "cell_type": "code",
   "execution_count": 3,
   "metadata": {},
   "outputs": [],
   "source": [
    "# Define a transform to normalize the data (Preprocessing)\n",
    "transform = transforms.Compose([transforms.ToTensor(), transforms.Normalize((0.5), (0.5)) ])\n",
    "\n",
    "# Download and load the training data\n",
    "trainset    = datasets.MNIST('MNIST_data/', download=True, train=True, transform=transform)\n",
    "trainloader = torch.utils.data.DataLoader(trainset, batch_size=64, shuffle=True)\n",
    "\n",
    "# Download and load the test data\n",
    "testset    = datasets.MNIST('MNIST_data/', download=True, train=False, transform=transform)\n",
    "testloader = torch.utils.data.DataLoader(testset, batch_size=64, shuffle=True)"
   ]
  },
  {
   "cell_type": "code",
   "execution_count": 4,
   "metadata": {},
   "outputs": [],
   "source": [
    "dataiter = iter(trainloader)\n",
    "images, labels = dataiter.next()"
   ]
  },
  {
   "cell_type": "markdown",
   "metadata": {},
   "source": [
    "We have the training data loaded into `trainloader` and we make that an iterator with `iter(trainloader)`. We'd use this to loop through the dataset for training, but here I'm just grabbing the first batch so we can check out the data. We can see below that `images` is just a tensor with size (64, 1, 28, 28). So, 64 images per batch, 1 color channel, and 28x28 images."
   ]
  },
  {
   "cell_type": "code",
   "execution_count": 5,
   "metadata": {},
   "outputs": [
    {
     "data": {
      "image/png": "[encoded data removed]",
      "text/plain": [
       "<Figure size 432x288 with 1 Axes>"
      ]
     },
     "metadata": {
      "image/png": {
       "height": 248,
       "width": 251
      },
      "needs_background": "light"
     },
     "output_type": "display_data"
    }
   ],
   "source": [
    "plt.imshow(images[1].numpy().squeeze(), cmap='Greys_r');"
   ]
  },
  {
   "cell_type": "markdown",
   "metadata": {},
   "source": [
    "## Building networks with PyTorch\n",
    "\n",
    "Here I'll use PyTorch to build a simple feedfoward network to classify the MNIST images. That is, the network will receive a digit image as input and predict the digit in the image.\n",
    "\n",
    "<img src=\"assets/mlp_mnist.png\" width=600px>\n",
    "\n",
    "To build a neural network with PyTorch, you use the `torch.nn` module. The network itself is a class inheriting from `torch.nn.Module`. You define each of the operations separately, like `nn.Linear(784, 128)` for a fully connected linear layer with 784 inputs and 128 units.\n",
    "\n",
    "The class needs to include a `forward` method that implements the forward pass through the network. In this method, you pass some input tensor `x` through each of the operations you defined earlier. The `torch.nn` module also has functional equivalents for things like ReLUs in `torch.nn.functional`. This module is usually imported as `F`. Then to use a ReLU activation on some layer (which is just a tensor), you'd do `F.relu(x)`. Below are a few different commonly used activation functions.\n",
    "\n",
    "<img src=\"assets/activation.png\" width=700px>\n",
    "\n",
    "So, for this network, I'll build it with three fully connected layers, then a softmax output for predicting classes. The softmax function is similar to the sigmoid in that it squashes inputs between 0 and 1, but it's also normalized so that all the values sum to one like a proper probability distribution."
   ]
  },
  {
   "cell_type": "code",
   "execution_count": 6,
   "metadata": {},
   "outputs": [
    {
     "data": {
      "text/plain": [
       "Network(\n",
       "  (fc1): Linear(in_features=784, out_features=128, bias=True)\n",
       "  (fc2): Linear(in_features=128, out_features=64, bias=True)\n",
       "  (fc3): Linear(in_features=64, out_features=10, bias=True)\n",
       ")"
      ]
     },
     "execution_count": 6,
     "metadata": {},
     "output_type": "execute_result"
    }
   ],
   "source": [
    "class Network(nn.Module):\n",
    "    \n",
    "    # Defining the layers, 128, 64, 10 units each\n",
    "    def __init__(self):\n",
    "        super().__init__()\n",
    "        self.fc1 = nn.Linear(784, 128)\n",
    "        self.fc2 = nn.Linear(128, 64)\n",
    "        self.fc3 = nn.Linear(64, 10)\n",
    "        \n",
    "    # Forward pass through the network, returns the output logits\n",
    "    def forward(self, x):\n",
    "        x = self.fc1(x)\n",
    "        x = F.relu(x)\n",
    "        x = self.fc2(x)\n",
    "        x = F.relu(x)\n",
    "        x = self.fc3(x)\n",
    "        x = F.softmax(x, dim=1)\n",
    "        return x\n",
    "\n",
    "model = Network()\n",
    "model"
   ]
  },
  {
   "cell_type": "markdown",
   "metadata": {},
   "source": [
    "### Sequential API\n",
    "PyTorch provides a convenient way to build networks like this where a tensor is passed sequentially through operations, `nn.Sequential` ([documentation](https://pytorch.org/docs/master/nn.html#torch.nn.Sequential)). Using this to build the equivalent network:"
   ]
  },
  {
   "cell_type": "code",
   "execution_count": 7,
   "metadata": {},
   "outputs": [
    {
     "name": "stdout",
     "output_type": "stream",
     "text": [
      "Sequential(\n",
      "  (0): Linear(in_features=784, out_features=128, bias=True)\n",
      "  (1): ReLU()\n",
      "  (2): Linear(in_features=128, out_features=64, bias=True)\n",
      "  (3): ReLU()\n",
      "  (4): Linear(in_features=64, out_features=10, bias=True)\n",
      "  (5): Softmax(dim=1)\n",
      ")\n"
     ]
    }
   ],
   "source": [
    "# Hyperparameters for our network\n",
    "input_size   = 784\n",
    "hidden_sizes = [128, 64]\n",
    "output_size   = 10\n",
    "\n",
    "# Build a feed-forward network\n",
    "model = nn.Sequential(nn.Linear(input_size, hidden_sizes[0]),\n",
    "                      nn.ReLU(),\n",
    "                      nn.Linear(hidden_sizes[0], hidden_sizes[1]),\n",
    "                      nn.ReLU(),\n",
    "                      nn.Linear(hidden_sizes[1], output_size),\n",
    "                      nn.Softmax(dim=1))\n",
    "print(model)"
   ]
  },
  {
   "cell_type": "markdown",
   "metadata": {},
   "source": [
    "You can also pass in an `OrderedDict` to name the individual layers and operations. Note that a dictionary keys must be unique, so _each operation must have a different name_."
   ]
  },
  {
   "cell_type": "code",
   "execution_count": 8,
   "metadata": {},
   "outputs": [
    {
     "data": {
      "text/plain": [
       "Sequential(\n",
       "  (fc1): Linear(in_features=784, out_features=128, bias=True)\n",
       "  (relu1): ReLU()\n",
       "  (fc2): Linear(in_features=128, out_features=64, bias=True)\n",
       "  (relu2): ReLU()\n",
       "  (output): Linear(in_features=64, out_features=10, bias=True)\n",
       "  (softmax): Softmax(dim=1)\n",
       ")"
      ]
     },
     "execution_count": 8,
     "metadata": {},
     "output_type": "execute_result"
    }
   ],
   "source": [
    "model = nn.Sequential(OrderedDict([\n",
    "          ('fc1',   nn.Linear(input_size, hidden_sizes[0])),\n",
    "          ('relu1', nn.ReLU()),\n",
    "          ('fc2',   nn.Linear(hidden_sizes[0], hidden_sizes[1])),\n",
    "          ('relu2', nn.ReLU()),\n",
    "          ('output', nn.Linear(hidden_sizes[1], output_size)),\n",
    "          ('softmax', nn.Softmax(dim=1))]))\n",
    "model"
   ]
  },
  {
   "cell_type": "markdown",
   "metadata": {},
   "source": [
    "### Initializing weights and biases\n",
    "\n",
    "The weights and such are automatically initialized for you, but it's possible to customize how they are initialized. The weights and biases are tensors attached to the layer you defined, you can get them with `model.fc1.weight` for instance."
   ]
  },
  {
   "cell_type": "code",
   "execution_count": 9,
   "metadata": {},
   "outputs": [
    {
     "name": "stdout",
     "output_type": "stream",
     "text": [
      "Parameter containing:\n",
      "tensor([[ 0.0156,  0.0229, -0.0249,  ...,  0.0303,  0.0314,  0.0064],\n",
      "        [-0.0232, -0.0226, -0.0316,  ..., -0.0154, -0.0283,  0.0264],\n",
      "        [ 0.0025, -0.0011,  0.0091,  ..., -0.0249,  0.0206, -0.0076],\n",
      "        ...,\n",
      "        [ 0.0155, -0.0238,  0.0080,  ...,  0.0079,  0.0285,  0.0323],\n",
      "        [ 0.0039, -0.0331, -0.0100,  ..., -0.0152,  0.0007,  0.0253],\n",
      "        [ 0.0116,  0.0210, -0.0184,  ..., -0.0290,  0.0157,  0.0210]],\n",
      "       requires_grad=True)\n",
      "Parameter containing:\n",
      "tensor([-0.0161, -0.0201, -0.0203, -0.0250, -0.0106,  0.0094, -0.0107,  0.0329,\n",
      "         0.0205,  0.0165, -0.0320,  0.0295,  0.0154, -0.0141, -0.0107,  0.0192,\n",
      "        -0.0261, -0.0104,  0.0076,  0.0307,  0.0254, -0.0015, -0.0125, -0.0232,\n",
      "        -0.0262, -0.0298, -0.0074,  0.0172, -0.0141, -0.0038, -0.0027, -0.0011,\n",
      "         0.0259,  0.0017, -0.0339,  0.0045, -0.0101,  0.0113,  0.0117, -0.0321,\n",
      "         0.0254,  0.0230, -0.0060, -0.0067,  0.0138, -0.0274,  0.0318,  0.0059,\n",
      "         0.0092, -0.0190,  0.0249, -0.0081,  0.0112,  0.0069, -0.0273,  0.0136,\n",
      "         0.0272,  0.0343,  0.0347,  0.0203,  0.0228, -0.0062,  0.0025,  0.0269,\n",
      "        -0.0048,  0.0070, -0.0117, -0.0077, -0.0198, -0.0099,  0.0067,  0.0149,\n",
      "         0.0356, -0.0303,  0.0195,  0.0098, -0.0090, -0.0168, -0.0054, -0.0130,\n",
      "         0.0310, -0.0256, -0.0063, -0.0185, -0.0305, -0.0341, -0.0352, -0.0334,\n",
      "        -0.0060,  0.0091, -0.0261, -0.0212,  0.0039,  0.0243, -0.0160, -0.0145,\n",
      "         0.0071,  0.0262,  0.0111, -0.0019, -0.0263,  0.0206,  0.0222,  0.0158,\n",
      "         0.0209, -0.0108, -0.0235,  0.0182, -0.0181,  0.0011, -0.0334, -0.0301,\n",
      "        -0.0120, -0.0173, -0.0142, -0.0153, -0.0252, -0.0177, -0.0088, -0.0041,\n",
      "        -0.0171, -0.0219,  0.0084,  0.0057, -0.0249,  0.0196,  0.0353,  0.0321],\n",
      "       requires_grad=True)\n"
     ]
    }
   ],
   "source": [
    "print(model.fc1.weight)\n",
    "print(model.fc1.bias)"
   ]
  },
  {
   "cell_type": "markdown",
   "metadata": {},
   "source": [
    "For custom initialization, we want to modify these tensors in place. These are actually autograd *Variables*, so we need to get back the actual tensors with `model.fc1.weight.data`. Once we have the tensors, we can fill them with zeros (for biases) or random normal values."
   ]
  },
  {
   "cell_type": "code",
   "execution_count": 10,
   "metadata": {},
   "outputs": [
    {
     "data": {
      "text/plain": [
       "tensor([0., 0., 0., 0., 0., 0., 0., 0., 0., 0., 0., 0., 0., 0., 0., 0., 0., 0., 0., 0., 0., 0., 0., 0.,\n",
       "        0., 0., 0., 0., 0., 0., 0., 0., 0., 0., 0., 0., 0., 0., 0., 0., 0., 0., 0., 0., 0., 0., 0., 0.,\n",
       "        0., 0., 0., 0., 0., 0., 0., 0., 0., 0., 0., 0., 0., 0., 0., 0., 0., 0., 0., 0., 0., 0., 0., 0.,\n",
       "        0., 0., 0., 0., 0., 0., 0., 0., 0., 0., 0., 0., 0., 0., 0., 0., 0., 0., 0., 0., 0., 0., 0., 0.,\n",
       "        0., 0., 0., 0., 0., 0., 0., 0., 0., 0., 0., 0., 0., 0., 0., 0., 0., 0., 0., 0., 0., 0., 0., 0.,\n",
       "        0., 0., 0., 0., 0., 0., 0., 0.])"
      ]
     },
     "execution_count": 10,
     "metadata": {},
     "output_type": "execute_result"
    }
   ],
   "source": [
    "# Set biases to all zeros\n",
    "model.fc1.bias.data.fill_(0)"
   ]
  },
  {
   "cell_type": "code",
   "execution_count": 11,
   "metadata": {},
   "outputs": [
    {
     "data": {
      "text/plain": [
       "tensor([[-0.0136,  0.0037, -0.0093,  ...,  0.0020, -0.0150,  0.0159],\n",
       "        [-0.0046, -0.0040, -0.0097,  ...,  0.0052,  0.0073,  0.0036],\n",
       "        [ 0.0104, -0.0079,  0.0048,  ..., -0.0019,  0.0131,  0.0062],\n",
       "        ...,\n",
       "        [ 0.0207, -0.0191,  0.0015,  ..., -0.0061,  0.0243, -0.0006],\n",
       "        [ 0.0073,  0.0023,  0.0039,  ..., -0.0012, -0.0045, -0.0223],\n",
       "        [ 0.0005,  0.0031, -0.0038,  ...,  0.0098, -0.0179,  0.0123]])"
      ]
     },
     "execution_count": 11,
     "metadata": {},
     "output_type": "execute_result"
    }
   ],
   "source": [
    "# sample from random normal with standard dev = 0.01\n",
    "model.fc1.weight.data.normal_(std=0.01)"
   ]
  },
  {
   "cell_type": "markdown",
   "metadata": {},
   "source": [
    "### STEP 1: Forward pass\n",
    "\n",
    "Now that we have a network, let's see what happens when we pass in an image. This is called the forward pass. We're going to convert the image data into a tensor, then pass it through the operations defined by the network architecture."
   ]
  },
  {
   "cell_type": "code",
   "execution_count": 12,
   "metadata": {},
   "outputs": [
    {
     "data": {
      "image/png": "[encoded data removed]",
      "text/plain": [
       "<Figure size 432x648 with 2 Axes>"
      ]
     },
     "metadata": {
      "image/png": {
       "height": 195,
       "width": 349
      },
      "needs_background": "light"
     },
     "output_type": "display_data"
    }
   ],
   "source": [
    "# Grab some data \n",
    "dataiter = iter(trainloader)\n",
    "images, labels = dataiter.next()\n",
    "\n",
    "# Resize images into a 1D vector, new shape is (batch size, color channels, image pixels) \n",
    "images.resize_(64, 1, 784)\n",
    "# or images.resize_(images.shape[0], 1, 784) to not automatically get batch size\n",
    "\n",
    "# Forward pass through the network\n",
    "img_idx = 0\n",
    "ps = model.forward(images[img_idx,:])\n",
    "\n",
    "img = images[img_idx]\n",
    "view_classify(img.view(1, 28, 28), ps)"
   ]
  },
  {
   "cell_type": "markdown",
   "metadata": {},
   "source": [
    "As you can see above, our network has basically no idea what this digit is. It's because we haven't trained it yet, all the weights are random!"
   ]
  },
  {
   "cell_type": "markdown",
   "metadata": {},
   "source": [
    "# Training Neural Networks\n",
    "\n",
    "The network we built isn't so smart, it doesn't know anything about our handwritten digits. Neural networks with non-linear activations work like universal function approximators. There is some function that maps your input to the output. For example, images of handwritten digits to class probabilities. The power of neural networks is that we can train them to approximate this function, and basically any function given enough data and compute time.\n",
    "\n",
    "<img src=\"assets/function_approx.png\" width=500px>\n",
    "\n",
    "At first the network is naive, it doesn't know the function mapping the inputs to the outputs. We train the network by showing it examples of real data, then adjusting the network parameters such that it approximates this function.\n",
    "\n",
    "To find these parameters, we need to know how poorly the network is predicting the real outputs. For this we calculate a **loss function** (also called the cost), a measure of our prediction error. For example, the mean squared loss is often used in regression and binary classification problems\n",
    "\n",
    "$$\n",
    "\\ell = \\frac{1}{2n}\\sum_i^n{\\left(y_i - \\hat{y}_i\\right)^2}\n",
    "$$\n",
    "\n",
    "where $n$ is the number of training examples, $y_i$ are the true labels, and $\\hat{y}_i$ are the predicted labels.\n",
    "\n",
    "By minimizing this loss with respect to the network parameters, we can find configurations where the loss is at a minimum and the network is able to predict the correct labels with high accuracy. We find this minimum using a process called **gradient descent**. The gradient is the slope of the loss function and points in the direction of fastest change. To get to the minimum in the least amount of time, we then want to follow the gradient (downwards). You can think of this like descending a mountain by following the steepest slope to the base.\n",
    "\n",
    "<img src='assets/gradient_descent.png' width=350px>"
   ]
  },
  {
   "cell_type": "markdown",
   "metadata": {},
   "source": [
    "## Backpropagation\n",
    "\n",
    "For single layer networks, gradient descent is simple to implement. However, it's more complicated for deeper, multilayer neural networks like the one we've built. Complicated enough that it took about 30 years before researchers figured out how to train multilayer networks, although it's straightforward once you learn about it. \n",
    "\n",
    "This is done through **backpropagation** which is really just an application of the chain rule from calculus. It's easiest to understand if we convert a two layer network into a graph representation.\n",
    "\n",
    "<img src='assets/w1_backprop_graph.png' width=400px>\n",
    "\n",
    "In the forward pass through the network, our data and operations go from right to left here. To train the weights with gradient descent, we propagate the gradient of the cost backwards through the network. Mathematically, this is really just calculating the gradient of the loss with respect to the weights using the chain rule.\n",
    "\n",
    "$$\n",
    "\\frac{\\partial \\ell}{\\partial w_1} = \\frac{\\partial l_1}{\\partial w_1} \\frac{\\partial s}{\\partial l_1} \\frac{\\partial l_2}{\\partial s} \\frac{\\partial \\ell}{\\partial l_2}\n",
    "$$\n",
    "\n",
    "We update our weights using this gradient with some learning rate $\\alpha$. \n",
    "\n",
    "$$\n",
    "w^\\prime = w - \\alpha \\frac{\\partial \\ell}{\\partial w}\n",
    "$$\n",
    "\n",
    "The learning rate is set such that the weight update steps are small enough that the iterative method settles in a minimum.\n",
    "\n",
    "The first thing we need to do for training is define our loss function. In PyTorch, you'll usually see this as `criterion`. Here we're using softmax output, so we want to use `criterion = nn.CrossEntropyLoss()` as our loss. Later when training, you use `loss = criterion(output, targets)` to calculate the actual loss.\n",
    "\n",
    "We also need to define the optimizer we're using, SGD or Adam, or something along those lines. Here I'll just use SGD with `torch.optim.SGD`, passing in the network parameters and the learning rate."
   ]
  },
  {
   "cell_type": "markdown",
   "metadata": {},
   "source": [
    "## Autograd\n",
    "\n",
    "Torch provides a module, `autograd`, for automatically calculating the gradient of tensors. It does this by keeping track of operations performed on tensors. To make sure PyTorch keeps track of operations on a tensor and calculates the gradients, you need to set `requires_grad` on a tensor. You can do this at creation with the `requires_grad` keyword, or at any time with `x.requires_grad_(True)`.\n",
    "\n",
    "You can turn off gradients for a block of code with the `torch.no_grad()` content:\n",
    "```python\n",
    "x = torch.zeros(1, requires_grad=True)\n",
    ">>> with torch.no_grad():\n",
    "...     y = x * 2\n",
    ">>> y.requires_grad\n",
    "False\n",
    "```\n",
    "\n",
    "Also, you can turn on or off gradients altogether with `torch.set_grad_enabled(True|False)`.\n",
    "\n",
    "The gradients are computed with respect to some variable `z` with `z.backward()`. This does a backward pass through the operations that created `z`."
   ]
  },
  {
   "cell_type": "code",
   "execution_count": 13,
   "metadata": {},
   "outputs": [
    {
     "name": "stdout",
     "output_type": "stream",
     "text": [
      "tensor([[ 0.6148, -0.6744],\n",
      "        [ 0.7361, -0.1105]], requires_grad=True)\n"
     ]
    }
   ],
   "source": [
    "x = torch.randn(2,2, requires_grad=True)\n",
    "print(x)"
   ]
  },
  {
   "cell_type": "code",
   "execution_count": 14,
   "metadata": {},
   "outputs": [
    {
     "name": "stdout",
     "output_type": "stream",
     "text": [
      "tensor([[0.3779, 0.4548],\n",
      "        [0.5419, 0.0122]], grad_fn=<PowBackward0>)\n"
     ]
    }
   ],
   "source": [
    "y = x**2\n",
    "print(y)"
   ]
  },
  {
   "cell_type": "markdown",
   "metadata": {},
   "source": [
    "Below we can see the operation that created `y`, a power operation `PowBackward0`."
   ]
  },
  {
   "cell_type": "code",
   "execution_count": 15,
   "metadata": {},
   "outputs": [
    {
     "name": "stdout",
     "output_type": "stream",
     "text": [
      "<PowBackward0 object at 0x000002CC408D51C0>\n"
     ]
    }
   ],
   "source": [
    "## grad_fn shows the function that generated this variable\n",
    "print(y.grad_fn)"
   ]
  },
  {
   "cell_type": "markdown",
   "metadata": {},
   "source": [
    "The autgrad module keeps track of these operations and knows how to calculate the gradient for each one. In this way, it's able to calculate the gradients for a chain of operations, with respect to any one tensor. Let's reduce the tensor `y` to a scalar value, the mean."
   ]
  },
  {
   "cell_type": "code",
   "execution_count": 16,
   "metadata": {},
   "outputs": [
    {
     "name": "stdout",
     "output_type": "stream",
     "text": [
      "tensor(0.3467, grad_fn=<MeanBackward0>)\n"
     ]
    }
   ],
   "source": [
    "z = y.mean()\n",
    "print(z)"
   ]
  },
  {
   "cell_type": "markdown",
   "metadata": {},
   "source": [
    "You can check the gradients for `x` and `y` but they are empty currently."
   ]
  },
  {
   "cell_type": "code",
   "execution_count": 17,
   "metadata": {},
   "outputs": [
    {
     "name": "stdout",
     "output_type": "stream",
     "text": [
      "None\n"
     ]
    }
   ],
   "source": [
    "print(x.grad)"
   ]
  },
  {
   "cell_type": "markdown",
   "metadata": {},
   "source": [
    "To calculate the gradients, you need to run the `.backward` method on a Variable, `z` for example. This will calculate the gradient for `z` with respect to `x`\n",
    "\n",
    "$$\n",
    "\\frac{\\partial z}{\\partial x} = \\frac{\\partial}{\\partial x}\\left[\\frac{1}{n}\\sum_i^n x_i^2\\right] = \\frac{x}{2}\n",
    "$$"
   ]
  },
  {
   "cell_type": "code",
   "execution_count": 18,
   "metadata": {},
   "outputs": [
    {
     "name": "stdout",
     "output_type": "stream",
     "text": [
      "tensor([[ 0.3074, -0.3372],\n",
      "        [ 0.3681, -0.0552]])\n",
      "tensor([[ 0.3074, -0.3372],\n",
      "        [ 0.3681, -0.0552]], grad_fn=<DivBackward0>)\n"
     ]
    }
   ],
   "source": [
    "z.backward()\n",
    "print(x.grad)\n",
    "print(x/2)"
   ]
  },
  {
   "cell_type": "markdown",
   "metadata": {},
   "source": [
    "These gradients calculations are particularly useful for neural networks. For training we need the gradients of the weights with respect to the cost. With PyTorch, we run data forward through the network to calculate the cost, then, go backwards to calculate the gradients with respect to the cost. Once we have the gradients we can make a gradient descent step. "
   ]
  },
  {
   "cell_type": "markdown",
   "metadata": {},
   "source": [
    "I'll build a network with `nn.Sequential` here. Only difference from the last part is I'm not actually using softmax on the output, but instead just using the raw output from the last layer. This is because the output from softmax is a probability distribution. Often, the output will have values really close to zero or really close to one. Due to [inaccuracies with representing numbers as floating points](https://docs.python.org/3/tutorial/floatingpoint.html), computations with a softmax output can lose accuracy and become unstable. To get around this, we'll use the raw output, called the **logits**, to calculate the loss."
   ]
  },
  {
   "cell_type": "code",
   "execution_count": 19,
   "metadata": {},
   "outputs": [],
   "source": [
    "# Hyperparameters for our network\n",
    "input_size   = 784\n",
    "hidden_sizes = [128, 64]\n",
    "output_size  = 10\n",
    "\n",
    "# Build a feed-forward network\n",
    "model = nn.Sequential(OrderedDict([\n",
    "          ('fc1', nn.Linear(input_size, hidden_sizes[0])),\n",
    "          ('relu1', nn.ReLU()),\n",
    "          ('fc2', nn.Linear(hidden_sizes[0], hidden_sizes[1])),\n",
    "          ('relu2', nn.ReLU()),\n",
    "          ('logits', nn.Linear(hidden_sizes[1], output_size))]))"
   ]
  },
  {
   "cell_type": "markdown",
   "metadata": {},
   "source": [
    "## Training the network!\n",
    "\n",
    "The first thing we need to do for training is define our loss function. In PyTorch, you'll usually see this as `criterion`. Here we're using softmax output, so we want to use `criterion = nn.CrossEntropyLoss()` as our loss. Later when training, you use `loss = criterion(output, targets)` to calculate the actual loss.\n",
    "\n",
    "We also need to define the optimizer we're using, SGD or Adam, or something along those lines. Here I'll just use SGD with `torch.optim.SGD`, passing in the network parameters and the learning rate."
   ]
  },
  {
   "cell_type": "code",
   "execution_count": 20,
   "metadata": {},
   "outputs": [],
   "source": [
    "criterion = nn.CrossEntropyLoss()\n",
    "optimizer = optim.SGD(model.parameters(), lr=0.01)"
   ]
  },
  {
   "cell_type": "markdown",
   "metadata": {},
   "source": [
    "First, let's consider just one learning step before looping through all the data. The general process with PyTorch:\n",
    "\n",
    "* Make a forward pass through the network to get the logits \n",
    "* Use the logits to calculate the loss\n",
    "* Perform a backward pass through the network with `loss.backward()` to calculate the gradients\n",
    "* Take a step with the optimizer to update the weights\n",
    "\n",
    "Below I'll go through one training step and print out the weights and gradients so you can see how it changes."
   ]
  },
  {
   "cell_type": "code",
   "execution_count": 21,
   "metadata": {},
   "outputs": [
    {
     "name": "stdout",
     "output_type": "stream",
     "text": [
      "Initial weights -  Parameter containing:\n",
      "tensor([[-0.0029,  0.0242,  0.0170,  ..., -0.0249,  0.0092, -0.0285],\n",
      "        [-0.0243,  0.0062,  0.0308,  ..., -0.0263,  0.0304, -0.0134],\n",
      "        [ 0.0230, -0.0196,  0.0116,  ...,  0.0343,  0.0125,  0.0181],\n",
      "        ...,\n",
      "        [-0.0039,  0.0083, -0.0298,  ...,  0.0164, -0.0055, -0.0215],\n",
      "        [ 0.0083,  0.0325, -0.0342,  ...,  0.0221,  0.0255, -0.0296],\n",
      "        [-0.0295,  0.0211,  0.0256,  ...,  0.0302, -0.0232,  0.0104]],\n",
      "       requires_grad=True)\n",
      "Gradient - tensor([[ 0.0000,  0.0000,  0.0000,  ...,  0.0000,  0.0000,  0.0000],\n",
      "        [-0.0040, -0.0040, -0.0040,  ..., -0.0040, -0.0040, -0.0040],\n",
      "        [ 0.0000,  0.0000,  0.0000,  ...,  0.0000,  0.0000,  0.0000],\n",
      "        ...,\n",
      "        [-0.0034, -0.0034, -0.0034,  ..., -0.0034, -0.0034, -0.0034],\n",
      "        [ 0.0019,  0.0019,  0.0019,  ...,  0.0019,  0.0019,  0.0019],\n",
      "        [ 0.0026,  0.0026,  0.0026,  ...,  0.0026,  0.0026,  0.0026]])\n"
     ]
    }
   ],
   "source": [
    "print('Initial weights - ', model.fc1.weight)\n",
    "\n",
    "images, labels = next(iter(trainloader))\n",
    "images.resize_(64, 784)\n",
    "\n",
    "# Clear the gradients, do this because gradients are accumulated\n",
    "optimizer.zero_grad()\n",
    "\n",
    "# Forward pass, then backward pass, then update weights\n",
    "output = model.forward(images)\n",
    "loss = criterion(output, labels)\n",
    "loss.backward()\n",
    "print('Gradient -', model.fc1.weight.grad)\n",
    "optimizer.step()"
   ]
  },
  {
   "cell_type": "code",
   "execution_count": 22,
   "metadata": {},
   "outputs": [
    {
     "name": "stdout",
     "output_type": "stream",
     "text": [
      "Updated weights -  Parameter containing:\n",
      "tensor([[-0.0029,  0.0242,  0.0170,  ..., -0.0249,  0.0092, -0.0285],\n",
      "        [-0.0243,  0.0062,  0.0308,  ..., -0.0262,  0.0305, -0.0134],\n",
      "        [ 0.0230, -0.0196,  0.0116,  ...,  0.0343,  0.0125,  0.0181],\n",
      "        ...,\n",
      "        [-0.0039,  0.0083, -0.0298,  ...,  0.0164, -0.0055, -0.0214],\n",
      "        [ 0.0083,  0.0325, -0.0343,  ...,  0.0221,  0.0255, -0.0297],\n",
      "        [-0.0295,  0.0210,  0.0256,  ...,  0.0301, -0.0232,  0.0104]],\n",
      "       requires_grad=True)\n"
     ]
    }
   ],
   "source": [
    "print('Updated weights - ', model.fc1.weight)"
   ]
  },
  {
   "cell_type": "markdown",
   "metadata": {},
   "source": [
    "### Training for real\n",
    "\n",
    "Now we'll put this algorithm into a loop so we can go through all the images. This is fairly straightforward. We'll loop through the mini-batches in our dataset, pass the data through the network to calculate the losses, get the gradients, then run the optimizer."
   ]
  },
  {
   "cell_type": "code",
   "execution_count": 23,
   "metadata": {},
   "outputs": [],
   "source": [
    "optimizer = optim.SGD(model.parameters(), lr=0.003)"
   ]
  },
  {
   "cell_type": "code",
   "execution_count": 24,
   "metadata": {},
   "outputs": [
    {
     "name": "stdout",
     "output_type": "stream",
     "text": [
      "Epoch: 1/3\n",
      "\tIteration: 0\t Loss: 0.0574\n",
      "\tIteration: 40\t Loss: 2.2937\n",
      "\tIteration: 80\t Loss: 2.2715\n",
      "\tIteration: 120\t Loss: 2.2512\n",
      "\tIteration: 160\t Loss: 2.2294\n",
      "\tIteration: 200\t Loss: 2.2165\n",
      "\tIteration: 240\t Loss: 2.1833\n",
      "\tIteration: 280\t Loss: 2.1619\n",
      "\tIteration: 320\t Loss: 2.1255\n",
      "\tIteration: 360\t Loss: 2.1075\n",
      "\tIteration: 400\t Loss: 2.0647\n",
      "\tIteration: 440\t Loss: 2.0261\n",
      "\tIteration: 480\t Loss: 1.9870\n",
      "\tIteration: 520\t Loss: 1.9449\n",
      "\tIteration: 560\t Loss: 1.8800\n",
      "\tIteration: 600\t Loss: 1.8357\n",
      "\tIteration: 640\t Loss: 1.7844\n",
      "\tIteration: 680\t Loss: 1.7097\n",
      "\tIteration: 720\t Loss: 1.6487\n",
      "\tIteration: 760\t Loss: 1.6046\n",
      "\tIteration: 800\t Loss: 1.5412\n",
      "\tIteration: 840\t Loss: 1.4414\n",
      "\tIteration: 880\t Loss: 1.3825\n",
      "\tIteration: 920\t Loss: 1.3246\n",
      "Epoch: 2/3\n",
      "\tIteration: 0\t Loss: 0.0289\n",
      "\tIteration: 40\t Loss: 1.2331\n",
      "\tIteration: 80\t Loss: 1.1723\n",
      "\tIteration: 120\t Loss: 1.1211\n",
      "\tIteration: 160\t Loss: 1.1172\n",
      "\tIteration: 200\t Loss: 1.0264\n",
      "\tIteration: 240\t Loss: 0.9804\n",
      "\tIteration: 280\t Loss: 0.9445\n",
      "\tIteration: 320\t Loss: 0.9031\n",
      "\tIteration: 360\t Loss: 0.8889\n",
      "\tIteration: 400\t Loss: 0.8439\n",
      "\tIteration: 440\t Loss: 0.7985\n",
      "\tIteration: 480\t Loss: 0.7838\n",
      "\tIteration: 520\t Loss: 0.7767\n",
      "\tIteration: 560\t Loss: 0.7824\n",
      "\tIteration: 600\t Loss: 0.7262\n",
      "\tIteration: 640\t Loss: 0.7157\n",
      "\tIteration: 680\t Loss: 0.6874\n",
      "\tIteration: 720\t Loss: 0.6796\n",
      "\tIteration: 760\t Loss: 0.6553\n",
      "\tIteration: 800\t Loss: 0.6640\n",
      "\tIteration: 840\t Loss: 0.6329\n",
      "\tIteration: 880\t Loss: 0.6137\n",
      "\tIteration: 920\t Loss: 0.6153\n",
      "Epoch: 3/3\n",
      "\tIteration: 0\t Loss: 0.0183\n",
      "\tIteration: 40\t Loss: 0.5843\n",
      "\tIteration: 80\t Loss: 0.5884\n",
      "\tIteration: 120\t Loss: 0.5655\n",
      "\tIteration: 160\t Loss: 0.5659\n",
      "\tIteration: 200\t Loss: 0.5738\n",
      "\tIteration: 240\t Loss: 0.5693\n",
      "\tIteration: 280\t Loss: 0.5490\n",
      "\tIteration: 320\t Loss: 0.5385\n",
      "\tIteration: 360\t Loss: 0.5396\n",
      "\tIteration: 400\t Loss: 0.5115\n",
      "\tIteration: 440\t Loss: 0.5213\n",
      "\tIteration: 480\t Loss: 0.5164\n",
      "\tIteration: 520\t Loss: 0.5164\n",
      "\tIteration: 560\t Loss: 0.5000\n",
      "\tIteration: 600\t Loss: 0.4749\n",
      "\tIteration: 640\t Loss: 0.4551\n",
      "\tIteration: 680\t Loss: 0.4951\n",
      "\tIteration: 720\t Loss: 0.5077\n",
      "\tIteration: 760\t Loss: 0.4671\n",
      "\tIteration: 800\t Loss: 0.4660\n",
      "\tIteration: 840\t Loss: 0.4558\n",
      "\tIteration: 880\t Loss: 0.4557\n",
      "\tIteration: 920\t Loss: 0.4883\n"
     ]
    }
   ],
   "source": [
    "epochs = 3\n",
    "print_every = 40\n",
    "\n",
    "for e in range(epochs):\n",
    "    running_loss = 0\n",
    "    print(f\"Epoch: {e+1}/{epochs}\")\n",
    "\n",
    "    for i, (images, labels) in enumerate(iter(trainloader)):\n",
    "\n",
    "        # Flatten MNIST images into a 784 long vector\n",
    "        images.resize_(images.size()[0], 784)\n",
    "        \n",
    "        optimizer.zero_grad()\n",
    "        \n",
    "        output = model.forward(images)   # 1) Forward pass\n",
    "        loss = criterion(output, labels) # 2) Compute loss\n",
    "        loss.backward()                  # 3) Backward pass\n",
    "        optimizer.step()                 # 4) Update model\n",
    "        \n",
    "        running_loss += loss.item()\n",
    "        \n",
    "        if i % print_every == 0:\n",
    "            print(f\"\\tIteration: {i}\\t Loss: {running_loss/print_every:.4f}\")\n",
    "            running_loss = 0"
   ]
  },
  {
   "cell_type": "markdown",
   "metadata": {},
   "source": [
    "With the network trained, we can check out it's predictions."
   ]
  },
  {
   "cell_type": "code",
   "execution_count": 25,
   "metadata": {},
   "outputs": [
    {
     "data": {
      "image/png": "[encoded data removed]",
      "text/plain": [
       "<Figure size 432x648 with 2 Axes>"
      ]
     },
     "metadata": {
      "image/png": {
       "height": 195,
       "width": 349
      },
      "needs_background": "light"
     },
     "output_type": "display_data"
    }
   ],
   "source": [
    "images, labels = next(iter(trainloader))\n",
    "\n",
    "img = images[0].view(1, 784)\n",
    "# Turn off gradients to speed up this part\n",
    "with torch.no_grad():\n",
    "    logits = model.forward(img)\n",
    "\n",
    "# Output of the network are logits, need to take softmax for probabilities\n",
    "ps = F.softmax(logits, dim=1)\n",
    "view_classify(img.view(1, 28, 28), ps)"
   ]
  },
  {
   "cell_type": "markdown",
   "metadata": {},
   "source": [
    "Now our network is brilliant. It can accurately predict the digits in our images."
   ]
  },
  {
   "cell_type": "markdown",
   "metadata": {},
   "source": [
    "<div style=\"background:#222222; color:#ffffff; padding:20px\">\n",
    "    <h2 align=\"center\" style=\"color:#01ff84\">MNIST Clasification: Exercise</h2>\n",
    "<div>"
   ]
  },
  {
   "cell_type": "markdown",
   "metadata": {},
   "source": [
    "<div style=\"background:#222222; color:#ffffff; padding:20px\">\n",
    "  <h3 style=\"color:#01ff84; margin-top:4px\">Exercise 1:</h3>\n",
    "  <p>Now it's your turn to build a simple network, use any method I've covered so far. In the next notebook, you'll learn how to train a network so it can make good predictions.</p>\n",
    "  <p>Build a network to classify the MNIST images with 3 hidden layers. Use 400 units in the first hidden layer, 200 units in the second layer, and 100 units in the third layer. Each hidden layer should have a ReLU activation function, and use softmax on the output layer.</p>\n",
    "<div>"
   ]
  },
  {
   "cell_type": "code",
   "execution_count": 26,
   "metadata": {},
   "outputs": [],
   "source": [
    "## TODO: Your network here\n",
    "model1 = nn.Sequential(nn.Linear(input_size, 400),\n",
    "                                nn.ReLU(),\n",
    "                                nn.Linear(400, 200),\n",
    "                                nn.ReLU(),\n",
    "                                nn.Linear(200, 100),\n",
    "                                nn.ReLU(),\n",
    "                                nn.Linear(100, 10))\n",
    "                                # nn.Softmax(dim= 1))"
   ]
  },
  {
   "cell_type": "code",
   "execution_count": 27,
   "metadata": {},
   "outputs": [
    {
     "data": {
      "image/png": "[encoded data removed]",
      "text/plain": [
       "<Figure size 432x648 with 2 Axes>"
      ]
     },
     "metadata": {
      "image/png": {
       "height": 195,
       "width": 349
      },
      "needs_background": "light"
     },
     "output_type": "display_data"
    }
   ],
   "source": [
    "# Run this cell with your model to make sure it works\n",
    "# Forward pass through the network and display output\n",
    "images, labels = next(iter(trainloader))\n",
    "images.resize_(images.shape[0], 1, 784)\n",
    "ps = model1.forward(images[0,:])\n",
    "view_classify(images[0].view(1, 28, 28), ps)"
   ]
  },
  {
   "cell_type": "markdown",
   "metadata": {},
   "source": [
    "<div style=\"background:#222222; color:#ffffff; padding:20px\">\n",
    "  <h3 style=\"color:#01ff84; margin-top:4px\">Exercise 2:</h3>\n",
    "  <p>Train your network implementing the Pytorch training loop and <strong style=\"color:#01ff84\">after each epoch, use the model for predicting the test (validation) MNIST data.</strong></p>\n",
    "  <p>Note: If your model does not fit with the final softmax layer, you can remove this layer.</p>\n",
    "  <p>Hint: <a href=\"https://discuss.pytorch.org/t/training-loop-checking-validation-accuracy/78399\">Training loop checking validation accuracy\n",
    "</a></p>\n",
    "  <p>Research about <code>model.train()</code>, <code>model.eval()</code> and <code>with torch.no_grad()</code> in Pytorch.\n",
    "<div>"
   ]
  },
  {
   "cell_type": "code",
   "execution_count": 36,
   "metadata": {},
   "outputs": [
    {
     "name": "stdout",
     "output_type": "stream",
     "text": [
      "epoch 1 done: accuracy of 0.9161999821662903\n",
      "epoch 2 done: accuracy of 0.920799970626831\n",
      "epoch 3 done: accuracy of 0.9218000173568726\n"
     ]
    }
   ],
   "source": [
    "## TODO: Your training loop here\n",
    "\n",
    "epochs = 3\n",
    "\n",
    "optimizer = optim.SGD(model1.parameters(), lr= 0.003)\n",
    "\n",
    "for e in range(epochs):\n",
    "\n",
    "    acc_list = []\n",
    "    val_loss = []\n",
    "    train_loss = []\n",
    "\n",
    "    for i, (images, labels) in enumerate(iter(trainloader)):\n",
    "\n",
    "\n",
    "        # Flatten MNIST images into a 784 long vector\n",
    "        images.resize_(images.size()[0], 784),\n",
    "        model1.train(),\n",
    "        optimizer.zero_grad(),\n",
    "        output = model1.forward(images)\n",
    "        loss = criterion(output, labels)\n",
    "        train_loss.append(loss.detach().item())\n",
    "        loss.backward()\n",
    "        optimizer.step()\n",
    "\n",
    "    model1.eval()\n",
    "\n",
    "    with torch.no_grad():\n",
    "        correct = 0\n",
    "        total = 0\n",
    "\n",
    "        for i, (images, labels) in enumerate(iter(testloader)):\n",
    "            images.resize_(images.size()[0], 784),\n",
    "            test_output = model1.forward(images)\n",
    "            pred_y = torch.max(test_output, 1)[1].data.squeeze()\n",
    "            correct += (pred_y == labels).float().sum()\n",
    "            total += len(labels)\n",
    "            accuracy = (pred_y == labels).sum().item() / float(labels.size(0))\n",
    "            acc_list.append(accuracy)\n",
    "            validation_loss = criterion(test_output, labels)\n",
    "            val_loss.append(validation_loss)\n",
    "        \n",
    "    print(f'epoch {e+1} done: accuracy of {(correct/total).float()}')\n",
    "    model1.train()\n",
    "\n",
    "\n"
   ]
  },
  {
   "cell_type": "code",
   "execution_count": 37,
   "metadata": {},
   "outputs": [
    {
     "data": {
      "image/png": "[encoded data removed]",
      "text/plain": [
       "<Figure size 432x288 with 1 Axes>"
      ]
     },
     "metadata": {
      "image/png": {
       "height": 248,
       "width": 372
      },
      "needs_background": "light"
     },
     "output_type": "display_data"
    }
   ],
   "source": [
    "plt.plot(train_loss, label = 'train')\n",
    "plt.plot(val_loss, label = 'validation')\n",
    "plt.legend()\n",
    "plt.show()"
   ]
  },
  {
   "cell_type": "code",
   "execution_count": 31,
   "metadata": {},
   "outputs": [
    {
     "name": "stdout",
     "output_type": "stream",
     "text": [
      "Epoch: 3/3\n",
      "\tIteration: 0\t Loss: 0.0574\n",
      "\tIteration: 40\t Loss: 2.3054\n",
      "\tIteration: 80\t Loss: 2.3052\n",
      "\tIteration: 120\t Loss: 2.3049\n",
      "\tIteration: 160\t Loss: 2.3015\n",
      "\tIteration: 200\t Loss: 2.3024\n",
      "\tIteration: 240\t Loss: 2.3052\n",
      "\tIteration: 280\t Loss: 2.3035\n",
      "\tIteration: 320\t Loss: 2.3002\n",
      "\tIteration: 360\t Loss: 2.3043\n",
      "\tIteration: 400\t Loss: 2.3033\n",
      "\tIteration: 440\t Loss: 2.3038\n",
      "\tIteration: 480\t Loss: 2.3020\n",
      "\tIteration: 520\t Loss: 2.3019\n",
      "\tIteration: 560\t Loss: 2.3040\n",
      "\tIteration: 600\t Loss: 2.3043\n",
      "\tIteration: 640\t Loss: 2.3028\n",
      "\tIteration: 680\t Loss: 2.3054\n",
      "\tIteration: 720\t Loss: 2.3025\n",
      "\tIteration: 760\t Loss: 2.3030\n",
      "\tIteration: 800\t Loss: 2.3031\n",
      "\tIteration: 840\t Loss: 2.3028\n",
      "\tIteration: 880\t Loss: 2.3041\n",
      "\tIteration: 920\t Loss: 2.3062\n",
      "epoch 3 done: accuracy of 0.09375\n",
      "epoch 3 done: accuracy of 0.0859375\n",
      "epoch 3 done: accuracy of 0.09895833333333333\n",
      "epoch 3 done: accuracy of 0.09765625\n",
      "epoch 3 done: accuracy of 0.109375\n",
      "epoch 3 done: accuracy of 0.10416666666666667\n",
      "epoch 3 done: accuracy of 0.10491071428571429\n",
      "epoch 3 done: accuracy of 0.109375\n",
      "epoch 3 done: accuracy of 0.10416666666666667\n",
      "epoch 3 done: accuracy of 0.1015625\n",
      "epoch 3 done: accuracy of 0.10085227272727272\n",
      "epoch 3 done: accuracy of 0.10026041666666667\n",
      "epoch 3 done: accuracy of 0.09975961538461539\n",
      "epoch 3 done: accuracy of 0.10379464285714286\n",
      "epoch 3 done: accuracy of 0.109375\n",
      "epoch 3 done: accuracy of 0.1083984375\n",
      "epoch 3 done: accuracy of 0.109375\n",
      "epoch 3 done: accuracy of 0.109375\n",
      "epoch 3 done: accuracy of 0.11348684210526316\n",
      "epoch 3 done: accuracy of 0.1125\n",
      "epoch 3 done: accuracy of 0.11235119047619048\n",
      "epoch 3 done: accuracy of 0.11150568181818182\n",
      "epoch 3 done: accuracy of 0.11209239130434782\n",
      "epoch 3 done: accuracy of 0.11328125\n",
      "epoch 3 done: accuracy of 0.11\n",
      "epoch 3 done: accuracy of 0.10817307692307693\n",
      "epoch 3 done: accuracy of 0.10648148148148148\n",
      "epoch 3 done: accuracy of 0.10658482142857142\n",
      "epoch 3 done: accuracy of 0.10560344827586207\n",
      "epoch 3 done: accuracy of 0.1046875\n",
      "epoch 3 done: accuracy of 0.1028225806451613\n",
      "epoch 3 done: accuracy of 0.10205078125\n",
      "epoch 3 done: accuracy of 0.10274621212121213\n",
      "epoch 3 done: accuracy of 0.10202205882352941\n",
      "epoch 3 done: accuracy of 0.10133928571428572\n",
      "epoch 3 done: accuracy of 0.0993923611111111\n",
      "epoch 3 done: accuracy of 0.10050675675675676\n",
      "epoch 3 done: accuracy of 0.10074013157894737\n",
      "epoch 3 done: accuracy of 0.10176282051282051\n",
      "epoch 3 done: accuracy of 0.10234375\n",
      "epoch 3 done: accuracy of 0.10403963414634146\n",
      "epoch 3 done: accuracy of 0.10379464285714286\n",
      "epoch 3 done: accuracy of 0.10465116279069768\n",
      "epoch 3 done: accuracy of 0.10369318181818182\n",
      "epoch 3 done: accuracy of 0.10416666666666667\n",
      "epoch 3 done: accuracy of 0.10326086956521739\n",
      "epoch 3 done: accuracy of 0.10305851063829788\n",
      "epoch 3 done: accuracy of 0.10286458333333333\n",
      "epoch 3 done: accuracy of 0.10108418367346939\n",
      "epoch 3 done: accuracy of 0.1021875\n",
      "epoch 3 done: accuracy of 0.10232843137254902\n",
      "epoch 3 done: accuracy of 0.10306490384615384\n",
      "epoch 3 done: accuracy of 0.10436320754716981\n",
      "epoch 3 done: accuracy of 0.10532407407407407\n",
      "epoch 3 done: accuracy of 0.10426136363636364\n",
      "epoch 3 done: accuracy of 0.10295758928571429\n",
      "epoch 3 done: accuracy of 0.10361842105263158\n",
      "epoch 3 done: accuracy of 0.10344827586206896\n",
      "epoch 3 done: accuracy of 0.10354872881355932\n",
      "epoch 3 done: accuracy of 0.10390625\n",
      "epoch 3 done: accuracy of 0.10348360655737705\n",
      "epoch 3 done: accuracy of 0.10383064516129033\n",
      "epoch 3 done: accuracy of 0.10416666666666667\n",
      "epoch 3 done: accuracy of 0.103515625\n",
      "epoch 3 done: accuracy of 0.10336538461538461\n",
      "epoch 3 done: accuracy of 0.10274621212121213\n",
      "epoch 3 done: accuracy of 0.10237873134328358\n",
      "epoch 3 done: accuracy of 0.10202205882352941\n",
      "epoch 3 done: accuracy of 0.10303442028985507\n",
      "epoch 3 done: accuracy of 0.10223214285714285\n",
      "epoch 3 done: accuracy of 0.10277288732394366\n",
      "epoch 3 done: accuracy of 0.10264756944444445\n",
      "epoch 3 done: accuracy of 0.10231164383561644\n",
      "epoch 3 done: accuracy of 0.1019847972972973\n",
      "epoch 3 done: accuracy of 0.101875\n",
      "epoch 3 done: accuracy of 0.10197368421052631\n",
      "epoch 3 done: accuracy of 0.10166396103896104\n",
      "epoch 3 done: accuracy of 0.10136217948717949\n",
      "epoch 3 done: accuracy of 0.10146360759493671\n",
      "epoch 3 done: accuracy of 0.1017578125\n",
      "epoch 3 done: accuracy of 0.10185185185185185\n",
      "epoch 3 done: accuracy of 0.10327743902439024\n",
      "epoch 3 done: accuracy of 0.10316265060240964\n",
      "epoch 3 done: accuracy of 0.10379464285714286\n",
      "epoch 3 done: accuracy of 0.10459558823529412\n",
      "epoch 3 done: accuracy of 0.10465116279069768\n",
      "epoch 3 done: accuracy of 0.10452586206896551\n",
      "epoch 3 done: accuracy of 0.10511363636363637\n",
      "epoch 3 done: accuracy of 0.10621488764044944\n",
      "epoch 3 done: accuracy of 0.10642361111111111\n",
      "epoch 3 done: accuracy of 0.10594093406593406\n",
      "epoch 3 done: accuracy of 0.10597826086956522\n",
      "epoch 3 done: accuracy of 0.1063508064516129\n",
      "epoch 3 done: accuracy of 0.10571808510638298\n",
      "epoch 3 done: accuracy of 0.10592105263157894\n",
      "epoch 3 done: accuracy of 0.10563151041666667\n",
      "epoch 3 done: accuracy of 0.1056701030927835\n",
      "epoch 3 done: accuracy of 0.10570790816326531\n",
      "epoch 3 done: accuracy of 0.10511363636363637\n",
      "epoch 3 done: accuracy of 0.10578125\n",
      "epoch 3 done: accuracy of 0.10612623762376237\n",
      "epoch 3 done: accuracy of 0.10615808823529412\n",
      "epoch 3 done: accuracy of 0.10618932038834951\n",
      "epoch 3 done: accuracy of 0.10667067307692307\n",
      "epoch 3 done: accuracy of 0.10639880952380952\n",
      "epoch 3 done: accuracy of 0.10642688679245282\n",
      "epoch 3 done: accuracy of 0.1067464953271028\n",
      "epoch 3 done: accuracy of 0.10749421296296297\n",
      "epoch 3 done: accuracy of 0.10751146788990826\n",
      "epoch 3 done: accuracy of 0.1080965909090909\n",
      "epoch 3 done: accuracy of 0.10796734234234234\n",
      "epoch 3 done: accuracy of 0.10770089285714286\n",
      "epoch 3 done: accuracy of 0.10757743362831858\n",
      "epoch 3 done: accuracy of 0.10773026315789473\n",
      "epoch 3 done: accuracy of 0.1077445652173913\n",
      "epoch 3 done: accuracy of 0.10789331896551724\n",
      "epoch 3 done: accuracy of 0.10790598290598291\n",
      "epoch 3 done: accuracy of 0.10791843220338983\n",
      "epoch 3 done: accuracy of 0.10793067226890757\n",
      "epoch 3 done: accuracy of 0.10872395833333333\n",
      "epoch 3 done: accuracy of 0.10847107438016529\n",
      "epoch 3 done: accuracy of 0.10809426229508197\n",
      "epoch 3 done: accuracy of 0.10772357723577236\n",
      "epoch 3 done: accuracy of 0.10735887096774194\n",
      "epoch 3 done: accuracy of 0.107625\n",
      "epoch 3 done: accuracy of 0.10850694444444445\n",
      "epoch 3 done: accuracy of 0.10863681102362205\n",
      "epoch 3 done: accuracy of 0.10888671875\n",
      "epoch 3 done: accuracy of 0.109375\n",
      "epoch 3 done: accuracy of 0.109375\n",
      "epoch 3 done: accuracy of 0.10949427480916031\n",
      "epoch 3 done: accuracy of 0.109375\n",
      "epoch 3 done: accuracy of 0.10960996240601503\n",
      "epoch 3 done: accuracy of 0.10949160447761194\n",
      "epoch 3 done: accuracy of 0.1099537037037037\n",
      "epoch 3 done: accuracy of 0.10983455882352941\n",
      "epoch 3 done: accuracy of 0.10971715328467153\n",
      "epoch 3 done: accuracy of 0.10994112318840579\n",
      "epoch 3 done: accuracy of 0.11016187050359712\n",
      "epoch 3 done: accuracy of 0.11026785714285714\n",
      "epoch 3 done: accuracy of 0.11015070921985816\n",
      "epoch 3 done: accuracy of 0.11003521126760564\n",
      "epoch 3 done: accuracy of 0.11046765734265734\n",
      "epoch 3 done: accuracy of 0.11078559027777778\n",
      "epoch 3 done: accuracy of 0.11056034482758621\n",
      "epoch 3 done: accuracy of 0.11065924657534247\n",
      "epoch 3 done: accuracy of 0.11022534013605442\n",
      "epoch 3 done: accuracy of 0.1097972972972973\n",
      "epoch 3 done: accuracy of 0.10968959731543625\n",
      "epoch 3 done: accuracy of 0.10989583333333333\n",
      "epoch 3 done: accuracy of 0.10978890728476821\n",
      "epoch 3 done: accuracy of 0.11019736842105263\n",
      "epoch 3 done: accuracy of 0.10998774509803921\n",
      "epoch 3 done: accuracy of 0.10978084415584416\n",
      "epoch 3 done: accuracy of 0.11008064516129032\n",
      "epoch 3 done: accuracy of 0.11007612179487179\n",
      "epoch 3 done: accuracy of 0.10977308917197452\n",
      "Epoch: 3/3\n",
      "\tIteration: 0\t Loss: 0.0577\n",
      "\tIteration: 40\t Loss: 2.3010\n",
      "\tIteration: 80\t Loss: 2.3052\n",
      "\tIteration: 120\t Loss: 2.3042\n",
      "\tIteration: 160\t Loss: 2.3026\n",
      "\tIteration: 200\t Loss: 2.3033\n",
      "\tIteration: 240\t Loss: 2.3028\n",
      "\tIteration: 280\t Loss: 2.3042\n",
      "\tIteration: 320\t Loss: 2.3038\n",
      "\tIteration: 360\t Loss: 2.3030\n",
      "\tIteration: 400\t Loss: 2.3039\n",
      "\tIteration: 440\t Loss: 2.3045\n",
      "\tIteration: 480\t Loss: 2.3036\n",
      "\tIteration: 520\t Loss: 2.3027\n",
      "\tIteration: 560\t Loss: 2.3035\n",
      "\tIteration: 600\t Loss: 2.3040\n",
      "\tIteration: 640\t Loss: 2.3032\n",
      "\tIteration: 680\t Loss: 2.3060\n",
      "\tIteration: 720\t Loss: 2.3028\n",
      "\tIteration: 760\t Loss: 2.3031\n",
      "\tIteration: 800\t Loss: 2.3026\n",
      "\tIteration: 840\t Loss: 2.3015\n",
      "\tIteration: 880\t Loss: 2.3055\n",
      "\tIteration: 920\t Loss: 2.3031\n",
      "epoch 3 done: accuracy of 0.109375\n",
      "epoch 3 done: accuracy of 0.125\n",
      "epoch 3 done: accuracy of 0.11458333333333333\n",
      "epoch 3 done: accuracy of 0.12890625\n",
      "epoch 3 done: accuracy of 0.1125\n",
      "epoch 3 done: accuracy of 0.11458333333333333\n",
      "epoch 3 done: accuracy of 0.10714285714285714\n",
      "epoch 3 done: accuracy of 0.1171875\n",
      "epoch 3 done: accuracy of 0.11979166666666667\n",
      "epoch 3 done: accuracy of 0.11875\n",
      "epoch 3 done: accuracy of 0.11789772727272728\n",
      "epoch 3 done: accuracy of 0.11458333333333333\n",
      "epoch 3 done: accuracy of 0.11298076923076923\n",
      "epoch 3 done: accuracy of 0.11383928571428571\n",
      "epoch 3 done: accuracy of 0.115625\n",
      "epoch 3 done: accuracy of 0.109375\n",
      "epoch 3 done: accuracy of 0.10845588235294118\n",
      "epoch 3 done: accuracy of 0.10850694444444445\n",
      "epoch 3 done: accuracy of 0.10773026315789473\n",
      "epoch 3 done: accuracy of 0.1078125\n",
      "epoch 3 done: accuracy of 0.10788690476190477\n",
      "epoch 3 done: accuracy of 0.11008522727272728\n",
      "epoch 3 done: accuracy of 0.11277173913043478\n",
      "epoch 3 done: accuracy of 0.11263020833333333\n",
      "epoch 3 done: accuracy of 0.1125\n",
      "epoch 3 done: accuracy of 0.11057692307692307\n",
      "epoch 3 done: accuracy of 0.1111111111111111\n",
      "epoch 3 done: accuracy of 0.10881696428571429\n",
      "epoch 3 done: accuracy of 0.11045258620689655\n",
      "epoch 3 done: accuracy of 0.1125\n",
      "epoch 3 done: accuracy of 0.11189516129032258\n",
      "epoch 3 done: accuracy of 0.11328125\n",
      "epoch 3 done: accuracy of 0.11505681818181818\n",
      "epoch 3 done: accuracy of 0.11488970588235294\n",
      "epoch 3 done: accuracy of 0.11473214285714285\n",
      "epoch 3 done: accuracy of 0.11328125\n",
      "epoch 3 done: accuracy of 0.11233108108108109\n",
      "epoch 3 done: accuracy of 0.11225328947368421\n",
      "epoch 3 done: accuracy of 0.11177884615384616\n",
      "epoch 3 done: accuracy of 0.112890625\n",
      "epoch 3 done: accuracy of 0.11128048780487805\n",
      "epoch 3 done: accuracy of 0.11197916666666667\n",
      "epoch 3 done: accuracy of 0.11155523255813954\n",
      "epoch 3 done: accuracy of 0.11115056818181818\n",
      "epoch 3 done: accuracy of 0.11006944444444444\n",
      "epoch 3 done: accuracy of 0.11005434782608696\n",
      "epoch 3 done: accuracy of 0.11236702127659574\n",
      "epoch 3 done: accuracy of 0.11328125\n",
      "epoch 3 done: accuracy of 0.11352040816326531\n",
      "epoch 3 done: accuracy of 0.115\n",
      "epoch 3 done: accuracy of 0.11519607843137254\n",
      "epoch 3 done: accuracy of 0.1141826923076923\n",
      "epoch 3 done: accuracy of 0.1129127358490566\n",
      "epoch 3 done: accuracy of 0.1111111111111111\n",
      "epoch 3 done: accuracy of 0.11193181818181819\n",
      "epoch 3 done: accuracy of 0.11160714285714286\n",
      "epoch 3 done: accuracy of 0.11211622807017543\n",
      "epoch 3 done: accuracy of 0.11341594827586207\n",
      "epoch 3 done: accuracy of 0.11361228813559322\n",
      "epoch 3 done: accuracy of 0.11276041666666667\n",
      "epoch 3 done: accuracy of 0.11270491803278689\n",
      "epoch 3 done: accuracy of 0.11189516129032258\n",
      "epoch 3 done: accuracy of 0.1111111111111111\n",
      "epoch 3 done: accuracy of 0.111572265625\n",
      "epoch 3 done: accuracy of 0.11153846153846154\n",
      "epoch 3 done: accuracy of 0.11292613636363637\n",
      "epoch 3 done: accuracy of 0.11287313432835822\n",
      "epoch 3 done: accuracy of 0.11190257352941177\n",
      "epoch 3 done: accuracy of 0.11277173913043478\n",
      "epoch 3 done: accuracy of 0.11316964285714286\n",
      "epoch 3 done: accuracy of 0.1131161971830986\n",
      "epoch 3 done: accuracy of 0.1130642361111111\n",
      "epoch 3 done: accuracy of 0.11258561643835617\n",
      "epoch 3 done: accuracy of 0.11254222972972973\n",
      "epoch 3 done: accuracy of 0.11208333333333333\n",
      "epoch 3 done: accuracy of 0.11143092105263158\n",
      "epoch 3 done: accuracy of 0.11079545454545454\n",
      "epoch 3 done: accuracy of 0.11177884615384616\n",
      "epoch 3 done: accuracy of 0.11135284810126582\n",
      "epoch 3 done: accuracy of 0.110546875\n",
      "epoch 3 done: accuracy of 0.11053240740740741\n",
      "epoch 3 done: accuracy of 0.10994664634146341\n",
      "epoch 3 done: accuracy of 0.109375\n",
      "epoch 3 done: accuracy of 0.1091889880952381\n",
      "epoch 3 done: accuracy of 0.10882352941176471\n",
      "epoch 3 done: accuracy of 0.10846656976744186\n",
      "epoch 3 done: accuracy of 0.10811781609195402\n",
      "epoch 3 done: accuracy of 0.10866477272727272\n",
      "epoch 3 done: accuracy of 0.10884831460674158\n",
      "epoch 3 done: accuracy of 0.109375\n",
      "epoch 3 done: accuracy of 0.11023351648351648\n",
      "epoch 3 done: accuracy of 0.10971467391304347\n",
      "epoch 3 done: accuracy of 0.10903897849462366\n",
      "epoch 3 done: accuracy of 0.10987367021276596\n",
      "epoch 3 done: accuracy of 0.10986842105263157\n",
      "epoch 3 done: accuracy of 0.10970052083333333\n",
      "epoch 3 done: accuracy of 0.109375\n",
      "epoch 3 done: accuracy of 0.1090561224489796\n",
      "epoch 3 done: accuracy of 0.10890151515151515\n",
      "epoch 3 done: accuracy of 0.10890625\n",
      "epoch 3 done: accuracy of 0.10829207920792079\n",
      "epoch 3 done: accuracy of 0.10768995098039216\n",
      "epoch 3 done: accuracy of 0.10785800970873786\n",
      "epoch 3 done: accuracy of 0.10862379807692307\n",
      "epoch 3 done: accuracy of 0.10863095238095238\n",
      "epoch 3 done: accuracy of 0.1086379716981132\n",
      "epoch 3 done: accuracy of 0.10835280373831775\n",
      "epoch 3 done: accuracy of 0.10836226851851852\n",
      "epoch 3 done: accuracy of 0.10865825688073394\n",
      "epoch 3 done: accuracy of 0.10838068181818182\n",
      "epoch 3 done: accuracy of 0.1085304054054054\n",
      "epoch 3 done: accuracy of 0.10881696428571429\n",
      "epoch 3 done: accuracy of 0.10896017699115045\n",
      "epoch 3 done: accuracy of 0.10923793859649122\n",
      "epoch 3 done: accuracy of 0.1092391304347826\n",
      "epoch 3 done: accuracy of 0.109375\n",
      "epoch 3 done: accuracy of 0.10897435897435898\n",
      "epoch 3 done: accuracy of 0.109375\n",
      "epoch 3 done: accuracy of 0.109375\n",
      "epoch 3 done: accuracy of 0.10911458333333333\n",
      "epoch 3 done: accuracy of 0.10924586776859505\n",
      "epoch 3 done: accuracy of 0.1089907786885246\n",
      "epoch 3 done: accuracy of 0.109375\n",
      "epoch 3 done: accuracy of 0.10899697580645161\n",
      "epoch 3 done: accuracy of 0.108625\n",
      "epoch 3 done: accuracy of 0.10912698412698413\n",
      "epoch 3 done: accuracy of 0.10875984251968504\n",
      "epoch 3 done: accuracy of 0.108642578125\n",
      "epoch 3 done: accuracy of 0.10828488372093023\n",
      "epoch 3 done: accuracy of 0.1078125\n",
      "epoch 3 done: accuracy of 0.10746660305343511\n",
      "epoch 3 done: accuracy of 0.10724431818181818\n",
      "epoch 3 done: accuracy of 0.10714285714285714\n",
      "epoch 3 done: accuracy of 0.10727611940298508\n",
      "epoch 3 done: accuracy of 0.10740740740740741\n",
      "epoch 3 done: accuracy of 0.10788143382352941\n",
      "epoch 3 done: accuracy of 0.10777828467153285\n",
      "epoch 3 done: accuracy of 0.1082427536231884\n",
      "epoch 3 done: accuracy of 0.10858812949640288\n",
      "epoch 3 done: accuracy of 0.10859375\n",
      "epoch 3 done: accuracy of 0.10859929078014184\n",
      "epoch 3 done: accuracy of 0.10893485915492958\n",
      "epoch 3 done: accuracy of 0.10893793706293706\n",
      "epoch 3 done: accuracy of 0.10872395833333333\n",
      "epoch 3 done: accuracy of 0.10872844827586207\n",
      "epoch 3 done: accuracy of 0.1091609589041096\n",
      "epoch 3 done: accuracy of 0.1092687074829932\n",
      "epoch 3 done: accuracy of 0.10948057432432433\n",
      "epoch 3 done: accuracy of 0.10916526845637584\n",
      "epoch 3 done: accuracy of 0.10947916666666667\n",
      "epoch 3 done: accuracy of 0.1095819536423841\n",
      "epoch 3 done: accuracy of 0.10947779605263158\n",
      "epoch 3 done: accuracy of 0.10947712418300654\n",
      "epoch 3 done: accuracy of 0.10957792207792208\n",
      "epoch 3 done: accuracy of 0.10967741935483871\n",
      "epoch 3 done: accuracy of 0.10967548076923077\n",
      "epoch 3 done: accuracy of 0.11096735668789809\n",
      "Epoch: 3/3\n",
      "\tIteration: 0\t Loss: 0.0578\n",
      "\tIteration: 40\t Loss: 2.3041\n",
      "\tIteration: 80\t Loss: 2.3043\n",
      "\tIteration: 120\t Loss: 2.3018\n",
      "\tIteration: 160\t Loss: 2.3041\n",
      "\tIteration: 200\t Loss: 2.3019\n",
      "\tIteration: 240\t Loss: 2.3005\n",
      "\tIteration: 280\t Loss: 2.3031\n",
      "\tIteration: 320\t Loss: 2.3038\n",
      "\tIteration: 360\t Loss: 2.3028\n",
      "\tIteration: 400\t Loss: 2.3055\n",
      "\tIteration: 440\t Loss: 2.3014\n",
      "\tIteration: 480\t Loss: 2.3025\n",
      "\tIteration: 520\t Loss: 2.3057\n",
      "\tIteration: 560\t Loss: 2.3039\n",
      "\tIteration: 600\t Loss: 2.3052\n",
      "\tIteration: 640\t Loss: 2.3029\n",
      "\tIteration: 680\t Loss: 2.3039\n",
      "\tIteration: 720\t Loss: 2.3062\n",
      "\tIteration: 760\t Loss: 2.3034\n",
      "\tIteration: 800\t Loss: 2.3041\n",
      "\tIteration: 840\t Loss: 2.3034\n",
      "\tIteration: 880\t Loss: 2.3013\n",
      "\tIteration: 920\t Loss: 2.3052\n",
      "epoch 3 done: accuracy of 0.09375\n",
      "epoch 3 done: accuracy of 0.078125\n",
      "epoch 3 done: accuracy of 0.08854166666666667\n",
      "epoch 3 done: accuracy of 0.08203125\n",
      "epoch 3 done: accuracy of 0.096875\n",
      "epoch 3 done: accuracy of 0.09635416666666667\n",
      "epoch 3 done: accuracy of 0.09598214285714286\n",
      "epoch 3 done: accuracy of 0.107421875\n",
      "epoch 3 done: accuracy of 0.11458333333333333\n",
      "epoch 3 done: accuracy of 0.1171875\n",
      "epoch 3 done: accuracy of 0.109375\n",
      "epoch 3 done: accuracy of 0.109375\n",
      "epoch 3 done: accuracy of 0.10697115384615384\n",
      "epoch 3 done: accuracy of 0.10491071428571429\n",
      "epoch 3 done: accuracy of 0.10625\n",
      "epoch 3 done: accuracy of 0.1083984375\n",
      "epoch 3 done: accuracy of 0.10845588235294118\n",
      "epoch 3 done: accuracy of 0.10590277777777778\n",
      "epoch 3 done: accuracy of 0.10608552631578948\n",
      "epoch 3 done: accuracy of 0.1109375\n",
      "epoch 3 done: accuracy of 0.109375\n",
      "epoch 3 done: accuracy of 0.11008522727272728\n",
      "epoch 3 done: accuracy of 0.11005434782608696\n",
      "epoch 3 done: accuracy of 0.11263020833333333\n",
      "epoch 3 done: accuracy of 0.11125\n",
      "epoch 3 done: accuracy of 0.11177884615384616\n",
      "epoch 3 done: accuracy of 0.11400462962962964\n",
      "epoch 3 done: accuracy of 0.11328125\n",
      "epoch 3 done: accuracy of 0.1136853448275862\n",
      "epoch 3 done: accuracy of 0.11458333333333333\n",
      "epoch 3 done: accuracy of 0.11491935483870967\n",
      "epoch 3 done: accuracy of 0.11572265625\n",
      "epoch 3 done: accuracy of 0.11410984848484848\n",
      "epoch 3 done: accuracy of 0.11488970588235294\n",
      "epoch 3 done: accuracy of 0.11428571428571428\n",
      "epoch 3 done: accuracy of 0.11414930555555555\n",
      "epoch 3 done: accuracy of 0.11570945945945946\n",
      "epoch 3 done: accuracy of 0.11595394736842106\n",
      "epoch 3 done: accuracy of 0.11738782051282051\n",
      "epoch 3 done: accuracy of 0.11796875\n",
      "epoch 3 done: accuracy of 0.1173780487804878\n",
      "epoch 3 done: accuracy of 0.11830357142857142\n",
      "epoch 3 done: accuracy of 0.1184593023255814\n",
      "epoch 3 done: accuracy of 0.11860795454545454\n",
      "epoch 3 done: accuracy of 0.11840277777777777\n",
      "epoch 3 done: accuracy of 0.1171875\n",
      "epoch 3 done: accuracy of 0.11668882978723404\n",
      "epoch 3 done: accuracy of 0.11555989583333333\n",
      "epoch 3 done: accuracy of 0.11352040816326531\n",
      "epoch 3 done: accuracy of 0.1121875\n",
      "epoch 3 done: accuracy of 0.11397058823529412\n",
      "epoch 3 done: accuracy of 0.11358173076923077\n",
      "epoch 3 done: accuracy of 0.1129127358490566\n",
      "epoch 3 done: accuracy of 0.11197916666666667\n",
      "epoch 3 done: accuracy of 0.11164772727272727\n",
      "epoch 3 done: accuracy of 0.111328125\n",
      "epoch 3 done: accuracy of 0.1112938596491228\n",
      "epoch 3 done: accuracy of 0.11126077586206896\n",
      "epoch 3 done: accuracy of 0.10990466101694915\n",
      "epoch 3 done: accuracy of 0.10989583333333333\n",
      "epoch 3 done: accuracy of 0.1091188524590164\n",
      "epoch 3 done: accuracy of 0.10887096774193548\n",
      "epoch 3 done: accuracy of 0.109375\n",
      "epoch 3 done: accuracy of 0.10888671875\n",
      "epoch 3 done: accuracy of 0.10961538461538461\n",
      "epoch 3 done: accuracy of 0.10913825757575757\n",
      "epoch 3 done: accuracy of 0.10890858208955224\n",
      "epoch 3 done: accuracy of 0.1091452205882353\n",
      "epoch 3 done: accuracy of 0.10914855072463768\n",
      "epoch 3 done: accuracy of 0.11026785714285714\n",
      "epoch 3 done: accuracy of 0.11091549295774648\n",
      "epoch 3 done: accuracy of 0.11067708333333333\n",
      "epoch 3 done: accuracy of 0.1115154109589041\n",
      "epoch 3 done: accuracy of 0.11190878378378379\n",
      "epoch 3 done: accuracy of 0.11229166666666666\n",
      "epoch 3 done: accuracy of 0.11225328947368421\n",
      "epoch 3 done: accuracy of 0.11201298701298701\n",
      "epoch 3 done: accuracy of 0.11197916666666667\n",
      "epoch 3 done: accuracy of 0.1115506329113924\n",
      "epoch 3 done: accuracy of 0.1111328125\n",
      "epoch 3 done: accuracy of 0.11053240740740741\n",
      "epoch 3 done: accuracy of 0.11070884146341463\n",
      "epoch 3 done: accuracy of 0.11163403614457831\n",
      "epoch 3 done: accuracy of 0.11160714285714286\n",
      "epoch 3 done: accuracy of 0.11176470588235295\n",
      "epoch 3 done: accuracy of 0.1119186046511628\n",
      "epoch 3 done: accuracy of 0.11242816091954023\n",
      "epoch 3 done: accuracy of 0.11150568181818182\n",
      "epoch 3 done: accuracy of 0.1113061797752809\n",
      "epoch 3 done: accuracy of 0.1111111111111111\n",
      "epoch 3 done: accuracy of 0.11109203296703296\n",
      "epoch 3 done: accuracy of 0.11158288043478261\n",
      "epoch 3 done: accuracy of 0.1117271505376344\n",
      "epoch 3 done: accuracy of 0.11136968085106383\n",
      "epoch 3 done: accuracy of 0.11134868421052632\n",
      "epoch 3 done: accuracy of 0.11165364583333333\n",
      "epoch 3 done: accuracy of 0.11259664948453608\n",
      "epoch 3 done: accuracy of 0.11208545918367346\n",
      "epoch 3 done: accuracy of 0.11158459595959595\n",
      "epoch 3 done: accuracy of 0.11109375\n",
      "epoch 3 done: accuracy of 0.11061262376237624\n",
      "epoch 3 done: accuracy of 0.11044730392156862\n",
      "epoch 3 done: accuracy of 0.11074029126213593\n",
      "epoch 3 done: accuracy of 0.1104266826923077\n",
      "epoch 3 done: accuracy of 0.11071428571428571\n",
      "epoch 3 done: accuracy of 0.11129127358490566\n",
      "epoch 3 done: accuracy of 0.11141939252336448\n",
      "epoch 3 done: accuracy of 0.11125578703703703\n",
      "epoch 3 done: accuracy of 0.11181192660550458\n",
      "epoch 3 done: accuracy of 0.11122159090909091\n",
      "epoch 3 done: accuracy of 0.11078265765765766\n",
      "epoch 3 done: accuracy of 0.11090959821428571\n",
      "epoch 3 done: accuracy of 0.11117256637168142\n",
      "epoch 3 done: accuracy of 0.1112938596491228\n",
      "epoch 3 done: accuracy of 0.11127717391304348\n",
      "epoch 3 done: accuracy of 0.11058728448275862\n",
      "epoch 3 done: accuracy of 0.11071047008547008\n",
      "epoch 3 done: accuracy of 0.11069915254237288\n",
      "epoch 3 done: accuracy of 0.11108193277310924\n",
      "epoch 3 done: accuracy of 0.11067708333333333\n",
      "epoch 3 done: accuracy of 0.1109245867768595\n",
      "epoch 3 done: accuracy of 0.11065573770491803\n",
      "epoch 3 done: accuracy of 0.11089939024390244\n",
      "epoch 3 done: accuracy of 0.1106350806451613\n",
      "epoch 3 done: accuracy of 0.110125\n",
      "epoch 3 done: accuracy of 0.10987103174603174\n",
      "epoch 3 done: accuracy of 0.11035925196850394\n",
      "epoch 3 done: accuracy of 0.111083984375\n",
      "epoch 3 done: accuracy of 0.11107073643410853\n",
      "epoch 3 done: accuracy of 0.1110576923076923\n",
      "epoch 3 done: accuracy of 0.11080629770992366\n",
      "epoch 3 done: accuracy of 0.11126893939393939\n",
      "epoch 3 done: accuracy of 0.11113721804511278\n",
      "epoch 3 done: accuracy of 0.11124067164179105\n",
      "epoch 3 done: accuracy of 0.11122685185185185\n",
      "epoch 3 done: accuracy of 0.1110983455882353\n",
      "epoch 3 done: accuracy of 0.11085766423357664\n",
      "epoch 3 done: accuracy of 0.11084692028985507\n",
      "epoch 3 done: accuracy of 0.11094874100719425\n",
      "epoch 3 done: accuracy of 0.11060267857142857\n",
      "epoch 3 done: accuracy of 0.11070478723404255\n",
      "epoch 3 done: accuracy of 0.11058538732394366\n",
      "epoch 3 done: accuracy of 0.11035839160839161\n",
      "epoch 3 done: accuracy of 0.11046006944444445\n",
      "epoch 3 done: accuracy of 0.1103448275862069\n",
      "epoch 3 done: accuracy of 0.11001712328767123\n",
      "epoch 3 done: accuracy of 0.10990646258503402\n",
      "epoch 3 done: accuracy of 0.10990287162162163\n",
      "epoch 3 done: accuracy of 0.10979446308724833\n",
      "epoch 3 done: accuracy of 0.11010416666666667\n",
      "epoch 3 done: accuracy of 0.10989238410596026\n",
      "epoch 3 done: accuracy of 0.10999177631578948\n",
      "epoch 3 done: accuracy of 0.11049836601307189\n",
      "epoch 3 done: accuracy of 0.1101866883116883\n",
      "epoch 3 done: accuracy of 0.11018145161290323\n",
      "epoch 3 done: accuracy of 0.11007612179487179\n",
      "epoch 3 done: accuracy of 0.10977308917197452\n",
      "Epoch: 3/3\n",
      "\tIteration: 0\t Loss: 0.0570\n",
      "\tIteration: 40\t Loss: 2.3044\n",
      "\tIteration: 80\t Loss: 2.3021\n",
      "\tIteration: 120\t Loss: 2.3052\n",
      "\tIteration: 160\t Loss: 2.3042\n",
      "\tIteration: 200\t Loss: 2.3050\n",
      "\tIteration: 240\t Loss: 2.3026\n",
      "\tIteration: 280\t Loss: 2.3014\n",
      "\tIteration: 320\t Loss: 2.3020\n",
      "\tIteration: 360\t Loss: 2.3044\n",
      "\tIteration: 400\t Loss: 2.3060\n",
      "\tIteration: 440\t Loss: 2.3026\n",
      "\tIteration: 480\t Loss: 2.3043\n",
      "\tIteration: 520\t Loss: 2.3041\n",
      "\tIteration: 560\t Loss: 2.3023\n",
      "\tIteration: 600\t Loss: 2.3042\n",
      "\tIteration: 640\t Loss: 2.3050\n",
      "\tIteration: 680\t Loss: 2.3060\n",
      "\tIteration: 720\t Loss: 2.3033\n",
      "\tIteration: 760\t Loss: 2.2995\n",
      "\tIteration: 800\t Loss: 2.3041\n",
      "\tIteration: 840\t Loss: 2.3039\n",
      "\tIteration: 880\t Loss: 2.3046\n",
      "\tIteration: 920\t Loss: 2.3015\n",
      "epoch 3 done: accuracy of 0.09375\n",
      "epoch 3 done: accuracy of 0.09375\n",
      "epoch 3 done: accuracy of 0.09895833333333333\n",
      "epoch 3 done: accuracy of 0.09765625\n",
      "epoch 3 done: accuracy of 0.103125\n",
      "epoch 3 done: accuracy of 0.09895833333333333\n",
      "epoch 3 done: accuracy of 0.10267857142857142\n",
      "epoch 3 done: accuracy of 0.1015625\n",
      "epoch 3 done: accuracy of 0.10243055555555555\n",
      "epoch 3 done: accuracy of 0.103125\n",
      "epoch 3 done: accuracy of 0.09943181818181818\n",
      "epoch 3 done: accuracy of 0.10546875\n",
      "epoch 3 done: accuracy of 0.1045673076923077\n",
      "epoch 3 done: accuracy of 0.11049107142857142\n",
      "epoch 3 done: accuracy of 0.11458333333333333\n",
      "epoch 3 done: accuracy of 0.11328125\n",
      "epoch 3 done: accuracy of 0.11213235294117647\n",
      "epoch 3 done: accuracy of 0.1111111111111111\n",
      "epoch 3 done: accuracy of 0.11019736842105263\n",
      "epoch 3 done: accuracy of 0.10859375\n",
      "epoch 3 done: accuracy of 0.11011904761904762\n",
      "epoch 3 done: accuracy of 0.11150568181818182\n",
      "epoch 3 done: accuracy of 0.10869565217391304\n",
      "epoch 3 done: accuracy of 0.10807291666666667\n",
      "epoch 3 done: accuracy of 0.10875\n",
      "epoch 3 done: accuracy of 0.1063701923076923\n",
      "epoch 3 done: accuracy of 0.10474537037037036\n",
      "epoch 3 done: accuracy of 0.10379464285714286\n",
      "epoch 3 done: accuracy of 0.10344827586206896\n",
      "epoch 3 done: accuracy of 0.1046875\n",
      "epoch 3 done: accuracy of 0.10332661290322581\n",
      "epoch 3 done: accuracy of 0.10400390625\n",
      "epoch 3 done: accuracy of 0.10416666666666667\n",
      "epoch 3 done: accuracy of 0.10340073529411764\n",
      "epoch 3 done: accuracy of 0.103125\n",
      "epoch 3 done: accuracy of 0.10199652777777778\n",
      "epoch 3 done: accuracy of 0.10304054054054054\n",
      "epoch 3 done: accuracy of 0.10197368421052631\n",
      "epoch 3 done: accuracy of 0.10176282051282051\n",
      "epoch 3 done: accuracy of 0.1015625\n",
      "epoch 3 done: accuracy of 0.10327743902439024\n",
      "epoch 3 done: accuracy of 0.10305059523809523\n",
      "epoch 3 done: accuracy of 0.10319767441860465\n",
      "epoch 3 done: accuracy of 0.10227272727272728\n",
      "epoch 3 done: accuracy of 0.10451388888888889\n",
      "epoch 3 done: accuracy of 0.10529891304347826\n",
      "epoch 3 done: accuracy of 0.10571808510638298\n",
      "epoch 3 done: accuracy of 0.10579427083333333\n",
      "epoch 3 done: accuracy of 0.10586734693877552\n",
      "epoch 3 done: accuracy of 0.10625\n",
      "epoch 3 done: accuracy of 0.10631127450980392\n",
      "epoch 3 done: accuracy of 0.1063701923076923\n",
      "epoch 3 done: accuracy of 0.1058372641509434\n",
      "epoch 3 done: accuracy of 0.10677083333333333\n",
      "epoch 3 done: accuracy of 0.10738636363636364\n",
      "epoch 3 done: accuracy of 0.10658482142857142\n",
      "epoch 3 done: accuracy of 0.10718201754385964\n",
      "epoch 3 done: accuracy of 0.10695043103448276\n",
      "epoch 3 done: accuracy of 0.10672669491525423\n",
      "epoch 3 done: accuracy of 0.10651041666666666\n",
      "epoch 3 done: accuracy of 0.10553278688524591\n",
      "epoch 3 done: accuracy of 0.10584677419354839\n",
      "epoch 3 done: accuracy of 0.1056547619047619\n",
      "epoch 3 done: accuracy of 0.10693359375\n",
      "epoch 3 done: accuracy of 0.10793269230769231\n",
      "epoch 3 done: accuracy of 0.10748106060606061\n",
      "epoch 3 done: accuracy of 0.10657649253731344\n",
      "epoch 3 done: accuracy of 0.10684742647058823\n",
      "epoch 3 done: accuracy of 0.10665760869565218\n",
      "epoch 3 done: accuracy of 0.1078125\n",
      "epoch 3 done: accuracy of 0.10783450704225352\n",
      "epoch 3 done: accuracy of 0.1076388888888889\n",
      "epoch 3 done: accuracy of 0.10702054794520548\n",
      "epoch 3 done: accuracy of 0.10726351351351351\n",
      "epoch 3 done: accuracy of 0.1075\n",
      "epoch 3 done: accuracy of 0.10773026315789473\n",
      "epoch 3 done: accuracy of 0.10815746753246754\n",
      "epoch 3 done: accuracy of 0.10877403846153846\n",
      "epoch 3 done: accuracy of 0.10917721518987342\n",
      "epoch 3 done: accuracy of 0.109765625\n",
      "epoch 3 done: accuracy of 0.11072530864197531\n",
      "epoch 3 done: accuracy of 0.11089939024390244\n",
      "epoch 3 done: accuracy of 0.11106927710843373\n",
      "epoch 3 done: accuracy of 0.11086309523809523\n",
      "epoch 3 done: accuracy of 0.11084558823529411\n",
      "epoch 3 done: accuracy of 0.11101017441860465\n",
      "epoch 3 done: accuracy of 0.11027298850574713\n",
      "epoch 3 done: accuracy of 0.11061789772727272\n",
      "epoch 3 done: accuracy of 0.11165730337078651\n",
      "epoch 3 done: accuracy of 0.11197916666666667\n",
      "epoch 3 done: accuracy of 0.11212225274725275\n",
      "epoch 3 done: accuracy of 0.11260190217391304\n",
      "epoch 3 done: accuracy of 0.11273521505376344\n",
      "epoch 3 done: accuracy of 0.11269946808510638\n",
      "epoch 3 done: accuracy of 0.11266447368421052\n",
      "epoch 3 done: accuracy of 0.11263020833333333\n",
      "epoch 3 done: accuracy of 0.11227448453608248\n",
      "epoch 3 done: accuracy of 0.11224489795918367\n",
      "epoch 3 done: accuracy of 0.11237373737373738\n",
      "epoch 3 done: accuracy of 0.11171875\n",
      "epoch 3 done: accuracy of 0.11200495049504951\n",
      "epoch 3 done: accuracy of 0.11197916666666667\n",
      "epoch 3 done: accuracy of 0.11225728155339806\n",
      "epoch 3 done: accuracy of 0.11192908653846154\n",
      "epoch 3 done: accuracy of 0.11235119047619048\n",
      "epoch 3 done: accuracy of 0.11202830188679246\n",
      "epoch 3 done: accuracy of 0.11185747663551401\n",
      "epoch 3 done: accuracy of 0.11183449074074074\n",
      "epoch 3 done: accuracy of 0.11181192660550458\n",
      "epoch 3 done: accuracy of 0.11207386363636364\n",
      "epoch 3 done: accuracy of 0.11219031531531531\n",
      "epoch 3 done: accuracy of 0.1123046875\n",
      "epoch 3 done: accuracy of 0.11297013274336283\n",
      "epoch 3 done: accuracy of 0.11321271929824561\n",
      "epoch 3 done: accuracy of 0.11290760869565217\n",
      "epoch 3 done: accuracy of 0.11274245689655173\n",
      "epoch 3 done: accuracy of 0.11271367521367522\n",
      "epoch 3 done: accuracy of 0.11255296610169492\n",
      "epoch 3 done: accuracy of 0.11252626050420168\n",
      "epoch 3 done: accuracy of 0.11236979166666666\n",
      "epoch 3 done: accuracy of 0.11273243801652892\n",
      "epoch 3 done: accuracy of 0.11232069672131148\n",
      "epoch 3 done: accuracy of 0.11229674796747967\n",
      "epoch 3 done: accuracy of 0.11214717741935484\n",
      "epoch 3 done: accuracy of 0.112125\n",
      "epoch 3 done: accuracy of 0.1117311507936508\n",
      "epoch 3 done: accuracy of 0.11195866141732283\n",
      "epoch 3 done: accuracy of 0.1124267578125\n",
      "epoch 3 done: accuracy of 0.11179748062015504\n",
      "epoch 3 done: accuracy of 0.11165865384615385\n",
      "epoch 3 done: accuracy of 0.11140267175572519\n",
      "epoch 3 done: accuracy of 0.11150568181818182\n",
      "epoch 3 done: accuracy of 0.11148966165413533\n",
      "epoch 3 done: accuracy of 0.11135727611940298\n",
      "epoch 3 done: accuracy of 0.1111111111111111\n",
      "epoch 3 done: accuracy of 0.11086856617647059\n",
      "epoch 3 done: accuracy of 0.11097171532846715\n",
      "epoch 3 done: accuracy of 0.11084692028985507\n",
      "epoch 3 done: accuracy of 0.11072392086330936\n",
      "epoch 3 done: accuracy of 0.11104910714285714\n",
      "epoch 3 done: accuracy of 0.11125886524822695\n",
      "epoch 3 done: accuracy of 0.1114656690140845\n",
      "epoch 3 done: accuracy of 0.11123251748251749\n",
      "epoch 3 done: accuracy of 0.11078559027777778\n",
      "epoch 3 done: accuracy of 0.11045258620689655\n",
      "epoch 3 done: accuracy of 0.11033818493150685\n",
      "epoch 3 done: accuracy of 0.11033163265306123\n",
      "epoch 3 done: accuracy of 0.11032516891891891\n",
      "epoch 3 done: accuracy of 0.11052852348993289\n",
      "epoch 3 done: accuracy of 0.11052083333333333\n",
      "epoch 3 done: accuracy of 0.11030629139072848\n",
      "epoch 3 done: accuracy of 0.11040296052631579\n",
      "epoch 3 done: accuracy of 0.11029411764705882\n",
      "epoch 3 done: accuracy of 0.11028814935064934\n",
      "epoch 3 done: accuracy of 0.10987903225806452\n",
      "epoch 3 done: accuracy of 0.11017628205128205\n",
      "epoch 3 done: accuracy of 0.10947452229299363\n",
      "Epoch: 3/3\n",
      "\tIteration: 0\t Loss: 0.0576\n",
      "\tIteration: 40\t Loss: 2.3046\n",
      "\tIteration: 80\t Loss: 2.3041\n",
      "\tIteration: 120\t Loss: 2.3052\n",
      "\tIteration: 160\t Loss: 2.3029\n",
      "\tIteration: 200\t Loss: 2.3045\n",
      "\tIteration: 240\t Loss: 2.3011\n",
      "\tIteration: 280\t Loss: 2.3052\n",
      "\tIteration: 320\t Loss: 2.3030\n",
      "\tIteration: 360\t Loss: 2.3024\n",
      "\tIteration: 400\t Loss: 2.3019\n",
      "\tIteration: 440\t Loss: 2.3023\n",
      "\tIteration: 480\t Loss: 2.3034\n",
      "\tIteration: 520\t Loss: 2.3033\n",
      "\tIteration: 560\t Loss: 2.3019\n",
      "\tIteration: 600\t Loss: 2.3050\n",
      "\tIteration: 640\t Loss: 2.3064\n",
      "\tIteration: 680\t Loss: 2.3016\n",
      "\tIteration: 720\t Loss: 2.3049\n",
      "\tIteration: 760\t Loss: 2.3043\n",
      "\tIteration: 800\t Loss: 2.3025\n",
      "\tIteration: 840\t Loss: 2.3041\n",
      "\tIteration: 880\t Loss: 2.3033\n",
      "\tIteration: 920\t Loss: 2.3027\n",
      "epoch 3 done: accuracy of 0.171875\n",
      "epoch 3 done: accuracy of 0.109375\n",
      "epoch 3 done: accuracy of 0.109375\n",
      "epoch 3 done: accuracy of 0.09765625\n",
      "epoch 3 done: accuracy of 0.09375\n",
      "epoch 3 done: accuracy of 0.09895833333333333\n",
      "epoch 3 done: accuracy of 0.10491071428571429\n",
      "epoch 3 done: accuracy of 0.099609375\n",
      "epoch 3 done: accuracy of 0.09895833333333333\n",
      "epoch 3 done: accuracy of 0.0984375\n",
      "epoch 3 done: accuracy of 0.10085227272727272\n",
      "epoch 3 done: accuracy of 0.10286458333333333\n",
      "epoch 3 done: accuracy of 0.09975961538461539\n",
      "epoch 3 done: accuracy of 0.09933035714285714\n",
      "epoch 3 done: accuracy of 0.1\n",
      "epoch 3 done: accuracy of 0.09765625\n",
      "epoch 3 done: accuracy of 0.10110294117647059\n",
      "epoch 3 done: accuracy of 0.10243055555555555\n",
      "epoch 3 done: accuracy of 0.10279605263157894\n",
      "epoch 3 done: accuracy of 0.1046875\n",
      "epoch 3 done: accuracy of 0.10193452380952381\n",
      "epoch 3 done: accuracy of 0.10653409090909091\n",
      "epoch 3 done: accuracy of 0.10801630434782608\n",
      "epoch 3 done: accuracy of 0.10807291666666667\n",
      "epoch 3 done: accuracy of 0.105\n",
      "epoch 3 done: accuracy of 0.10516826923076923\n",
      "epoch 3 done: accuracy of 0.10358796296296297\n",
      "epoch 3 done: accuracy of 0.10323660714285714\n",
      "epoch 3 done: accuracy of 0.10290948275862069\n",
      "epoch 3 done: accuracy of 0.103125\n",
      "epoch 3 done: accuracy of 0.10483870967741936\n",
      "epoch 3 done: accuracy of 0.10498046875\n",
      "epoch 3 done: accuracy of 0.10274621212121213\n",
      "epoch 3 done: accuracy of 0.10202205882352941\n",
      "epoch 3 done: accuracy of 0.10178571428571428\n",
      "epoch 3 done: accuracy of 0.10286458333333333\n",
      "epoch 3 done: accuracy of 0.10261824324324324\n",
      "epoch 3 done: accuracy of 0.10361842105263158\n",
      "epoch 3 done: accuracy of 0.10336538461538461\n",
      "epoch 3 done: accuracy of 0.10390625\n",
      "epoch 3 done: accuracy of 0.1055640243902439\n",
      "epoch 3 done: accuracy of 0.10416666666666667\n",
      "epoch 3 done: accuracy of 0.10465116279069768\n",
      "epoch 3 done: accuracy of 0.10617897727272728\n",
      "epoch 3 done: accuracy of 0.10590277777777778\n",
      "epoch 3 done: accuracy of 0.10529891304347826\n",
      "epoch 3 done: accuracy of 0.10605053191489362\n",
      "epoch 3 done: accuracy of 0.10611979166666667\n",
      "epoch 3 done: accuracy of 0.10650510204081633\n",
      "epoch 3 done: accuracy of 0.1059375\n",
      "epoch 3 done: accuracy of 0.10477941176470588\n",
      "epoch 3 done: accuracy of 0.10576923076923077\n",
      "epoch 3 done: accuracy of 0.10554245283018868\n",
      "epoch 3 done: accuracy of 0.10648148148148148\n",
      "epoch 3 done: accuracy of 0.10681818181818181\n",
      "epoch 3 done: accuracy of 0.10686383928571429\n",
      "epoch 3 done: accuracy of 0.10608552631578948\n",
      "epoch 3 done: accuracy of 0.10668103448275862\n",
      "epoch 3 done: accuracy of 0.10778601694915255\n",
      "epoch 3 done: accuracy of 0.10755208333333334\n",
      "epoch 3 done: accuracy of 0.10706967213114754\n",
      "epoch 3 done: accuracy of 0.10761088709677419\n",
      "epoch 3 done: accuracy of 0.1076388888888889\n",
      "epoch 3 done: accuracy of 0.10791015625\n",
      "epoch 3 done: accuracy of 0.10745192307692308\n",
      "epoch 3 done: accuracy of 0.10771780303030302\n",
      "epoch 3 done: accuracy of 0.10797574626865672\n",
      "epoch 3 done: accuracy of 0.10753676470588236\n",
      "epoch 3 done: accuracy of 0.10778985507246377\n",
      "epoch 3 done: accuracy of 0.10758928571428572\n",
      "epoch 3 done: accuracy of 0.10761443661971831\n",
      "epoch 3 done: accuracy of 0.10785590277777778\n",
      "epoch 3 done: accuracy of 0.10830479452054795\n",
      "epoch 3 done: accuracy of 0.10831925675675676\n",
      "epoch 3 done: accuracy of 0.10833333333333334\n",
      "epoch 3 done: accuracy of 0.10875822368421052\n",
      "epoch 3 done: accuracy of 0.10896915584415584\n",
      "epoch 3 done: accuracy of 0.10917467948717949\n",
      "epoch 3 done: accuracy of 0.10996835443037975\n",
      "epoch 3 done: accuracy of 0.1099609375\n",
      "epoch 3 done: accuracy of 0.11072530864197531\n",
      "epoch 3 done: accuracy of 0.11051829268292683\n",
      "epoch 3 done: accuracy of 0.11050451807228916\n",
      "epoch 3 done: accuracy of 0.11030505952380952\n",
      "epoch 3 done: accuracy of 0.11029411764705882\n",
      "epoch 3 done: accuracy of 0.1106468023255814\n",
      "epoch 3 done: accuracy of 0.11063218390804598\n",
      "epoch 3 done: accuracy of 0.11097301136363637\n",
      "epoch 3 done: accuracy of 0.11095505617977527\n",
      "epoch 3 done: accuracy of 0.11197916666666667\n",
      "epoch 3 done: accuracy of 0.11212225274725275\n",
      "epoch 3 done: accuracy of 0.11277173913043478\n",
      "epoch 3 done: accuracy of 0.11256720430107527\n",
      "epoch 3 done: accuracy of 0.11220079787234043\n",
      "epoch 3 done: accuracy of 0.11200657894736842\n",
      "epoch 3 done: accuracy of 0.11165364583333333\n",
      "epoch 3 done: accuracy of 0.11211340206185567\n",
      "epoch 3 done: accuracy of 0.11144770408163265\n",
      "epoch 3 done: accuracy of 0.11158459595959595\n",
      "epoch 3 done: accuracy of 0.1115625\n",
      "epoch 3 done: accuracy of 0.11123143564356436\n",
      "epoch 3 done: accuracy of 0.11182598039215687\n",
      "epoch 3 done: accuracy of 0.11149878640776699\n",
      "epoch 3 done: accuracy of 0.11162860576923077\n",
      "epoch 3 done: accuracy of 0.11190476190476191\n",
      "epoch 3 done: accuracy of 0.11173349056603774\n",
      "epoch 3 done: accuracy of 0.11127336448598131\n",
      "epoch 3 done: accuracy of 0.11140046296296297\n",
      "epoch 3 done: accuracy of 0.11095183486238532\n",
      "epoch 3 done: accuracy of 0.11136363636363636\n",
      "epoch 3 done: accuracy of 0.11120495495495496\n",
      "epoch 3 done: accuracy of 0.11077008928571429\n",
      "epoch 3 done: accuracy of 0.11048119469026549\n",
      "epoch 3 done: accuracy of 0.1103344298245614\n",
      "epoch 3 done: accuracy of 0.11032608695652174\n",
      "epoch 3 done: accuracy of 0.11031788793103449\n",
      "epoch 3 done: accuracy of 0.10990918803418803\n",
      "epoch 3 done: accuracy of 0.10990466101694915\n",
      "epoch 3 done: accuracy of 0.10976890756302521\n",
      "epoch 3 done: accuracy of 0.10924479166666666\n",
      "epoch 3 done: accuracy of 0.10963326446280992\n",
      "epoch 3 done: accuracy of 0.1091188524590164\n",
      "epoch 3 done: accuracy of 0.10886686991869919\n",
      "epoch 3 done: accuracy of 0.10824092741935484\n",
      "epoch 3 done: accuracy of 0.108375\n",
      "epoch 3 done: accuracy of 0.10850694444444445\n",
      "epoch 3 done: accuracy of 0.10900590551181102\n",
      "epoch 3 done: accuracy of 0.108642578125\n",
      "epoch 3 done: accuracy of 0.10852713178294573\n",
      "epoch 3 done: accuracy of 0.10901442307692308\n",
      "epoch 3 done: accuracy of 0.10925572519083969\n",
      "epoch 3 done: accuracy of 0.10878314393939394\n",
      "epoch 3 done: accuracy of 0.10914003759398497\n",
      "epoch 3 done: accuracy of 0.10914179104477612\n",
      "epoch 3 done: accuracy of 0.10891203703703704\n",
      "epoch 3 done: accuracy of 0.10891544117647059\n",
      "epoch 3 done: accuracy of 0.10846259124087591\n",
      "epoch 3 done: accuracy of 0.10812952898550725\n",
      "epoch 3 done: accuracy of 0.10836330935251799\n",
      "epoch 3 done: accuracy of 0.10870535714285715\n",
      "epoch 3 done: accuracy of 0.10893173758865249\n",
      "epoch 3 done: accuracy of 0.10904489436619719\n",
      "epoch 3 done: accuracy of 0.10915646853146853\n",
      "epoch 3 done: accuracy of 0.109375\n",
      "epoch 3 done: accuracy of 0.1095905172413793\n",
      "epoch 3 done: accuracy of 0.1091609589041096\n",
      "epoch 3 done: accuracy of 0.10894982993197279\n",
      "epoch 3 done: accuracy of 0.10905827702702703\n",
      "epoch 3 done: accuracy of 0.10916526845637584\n",
      "epoch 3 done: accuracy of 0.109375\n",
      "epoch 3 done: accuracy of 0.1095819536423841\n",
      "epoch 3 done: accuracy of 0.10947779605263158\n",
      "epoch 3 done: accuracy of 0.10957924836601307\n",
      "epoch 3 done: accuracy of 0.1098823051948052\n",
      "epoch 3 done: accuracy of 0.11018145161290323\n",
      "epoch 3 done: accuracy of 0.10987580128205128\n",
      "epoch 3 done: accuracy of 0.11037022292993631\n"
     ]
    }
   ],
   "source": [
    "num_epochs = 5\n",
    "print_every = 40\n",
    "\n",
    "for epoch in range(num_epochs):\n",
    "    val_loss = []\n",
    "    running_loss = 0\n",
    "    print(f\"Epoch: {e+1}/{epochs}\")\n",
    "\n",
    "    for i, (images, labels) in enumerate(iter(trainloader)):\n",
    "\n",
    "        images.resize_(images.size()[0], 784),\n",
    "        optimizer.zero_grad()\n",
    "\n",
    "        output = model1.forward(images)   # 1) Forward pass\n",
    "        loss = criterion(output, labels) # 2) Compute loss\n",
    "        loss.backward()                  # 3) Backward pass\n",
    "        optimizer.step()                 # 4) Update model\n",
    "\n",
    "        running_loss += loss.item()\n",
    "\n",
    "        if i % print_every == 0:\n",
    "            print(f\"\\tIteration: {i}\\t Loss: {running_loss/print_every:.4f}\")\n",
    "            running_loss = 0\n",
    "\n",
    "    model1.eval()\n",
    "\n",
    "    accuracy = []\n",
    "\n",
    "    with torch.no_grad():\n",
    "        for i, (images, labels) in enumerate(iter(testloader)):\n",
    "            images.resize_(images.size()[0], 784),\n",
    "\n",
    "            scores = model1(images)\n",
    "            prediction = scores.argmax(dim=1)\n",
    "            acc = (prediction == labels).sum().item() / float(labels.size(0))\n",
    "            accuracy.append(acc)\n",
    "\n",
    "            # Validation loss\n",
    "            val = criterion(scores, labels)\n",
    "            val_loss.append(val)\n",
    "\n",
    "            print(f'epoch {e+1} done: accuracy of {np.array(accuracy).mean()}')\n",
    "\n",
    "            \n"
   ]
  },
  {
   "cell_type": "code",
   "execution_count": 35,
   "metadata": {},
   "outputs": [
    {
     "data": {
      "image/png": "[encoded data removed]",
      "text/plain": [
       "<Figure size 432x648 with 2 Axes>"
      ]
     },
     "metadata": {
      "image/png": {
       "height": 195,
       "width": 349
      },
      "needs_background": "light"
     },
     "output_type": "display_data"
    }
   ],
   "source": [
    "# Run this cell with your model to make sure it works and predicts well for the validation data\n",
    "images, labels = next(iter(testloader))\n",
    "images.resize_(images.shape[0], 1, 784)\n",
    "ps = model1.forward(images[0,:])\n",
    "view_classify(images[0].view(1, 28, 28), ps)"
   ]
  },
  {
   "cell_type": "markdown",
   "metadata": {},
   "source": [
    "<div style=\"background:#222222; color:#ffffff; padding:20px\">\n",
    "  <h3 style=\"color:#01ff84; margin-top:4px\">Exercise 3:</h3>\n",
    "  <p>Write the code for adding <strong style=\"color:#01ff84\">Early Stopping with patience = 2</strong> to the training loop from scratch.</p>\n",
    "  <p><strong style=\"color:#01ff84\">Hint:</strong> Monitor the Validation loss every epoch, and if in 2 epochs, the validation loss does not improve, stop the training loop with <code>break</code>.</p>\n",
    "<div>"
   ]
  },
  {
   "cell_type": "code",
   "execution_count": null,
   "metadata": {},
   "outputs": [],
   "source": [
    "## TODO: Your training loop here"
   ]
  }
 ],
 "metadata": {
  "interpreter": {
   "hash": "70fa39cfc6719afded0a3ea70075910de46d23a8d8fbfd6730603956cfed1170"
  },
  "kernelspec": {
   "display_name": "Python 3.9.12 ('deep')",
   "language": "python",
   "name": "python3"
  },
  "language_info": {
   "codemirror_mode": {
    "name": "ipython",
    "version": 3
   },
   "file_extension": ".py",
   "mimetype": "text/x-python",
   "name": "python",
   "nbconvert_exporter": "python",
   "pygments_lexer": "ipython3",
   "version": "3.9.12"
  }
 },
 "nbformat": 4,
 "nbformat_minor": 2
}
