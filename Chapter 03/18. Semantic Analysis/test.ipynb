{
 "cells": [
  {
   "cell_type": "code",
   "execution_count": 21,
   "metadata": {},
   "outputs": [],
   "source": [
    "from torchtext import datasets\n",
    "import pandas as pd\n",
    "import spacy\n",
    "from torch.utils.data import DataLoader, Dataset\n",
    "from collections import Counter\n",
    "from torchtext.vocab import Vocab, FastText\n",
    "import torch\n",
    "import numpy as np\n",
    "import matplotlib.pyplot as plt"
   ]
  },
  {
   "cell_type": "code",
   "execution_count": 37,
   "metadata": {},
   "outputs": [],
   "source": [
    "from torchtext.datasets import AmazonReviewFull"
   ]
  },
  {
   "cell_type": "code",
   "execution_count": 40,
   "metadata": {},
   "outputs": [
    {
     "ename": "ModuleNotFoundError",
     "evalue": "Package `torchdata` not found. Please install following instructions at `https://github.com/pytorch/data`",
     "output_type": "error",
     "traceback": [
      "\u001b[1;31m---------------------------------------------------------------------------\u001b[0m",
      "\u001b[1;31mModuleNotFoundError\u001b[0m                       Traceback (most recent call last)",
      "\u001b[1;32mc:\\Users\\andre\\Documents\\Strive_repository\\local_exercise\\Chapter 03\\18. Semantic Analysis\\test.ipynb Cell 3'\u001b[0m in \u001b[0;36m<cell line: 2>\u001b[1;34m()\u001b[0m\n\u001b[0;32m      <a href='vscode-notebook-cell:/c%3A/Users/andre/Documents/Strive_repository/local_exercise/Chapter%2003/18.%20Semantic%20Analysis/test.ipynb#ch0000001?line=0'>1</a>\u001b[0m \u001b[39mfrom\u001b[39;00m \u001b[39mtorchtext\u001b[39;00m\u001b[39m.\u001b[39;00m\u001b[39mdatasets\u001b[39;00m \u001b[39mimport\u001b[39;00m AmazonReviewFull\n\u001b[1;32m----> <a href='vscode-notebook-cell:/c%3A/Users/andre/Documents/Strive_repository/local_exercise/Chapter%2003/18.%20Semantic%20Analysis/test.ipynb#ch0000001?line=1'>2</a>\u001b[0m train, test \u001b[39m=\u001b[39m AmazonReviewFull()\n",
      "File \u001b[1;32mc:\\Users\\andre\\anaconda3\\envs\\DL\\lib\\site-packages\\torchtext\\data\\datasets_utils.py:248\u001b[0m, in \u001b[0;36m_create_dataset_directory.<locals>.decorator.<locals>.wrapper\u001b[1;34m(root, *args, **kwargs)\u001b[0m\n\u001b[0;32m    246\u001b[0m \u001b[39mif\u001b[39;00m \u001b[39mnot\u001b[39;00m os\u001b[39m.\u001b[39mpath\u001b[39m.\u001b[39mexists(new_root):\n\u001b[0;32m    247\u001b[0m     os\u001b[39m.\u001b[39mmakedirs(new_root)\n\u001b[1;32m--> 248\u001b[0m \u001b[39mreturn\u001b[39;00m fn(root\u001b[39m=\u001b[39mnew_root, \u001b[39m*\u001b[39margs, \u001b[39m*\u001b[39m\u001b[39m*\u001b[39mkwargs)\n",
      "File \u001b[1;32mc:\\Users\\andre\\anaconda3\\envs\\DL\\lib\\site-packages\\torchtext\\data\\datasets_utils.py:212\u001b[0m, in \u001b[0;36m_wrap_split_argument_with_fn.<locals>.new_fn\u001b[1;34m(root, split, **kwargs)\u001b[0m\n\u001b[0;32m    210\u001b[0m result \u001b[39m=\u001b[39m []\n\u001b[0;32m    211\u001b[0m \u001b[39mfor\u001b[39;00m item \u001b[39min\u001b[39;00m _check_default_set(split, splits, fn\u001b[39m.\u001b[39m\u001b[39m__name__\u001b[39m):\n\u001b[1;32m--> 212\u001b[0m     result\u001b[39m.\u001b[39mappend(fn(root, item, \u001b[39m*\u001b[39m\u001b[39m*\u001b[39mkwargs))\n\u001b[0;32m    213\u001b[0m \u001b[39mreturn\u001b[39;00m _wrap_datasets(\u001b[39mtuple\u001b[39m(result), split)\n",
      "File \u001b[1;32mc:\\Users\\andre\\anaconda3\\envs\\DL\\lib\\site-packages\\torchtext\\datasets\\amazonreviewfull.py:57\u001b[0m, in \u001b[0;36mAmazonReviewFull\u001b[1;34m(root, split)\u001b[0m\n\u001b[0;32m     41\u001b[0m \u001b[39m\"\"\"AmazonReviewFull Dataset\u001b[39;00m\n\u001b[0;32m     42\u001b[0m \n\u001b[0;32m     43\u001b[0m \u001b[39mFor additional details refer to https://arxiv.org/abs/1509.01626\u001b[39;00m\n\u001b[1;32m   (...)\u001b[0m\n\u001b[0;32m     54\u001b[0m \u001b[39m:rtype: (int, str)\u001b[39;00m\n\u001b[0;32m     55\u001b[0m \u001b[39m\"\"\"\u001b[39;00m\n\u001b[0;32m     56\u001b[0m \u001b[39mif\u001b[39;00m \u001b[39mnot\u001b[39;00m is_module_available(\u001b[39m\"\u001b[39m\u001b[39mtorchdata\u001b[39m\u001b[39m\"\u001b[39m):\n\u001b[1;32m---> 57\u001b[0m     \u001b[39mraise\u001b[39;00m \u001b[39mModuleNotFoundError\u001b[39;00m(\n\u001b[0;32m     58\u001b[0m         \u001b[39m\"\u001b[39m\u001b[39mPackage `torchdata` not found. Please install following instructions at `https://github.com/pytorch/data`\u001b[39m\u001b[39m\"\u001b[39m\n\u001b[0;32m     59\u001b[0m     )\n\u001b[0;32m     61\u001b[0m url_dp \u001b[39m=\u001b[39m IterableWrapper([URL])\n\u001b[0;32m     62\u001b[0m cache_compressed_dp \u001b[39m=\u001b[39m url_dp\u001b[39m.\u001b[39mon_disk_cache(\n\u001b[0;32m     63\u001b[0m     filepath_fn\u001b[39m=\u001b[39m\u001b[39mlambda\u001b[39;00m x: os\u001b[39m.\u001b[39mpath\u001b[39m.\u001b[39mjoin(root, _PATH),\n\u001b[0;32m     64\u001b[0m     hash_dict\u001b[39m=\u001b[39m{os\u001b[39m.\u001b[39mpath\u001b[39m.\u001b[39mjoin(root, _PATH): MD5},\n\u001b[0;32m     65\u001b[0m     hash_type\u001b[39m=\u001b[39m\u001b[39m\"\u001b[39m\u001b[39mmd5\u001b[39m\u001b[39m\"\u001b[39m,\n\u001b[0;32m     66\u001b[0m )\n",
      "\u001b[1;31mModuleNotFoundError\u001b[0m: Package `torchdata` not found. Please install following instructions at `https://github.com/pytorch/data`"
     ]
    }
   ],
   "source": [
    "from torchtext.datasets import AmazonReviewFull\n",
    "train, test = AmazonReviewFull()"
   ]
  },
  {
   "cell_type": "code",
   "execution_count": 4,
   "metadata": {},
   "outputs": [
    {
     "data": {
      "text/html": [
       "<div>\n",
       "<style scoped>\n",
       "    .dataframe tbody tr th:only-of-type {\n",
       "        vertical-align: middle;\n",
       "    }\n",
       "\n",
       "    .dataframe tbody tr th {\n",
       "        vertical-align: top;\n",
       "    }\n",
       "\n",
       "    .dataframe thead th {\n",
       "        text-align: right;\n",
       "    }\n",
       "</style>\n",
       "<table border=\"1\" class=\"dataframe\">\n",
       "  <thead>\n",
       "    <tr style=\"text-align: right;\">\n",
       "      <th></th>\n",
       "      <th>0</th>\n",
       "      <th>1</th>\n",
       "      <th>2</th>\n",
       "    </tr>\n",
       "  </thead>\n",
       "  <tbody>\n",
       "    <tr>\n",
       "      <th>0</th>\n",
       "      <td>1</td>\n",
       "      <td>mens ultrasheer</td>\n",
       "      <td>This model may be ok for sedentary types, but ...</td>\n",
       "    </tr>\n",
       "    <tr>\n",
       "      <th>1</th>\n",
       "      <td>4</td>\n",
       "      <td>Surprisingly delightful</td>\n",
       "      <td>This is a fast read filled with unexpected hum...</td>\n",
       "    </tr>\n",
       "    <tr>\n",
       "      <th>2</th>\n",
       "      <td>2</td>\n",
       "      <td>Works, but not as advertised</td>\n",
       "      <td>I bought one of these chargers..the instructio...</td>\n",
       "    </tr>\n",
       "    <tr>\n",
       "      <th>3</th>\n",
       "      <td>2</td>\n",
       "      <td>Oh dear</td>\n",
       "      <td>I was excited to find a book ostensibly about ...</td>\n",
       "    </tr>\n",
       "    <tr>\n",
       "      <th>4</th>\n",
       "      <td>2</td>\n",
       "      <td>Incorrect disc!</td>\n",
       "      <td>I am a big JVC fan, but I do not like this mod...</td>\n",
       "    </tr>\n",
       "  </tbody>\n",
       "</table>\n",
       "</div>"
      ],
      "text/plain": [
       "   0                             1  \\\n",
       "0  1               mens ultrasheer   \n",
       "1  4       Surprisingly delightful   \n",
       "2  2  Works, but not as advertised   \n",
       "3  2                       Oh dear   \n",
       "4  2               Incorrect disc!   \n",
       "\n",
       "                                                   2  \n",
       "0  This model may be ok for sedentary types, but ...  \n",
       "1  This is a fast read filled with unexpected hum...  \n",
       "2  I bought one of these chargers..the instructio...  \n",
       "3  I was excited to find a book ostensibly about ...  \n",
       "4  I am a big JVC fan, but I do not like this mod...  "
      ]
     },
     "execution_count": 4,
     "metadata": {},
     "output_type": "execute_result"
    }
   ],
   "source": [
    "# loading train data\n",
    "\n",
    "# train_df = pd.read_csv(\".data/Amazon/3000test.csv\", nrows=3000, header=0, index_col=0)\n",
    "# train_df.head()\n",
    "\n"
   ]
  },
  {
   "cell_type": "code",
   "execution_count": 6,
   "metadata": {},
   "outputs": [],
   "source": [
    "# # rename columns\n",
    "# train_df.rename({'0':\"star\", '1':\"rating1\", '2':\"rating2\"}, axis=1, inplace=True)\n",
    "\n",
    "# # merge the two reviews columns\n",
    "# train_df[\"review\"] = train_df[\"review\"] = train_df[\"rating1\"] + \" \" +  train_df[\"rating2\"]\n",
    "\n",
    "# # drop unnecessary columns\n",
    "# train_df.drop(columns=[\"rating1\", \"rating2\"], inplace=True)\n"
   ]
  },
  {
   "cell_type": "code",
   "execution_count": 8,
   "metadata": {},
   "outputs": [
    {
     "data": {
      "text/html": [
       "<div>\n",
       "<style scoped>\n",
       "    .dataframe tbody tr th:only-of-type {\n",
       "        vertical-align: middle;\n",
       "    }\n",
       "\n",
       "    .dataframe tbody tr th {\n",
       "        vertical-align: top;\n",
       "    }\n",
       "\n",
       "    .dataframe thead th {\n",
       "        text-align: right;\n",
       "    }\n",
       "</style>\n",
       "<table border=\"1\" class=\"dataframe\">\n",
       "  <thead>\n",
       "    <tr style=\"text-align: right;\">\n",
       "      <th></th>\n",
       "      <th>star</th>\n",
       "      <th>review</th>\n",
       "    </tr>\n",
       "  </thead>\n",
       "  <tbody>\n",
       "    <tr>\n",
       "      <th>0</th>\n",
       "      <td>1</td>\n",
       "      <td>mens ultrasheer This model may be ok for seden...</td>\n",
       "    </tr>\n",
       "    <tr>\n",
       "      <th>1</th>\n",
       "      <td>4</td>\n",
       "      <td>Surprisingly delightful This is a fast read fi...</td>\n",
       "    </tr>\n",
       "    <tr>\n",
       "      <th>2</th>\n",
       "      <td>2</td>\n",
       "      <td>Works, but not as advertised I bought one of t...</td>\n",
       "    </tr>\n",
       "    <tr>\n",
       "      <th>3</th>\n",
       "      <td>2</td>\n",
       "      <td>Oh dear I was excited to find a book ostensibl...</td>\n",
       "    </tr>\n",
       "    <tr>\n",
       "      <th>4</th>\n",
       "      <td>2</td>\n",
       "      <td>Incorrect disc! I am a big JVC fan, but I do n...</td>\n",
       "    </tr>\n",
       "  </tbody>\n",
       "</table>\n",
       "</div>"
      ],
      "text/plain": [
       "   star                                             review\n",
       "0     1  mens ultrasheer This model may be ok for seden...\n",
       "1     4  Surprisingly delightful This is a fast read fi...\n",
       "2     2  Works, but not as advertised I bought one of t...\n",
       "3     2  Oh dear I was excited to find a book ostensibl...\n",
       "4     2  Incorrect disc! I am a big JVC fan, but I do n..."
      ]
     },
     "execution_count": 8,
     "metadata": {},
     "output_type": "execute_result"
    }
   ],
   "source": [
    "train_df.head()"
   ]
  },
  {
   "cell_type": "code",
   "execution_count": 9,
   "metadata": {},
   "outputs": [
    {
     "data": {
      "text/html": [
       "<div>\n",
       "<style scoped>\n",
       "    .dataframe tbody tr th:only-of-type {\n",
       "        vertical-align: middle;\n",
       "    }\n",
       "\n",
       "    .dataframe tbody tr th {\n",
       "        vertical-align: top;\n",
       "    }\n",
       "\n",
       "    .dataframe thead th {\n",
       "        text-align: right;\n",
       "    }\n",
       "</style>\n",
       "<table border=\"1\" class=\"dataframe\">\n",
       "  <thead>\n",
       "    <tr style=\"text-align: right;\">\n",
       "      <th></th>\n",
       "      <th>0</th>\n",
       "      <th>1</th>\n",
       "      <th>2</th>\n",
       "    </tr>\n",
       "  </thead>\n",
       "  <tbody>\n",
       "    <tr>\n",
       "      <th>0</th>\n",
       "      <td>1</td>\n",
       "      <td>mens ultrasheer</td>\n",
       "      <td>This model may be ok for sedentary types, but ...</td>\n",
       "    </tr>\n",
       "    <tr>\n",
       "      <th>1</th>\n",
       "      <td>4</td>\n",
       "      <td>Surprisingly delightful</td>\n",
       "      <td>This is a fast read filled with unexpected hum...</td>\n",
       "    </tr>\n",
       "    <tr>\n",
       "      <th>2</th>\n",
       "      <td>2</td>\n",
       "      <td>Works, but not as advertised</td>\n",
       "      <td>I bought one of these chargers..the instructio...</td>\n",
       "    </tr>\n",
       "    <tr>\n",
       "      <th>3</th>\n",
       "      <td>2</td>\n",
       "      <td>Oh dear</td>\n",
       "      <td>I was excited to find a book ostensibly about ...</td>\n",
       "    </tr>\n",
       "    <tr>\n",
       "      <th>4</th>\n",
       "      <td>2</td>\n",
       "      <td>Incorrect disc!</td>\n",
       "      <td>I am a big JVC fan, but I do not like this mod...</td>\n",
       "    </tr>\n",
       "  </tbody>\n",
       "</table>\n",
       "</div>"
      ],
      "text/plain": [
       "   0                             1  \\\n",
       "0  1               mens ultrasheer   \n",
       "1  4       Surprisingly delightful   \n",
       "2  2  Works, but not as advertised   \n",
       "3  2                       Oh dear   \n",
       "4  2               Incorrect disc!   \n",
       "\n",
       "                                                   2  \n",
       "0  This model may be ok for sedentary types, but ...  \n",
       "1  This is a fast read filled with unexpected hum...  \n",
       "2  I bought one of these chargers..the instructio...  \n",
       "3  I was excited to find a book ostensibly about ...  \n",
       "4  I am a big JVC fan, but I do not like this mod...  "
      ]
     },
     "execution_count": 9,
     "metadata": {},
     "output_type": "execute_result"
    }
   ],
   "source": [
    "# test_df = pd.read_csv(\".data/Amazon/3000test.csv\", nrows=3000, header=0, index_col=0)\n",
    "# test_df.head()"
   ]
  },
  {
   "cell_type": "code",
   "execution_count": 10,
   "metadata": {},
   "outputs": [],
   "source": [
    "# # rename columns\n",
    "# test_df.rename({'0':\"star\", '1':\"rating1\", '2':\"rating2\"}, axis=1, inplace=True)\n",
    "\n",
    "# # merge the two reviews columns\n",
    "# test_df[\"review\"] = test_df[\"review\"] = test_df[\"rating1\"] + \" \" +  test_df[\"rating2\"]\n",
    "\n",
    "# # drop unnecessary columns\n",
    "# test_df.drop(columns=[\"rating1\", \"rating2\"], inplace=True)"
   ]
  },
  {
   "cell_type": "code",
   "execution_count": 11,
   "metadata": {},
   "outputs": [
    {
     "data": {
      "text/html": [
       "<div>\n",
       "<style scoped>\n",
       "    .dataframe tbody tr th:only-of-type {\n",
       "        vertical-align: middle;\n",
       "    }\n",
       "\n",
       "    .dataframe tbody tr th {\n",
       "        vertical-align: top;\n",
       "    }\n",
       "\n",
       "    .dataframe thead th {\n",
       "        text-align: right;\n",
       "    }\n",
       "</style>\n",
       "<table border=\"1\" class=\"dataframe\">\n",
       "  <thead>\n",
       "    <tr style=\"text-align: right;\">\n",
       "      <th></th>\n",
       "      <th>star</th>\n",
       "      <th>review</th>\n",
       "    </tr>\n",
       "  </thead>\n",
       "  <tbody>\n",
       "    <tr>\n",
       "      <th>0</th>\n",
       "      <td>1</td>\n",
       "      <td>mens ultrasheer This model may be ok for seden...</td>\n",
       "    </tr>\n",
       "    <tr>\n",
       "      <th>1</th>\n",
       "      <td>4</td>\n",
       "      <td>Surprisingly delightful This is a fast read fi...</td>\n",
       "    </tr>\n",
       "    <tr>\n",
       "      <th>2</th>\n",
       "      <td>2</td>\n",
       "      <td>Works, but not as advertised I bought one of t...</td>\n",
       "    </tr>\n",
       "    <tr>\n",
       "      <th>3</th>\n",
       "      <td>2</td>\n",
       "      <td>Oh dear I was excited to find a book ostensibl...</td>\n",
       "    </tr>\n",
       "    <tr>\n",
       "      <th>4</th>\n",
       "      <td>2</td>\n",
       "      <td>Incorrect disc! I am a big JVC fan, but I do n...</td>\n",
       "    </tr>\n",
       "  </tbody>\n",
       "</table>\n",
       "</div>"
      ],
      "text/plain": [
       "   star                                             review\n",
       "0     1  mens ultrasheer This model may be ok for seden...\n",
       "1     4  Surprisingly delightful This is a fast read fi...\n",
       "2     2  Works, but not as advertised I bought one of t...\n",
       "3     2  Oh dear I was excited to find a book ostensibl...\n",
       "4     2  Incorrect disc! I am a big JVC fan, but I do n..."
      ]
     },
     "execution_count": 11,
     "metadata": {},
     "output_type": "execute_result"
    }
   ],
   "source": [
    "# test_df.head()"
   ]
  },
  {
   "cell_type": "code",
   "execution_count": 25,
   "metadata": {},
   "outputs": [],
   "source": [
    "# take a sample of training data\n",
    "\n",
    "# train_df = train_df.groupby('star', group_keys=False).apply(lambda x: x.sample(100))"
   ]
  },
  {
   "cell_type": "code",
   "execution_count": 26,
   "metadata": {},
   "outputs": [
    {
     "data": {
      "text/html": [
       "<div>\n",
       "<style scoped>\n",
       "    .dataframe tbody tr th:only-of-type {\n",
       "        vertical-align: middle;\n",
       "    }\n",
       "\n",
       "    .dataframe tbody tr th {\n",
       "        vertical-align: top;\n",
       "    }\n",
       "\n",
       "    .dataframe thead th {\n",
       "        text-align: right;\n",
       "    }\n",
       "</style>\n",
       "<table border=\"1\" class=\"dataframe\">\n",
       "  <thead>\n",
       "    <tr style=\"text-align: right;\">\n",
       "      <th></th>\n",
       "      <th>star</th>\n",
       "      <th>review</th>\n",
       "    </tr>\n",
       "  </thead>\n",
       "  <tbody>\n",
       "    <tr>\n",
       "      <th>1632</th>\n",
       "      <td>1</td>\n",
       "      <td>great american spice company stay away from Gr...</td>\n",
       "    </tr>\n",
       "    <tr>\n",
       "      <th>142</th>\n",
       "      <td>1</td>\n",
       "      <td>Actually, this book is not worth one star. Thi...</td>\n",
       "    </tr>\n",
       "    <tr>\n",
       "      <th>1779</th>\n",
       "      <td>1</td>\n",
       "      <td>Please dont buy if you are entirely new to Jav...</td>\n",
       "    </tr>\n",
       "    <tr>\n",
       "      <th>1917</th>\n",
       "      <td>1</td>\n",
       "      <td>Defective Product The product was delivered on...</td>\n",
       "    </tr>\n",
       "    <tr>\n",
       "      <th>1643</th>\n",
       "      <td>1</td>\n",
       "      <td>blleeuurrgghhhh i have listened to this single...</td>\n",
       "    </tr>\n",
       "    <tr>\n",
       "      <th>...</th>\n",
       "      <td>...</td>\n",
       "      <td>...</td>\n",
       "    </tr>\n",
       "    <tr>\n",
       "      <th>1930</th>\n",
       "      <td>5</td>\n",
       "      <td>WHY IS THIS NOT AVAILABLE IN WIDESCREEN???? Th...</td>\n",
       "    </tr>\n",
       "    <tr>\n",
       "      <th>1238</th>\n",
       "      <td>5</td>\n",
       "      <td>This is a fantastic show. There's really nothi...</td>\n",
       "    </tr>\n",
       "    <tr>\n",
       "      <th>2960</th>\n",
       "      <td>5</td>\n",
       "      <td>Use as a chair I'm glad I bought the largest o...</td>\n",
       "    </tr>\n",
       "    <tr>\n",
       "      <th>1884</th>\n",
       "      <td>5</td>\n",
       "      <td>Great gift and a very useful item I purchased ...</td>\n",
       "    </tr>\n",
       "    <tr>\n",
       "      <th>1546</th>\n",
       "      <td>5</td>\n",
       "      <td>More real than history These 100 years in Maco...</td>\n",
       "    </tr>\n",
       "  </tbody>\n",
       "</table>\n",
       "<p>500 rows × 2 columns</p>\n",
       "</div>"
      ],
      "text/plain": [
       "      star                                             review\n",
       "1632     1  great american spice company stay away from Gr...\n",
       "142      1  Actually, this book is not worth one star. Thi...\n",
       "1779     1  Please dont buy if you are entirely new to Jav...\n",
       "1917     1  Defective Product The product was delivered on...\n",
       "1643     1  blleeuurrgghhhh i have listened to this single...\n",
       "...    ...                                                ...\n",
       "1930     5  WHY IS THIS NOT AVAILABLE IN WIDESCREEN???? Th...\n",
       "1238     5  This is a fantastic show. There's really nothi...\n",
       "2960     5  Use as a chair I'm glad I bought the largest o...\n",
       "1884     5  Great gift and a very useful item I purchased ...\n",
       "1546     5  More real than history These 100 years in Maco...\n",
       "\n",
       "[500 rows x 2 columns]"
      ]
     },
     "execution_count": 26,
     "metadata": {},
     "output_type": "execute_result"
    }
   ],
   "source": [
    "# train_df"
   ]
  },
  {
   "cell_type": "code",
   "execution_count": 20,
   "metadata": {},
   "outputs": [],
   "source": [
    "# sample test_df\n",
    "\n",
    "# test_df = test_df.groupby('star', group_keys=False).apply(lambda x: x.sample(200))\n",
    "\n"
   ]
  },
  {
   "cell_type": "code",
   "execution_count": 21,
   "metadata": {},
   "outputs": [
    {
     "data": {
      "text/html": [
       "<div>\n",
       "<style scoped>\n",
       "    .dataframe tbody tr th:only-of-type {\n",
       "        vertical-align: middle;\n",
       "    }\n",
       "\n",
       "    .dataframe tbody tr th {\n",
       "        vertical-align: top;\n",
       "    }\n",
       "\n",
       "    .dataframe thead th {\n",
       "        text-align: right;\n",
       "    }\n",
       "</style>\n",
       "<table border=\"1\" class=\"dataframe\">\n",
       "  <thead>\n",
       "    <tr style=\"text-align: right;\">\n",
       "      <th></th>\n",
       "      <th>star</th>\n",
       "      <th>review</th>\n",
       "    </tr>\n",
       "  </thead>\n",
       "  <tbody>\n",
       "    <tr>\n",
       "      <th>2359</th>\n",
       "      <td>1</td>\n",
       "      <td>OMG this is so awful how can you people listen...</td>\n",
       "    </tr>\n",
       "    <tr>\n",
       "      <th>596</th>\n",
       "      <td>1</td>\n",
       "      <td>Another person who can't believe they changed ...</td>\n",
       "    </tr>\n",
       "    <tr>\n",
       "      <th>846</th>\n",
       "      <td>1</td>\n",
       "      <td>Stained after two uses I bought these. After t...</td>\n",
       "    </tr>\n",
       "    <tr>\n",
       "      <th>956</th>\n",
       "      <td>1</td>\n",
       "      <td>Ripoff ! Don't Buy From CMMA Accessories ! I r...</td>\n",
       "    </tr>\n",
       "    <tr>\n",
       "      <th>287</th>\n",
       "      <td>1</td>\n",
       "      <td>Piece of CR--AP - try calling their support ! ...</td>\n",
       "    </tr>\n",
       "    <tr>\n",
       "      <th>...</th>\n",
       "      <td>...</td>\n",
       "      <td>...</td>\n",
       "    </tr>\n",
       "    <tr>\n",
       "      <th>1522</th>\n",
       "      <td>5</td>\n",
       "      <td>A Scholarly Book for Serious Students of Yiddi...</td>\n",
       "    </tr>\n",
       "    <tr>\n",
       "      <th>1948</th>\n",
       "      <td>5</td>\n",
       "      <td>Great product for the price Have been buying d...</td>\n",
       "    </tr>\n",
       "    <tr>\n",
       "      <th>2436</th>\n",
       "      <td>5</td>\n",
       "      <td>Rare Glow Fribee Delivered Fast I live in a sm...</td>\n",
       "    </tr>\n",
       "    <tr>\n",
       "      <th>2514</th>\n",
       "      <td>5</td>\n",
       "      <td>Of Mice and Men George and Lennie are best fri...</td>\n",
       "    </tr>\n",
       "    <tr>\n",
       "      <th>439</th>\n",
       "      <td>5</td>\n",
       "      <td>like the critics say: RIVETING! the book was g...</td>\n",
       "    </tr>\n",
       "  </tbody>\n",
       "</table>\n",
       "<p>1000 rows × 2 columns</p>\n",
       "</div>"
      ],
      "text/plain": [
       "      star                                             review\n",
       "2359     1  OMG this is so awful how can you people listen...\n",
       "596      1  Another person who can't believe they changed ...\n",
       "846      1  Stained after two uses I bought these. After t...\n",
       "956      1  Ripoff ! Don't Buy From CMMA Accessories ! I r...\n",
       "287      1  Piece of CR--AP - try calling their support ! ...\n",
       "...    ...                                                ...\n",
       "1522     5  A Scholarly Book for Serious Students of Yiddi...\n",
       "1948     5  Great product for the price Have been buying d...\n",
       "2436     5  Rare Glow Fribee Delivered Fast I live in a sm...\n",
       "2514     5  Of Mice and Men George and Lennie are best fri...\n",
       "439      5  like the critics say: RIVETING! the book was g...\n",
       "\n",
       "[1000 rows x 2 columns]"
      ]
     },
     "execution_count": 21,
     "metadata": {},
     "output_type": "execute_result"
    }
   ],
   "source": [
    "# test_df"
   ]
  },
  {
   "cell_type": "code",
   "execution_count": 27,
   "metadata": {},
   "outputs": [],
   "source": [
    "# nlp = spacy.load(\"en_core_web_sm\")"
   ]
  },
  {
   "cell_type": "code",
   "execution_count": 28,
   "metadata": {},
   "outputs": [],
   "source": [
    "# def preprocessing(sentence):\n",
    "#     \"\"\"\n",
    "#     params sentence: a str containing the sentence we want to preprocess\n",
    "#     return the tokens list\n",
    "#     \"\"\"\n",
    "#     doc = nlp(sentence)\n",
    "#     tokens = [token.lemma_ for token in doc if not token.is_punct and not token.is_stop]\n",
    "#     return tokens"
   ]
  },
  {
   "cell_type": "code",
   "execution_count": 31,
   "metadata": {},
   "outputs": [],
   "source": [
    "# class TrainData(Dataset):\n",
    "#     # initiate the class with df and maximum number of tokens as argument\n",
    "#     def __init__(self, df, max_seq_len=32):\n",
    "#         self.max_seq_len = max_seq_len\n",
    "#         counter = Counter()    # instanziate counter\n",
    "#         train_iter = iter(df.review.values)    # make the review column iterable\n",
    "#         for text in train_iter:\n",
    "#             counter.update(preprocessing(text))    # update the counter object with the number of words and occurrencies\n",
    "#         self.vocab = Vocab(counter, min_freq=1)    # create pytorch Vocab from the counter with all the words (min_freq=1)\n",
    "#         self.vocab.load_vectors(\"fasttext.simple.300d\")    # load pretrained embeddings\n",
    "#         label_pipeline = lambda x: int(x) -1     # make the label range 0-4 instead of 1-5\n",
    "#         self.token2idx = lambda x: self.vocab[x]  # Converts token to index\n",
    "#         self.idx2token = lambda x: self.vocab.itos[int(x)]   # converts index to token\n",
    "#         self.encode = lambda x:[self.token2idx(token) for token in preprocessing(x)]    # encode every token with its index\n",
    "#         self.pad = lambda x: x + (max_seq_len - len(x)) * [self.token2idx(\"<pad>\")]     # add the index of \"<pad>\" as many time as needed to reach max_seq_len\n",
    "#         sequences = [self.encode(sequence)[:max_seq_len] for sequence in df.review.tolist()]    # truncate the sequence if it's longer than max_seq_len\n",
    "#         sequence, self.labels = zip(*[(sequence, label_pipeline(label)) for sequence, label in zip(sequences, df.star.tolist()) if sequence]) # map every sequence to its label\n",
    "#         self.sequences = [self.pad(sequence) for sequence in sequences]\n",
    "\n",
    "#     # mandatory methods for custom dataloader\n",
    "#     def __len__(self):\n",
    "#         return len(self.sequences)\n",
    "\n",
    "#     def __getitem__(self, i):\n",
    "#         assert len(self.sequences[i]) == self.max_seq_len\n",
    "#         return self.sequences[i], self.labels[i]"
   ]
  },
  {
   "cell_type": "code",
   "execution_count": 36,
   "metadata": {},
   "outputs": [
    {
     "ename": "TypeError",
     "evalue": "__init__() got an unexpected keyword argument 'min_freq'",
     "output_type": "error",
     "traceback": [
      "\u001b[1;31m---------------------------------------------------------------------------\u001b[0m",
      "\u001b[1;31mTypeError\u001b[0m                                 Traceback (most recent call last)",
      "\u001b[1;32mc:\\Users\\andre\\Documents\\Strive_repository\\local_exercise\\Chapter 03\\18. Semantic Analysis\\test.ipynb Cell 16'\u001b[0m in \u001b[0;36m<cell line: 1>\u001b[1;34m()\u001b[0m\n\u001b[1;32m----> <a href='vscode-notebook-cell:/c%3A/Users/andre/Documents/Strive_repository/local_exercise/Chapter%2003/18.%20Semantic%20Analysis/test.ipynb#ch0000015?line=0'>1</a>\u001b[0m train_dataset \u001b[39m=\u001b[39m TrainData(train_df, max_seq_len\u001b[39m=\u001b[39;49m\u001b[39m32\u001b[39;49m)\n",
      "\u001b[1;32mc:\\Users\\andre\\Documents\\Strive_repository\\local_exercise\\Chapter 03\\18. Semantic Analysis\\test.ipynb Cell 15'\u001b[0m in \u001b[0;36mTrainData.__init__\u001b[1;34m(self, df, max_seq_len)\u001b[0m\n\u001b[0;32m      <a href='vscode-notebook-cell:/c%3A/Users/andre/Documents/Strive_repository/local_exercise/Chapter%2003/18.%20Semantic%20Analysis/test.ipynb#ch0000014?line=6'>7</a>\u001b[0m \u001b[39mfor\u001b[39;00m text \u001b[39min\u001b[39;00m train_iter:\n\u001b[0;32m      <a href='vscode-notebook-cell:/c%3A/Users/andre/Documents/Strive_repository/local_exercise/Chapter%2003/18.%20Semantic%20Analysis/test.ipynb#ch0000014?line=7'>8</a>\u001b[0m     counter\u001b[39m.\u001b[39mupdate(preprocessing(text))    \u001b[39m# update the counter object with the number of words and occurrencies\u001b[39;00m\n\u001b[1;32m----> <a href='vscode-notebook-cell:/c%3A/Users/andre/Documents/Strive_repository/local_exercise/Chapter%2003/18.%20Semantic%20Analysis/test.ipynb#ch0000014?line=8'>9</a>\u001b[0m \u001b[39mself\u001b[39m\u001b[39m.\u001b[39mvocab \u001b[39m=\u001b[39m Vocab(counter, min_freq\u001b[39m=\u001b[39;49m\u001b[39m1\u001b[39;49m)    \u001b[39m# create pytorch Vocab from the counter with all the words (min_freq=1)\u001b[39;00m\n\u001b[0;32m     <a href='vscode-notebook-cell:/c%3A/Users/andre/Documents/Strive_repository/local_exercise/Chapter%2003/18.%20Semantic%20Analysis/test.ipynb#ch0000014?line=9'>10</a>\u001b[0m \u001b[39mself\u001b[39m\u001b[39m.\u001b[39mvocab\u001b[39m.\u001b[39mload_vectors(\u001b[39m\"\u001b[39m\u001b[39mfasttext.simple.300d\u001b[39m\u001b[39m\"\u001b[39m)    \u001b[39m# load pretrained embeddings\u001b[39;00m\n\u001b[0;32m     <a href='vscode-notebook-cell:/c%3A/Users/andre/Documents/Strive_repository/local_exercise/Chapter%2003/18.%20Semantic%20Analysis/test.ipynb#ch0000014?line=10'>11</a>\u001b[0m label_pipeline \u001b[39m=\u001b[39m \u001b[39mlambda\u001b[39;00m x: \u001b[39mint\u001b[39m(x) \u001b[39m-\u001b[39m\u001b[39m1\u001b[39m     \u001b[39m# make the label range 0-4 instead of 1-5\u001b[39;00m\n",
      "\u001b[1;31mTypeError\u001b[0m: __init__() got an unexpected keyword argument 'min_freq'"
     ]
    }
   ],
   "source": [
    "# train_dataset = TrainData(train_df, max_seq_len=32)"
   ]
  },
  {
   "cell_type": "code",
   "execution_count": 3,
   "metadata": {},
   "outputs": [],
   "source": [
    "nlp = spacy.load('en_core_web_sm')"
   ]
  },
  {
   "cell_type": "code",
   "execution_count": 4,
   "metadata": {},
   "outputs": [],
   "source": [
    "fasttext = FastText(\"simple\")"
   ]
  },
  {
   "cell_type": "code",
   "execution_count": 7,
   "metadata": {},
   "outputs": [],
   "source": [
    "def load_data(path):\n",
    "    df = pd.read_csv(path, header=None, nrows=3000, skiprows=1, usecols=[1,2,3])\n",
    "    df.rename({1: 'star', 2: 'rating1', 3: 'rating2'}, axis=1, inplace=True)\n",
    "    df['review'] = df['rating1'] + ' ' + df['rating2']\n",
    "    df.drop(columns=['rating1', 'rating2'], inplace=True)\n",
    "    return df\n"
   ]
  },
  {
   "cell_type": "code",
   "execution_count": 9,
   "metadata": {},
   "outputs": [],
   "source": [
    "def train_test_split(df, train_size=0.8):\n",
    "    df_idx = [i for i in range(len(df))]\n",
    "    np.random.shuffle(df_idx)\n",
    "    len_train = int(len(df) * train_size)\n",
    "    df_train = df.iloc[:len_train].reset_index(drop=True)\n",
    "    df_test = df.iloc[len_train:].reset_index(drop=True)\n",
    "    return df_train, df_test\n",
    "\n"
   ]
  },
  {
   "cell_type": "code",
   "execution_count": 10,
   "metadata": {},
   "outputs": [],
   "source": [
    "def preprocessing(sentence):\n",
    "    \"\"\"\n",
    "    Get rid of special symbols, lower case the words.\n",
    "    return token list\n",
    "    \"\"\"\n",
    "    doc = nlp(sentence)\n",
    "    tokens = [token.lemma_ for token in doc if not token.is_punct and not token.is_space and not token.is_stop]\n",
    "    return tokens\n",
    "\n"
   ]
  },
  {
   "cell_type": "code",
   "execution_count": 11,
   "metadata": {},
   "outputs": [],
   "source": [
    "def token_encoder(token, vec):\n",
    "    if token == \"<pad>\":\n",
    "        return 1\n",
    "    else:\n",
    "        try:\n",
    "            return vec.stoi[token]\n",
    "        except:\n",
    "            return 0"
   ]
  },
  {
   "cell_type": "code",
   "execution_count": 12,
   "metadata": {},
   "outputs": [],
   "source": [
    "def encoder(tokens, vec):\n",
    "    return [token_encoder(token, vec) for token in tokens]\n",
    "\n"
   ]
  },
  {
   "cell_type": "code",
   "execution_count": 13,
   "metadata": {},
   "outputs": [],
   "source": [
    "def padding(list_of_idx, max_seq_len, padding_index=1):\n",
    "    output = list_of_idx + (max_seq_len - len(list_of_idx))*[padding_index]\n",
    "    return output[:max_seq_len]\n",
    "\n"
   ]
  },
  {
   "cell_type": "code",
   "execution_count": 14,
   "metadata": {},
   "outputs": [],
   "source": [
    "class TrainData(Dataset):\n",
    "    def __init__(self, df, max_seq_len=32): # df is the input df, max_seq_len is the max lenght allowed to a sentence before cutting or padding\n",
    "        self.max_seq_len = max_seq_len\n",
    "        \n",
    "        counter = Counter()\n",
    "        train_iter = iter(df.review.values)\n",
    "        self.vec = FastText(\"simple\")\n",
    "        self.vec.vectors[1] = -torch.ones(self.vec.vectors[1].shape[0]) # replacing the vector associated with 1 (padded value) to become a vector of -1.\n",
    "        self.vec.vectors[0] = torch.zeros(self.vec.vectors[0].shape[0]) # replacing the vector associated with 0 (unknown) to become zeros\n",
    "        self.vectorizer = lambda x: self.vec.vectors[x]\n",
    "        self.labels = df.star\n",
    "        sequences = [padding(encoder(preprocessing(sequence), self.vec), max_seq_len) for sequence in df.review.tolist()]\n",
    "        self.sequences = sequences\n",
    "    \n",
    "    def __len__(self):\n",
    "        return len(self.sequences)\n",
    "    \n",
    "    def __getitem__(self, i):\n",
    "        assert len(self.sequences[i]) == self.max_seq_len\n",
    "        return self.sequences[i], self.labels[i]"
   ]
  },
  {
   "cell_type": "code",
   "execution_count": 15,
   "metadata": {},
   "outputs": [
    {
     "data": {
      "text/plain": [
       "array([0, 3, 1, 2, 4], dtype=int64)"
      ]
     },
     "execution_count": 15,
     "metadata": {},
     "output_type": "execute_result"
    }
   ],
   "source": [
    "BATCH_SIZE = 32\n",
    "df = load_data('.data/Amazon/3000test.csv')\n",
    "df.star = df.star.apply(lambda x: int(x) -1)\n",
    "\n",
    "train_df, test_df = train_test_split(df)\n",
    "train_df, test_df = TrainData(train_df), TrainData(test_df)\n",
    "df.star.unique()\n",
    "\n"
   ]
  },
  {
   "cell_type": "code",
   "execution_count": 16,
   "metadata": {},
   "outputs": [],
   "source": [
    "def collate_train(batch, vectorizer=train_df.vectorizer):\n",
    "    inputs = torch.stack([torch.stack([vectorizer(token) for token in sentence[0]]) for sentence in batch])\n",
    "    target = torch.LongTensor([item[1] for item in batch])\n",
    "    return inputs, target\n",
    "\n",
    "def collate_test(batch, vectorizer=test_df.vectorizer):\n",
    "    inputs = torch.stack([torch.stack([vectorizer(token) for token in sentence[0]]) for sentence in batch])\n",
    "    target = torch.LongTensor([item[1] for item in batch])\n",
    "    return inputs, target"
   ]
  },
  {
   "cell_type": "code",
   "execution_count": 17,
   "metadata": {},
   "outputs": [],
   "source": [
    "train_loader = DataLoader(train_df, batch_size=BATCH_SIZE, collate_fn=collate_train, shuffle=True)\n",
    "test_loader = DataLoader(test_df, batch_size=BATCH_SIZE, collate_fn=collate_test)"
   ]
  },
  {
   "cell_type": "code",
   "execution_count": 18,
   "metadata": {},
   "outputs": [],
   "source": [
    "from torch import nn\n",
    "import torch.nn.functional as F\n",
    "emb_dim = 300\n",
    "class Classifier(nn.Module):\n",
    "    def __init__(self, max_seq_len, emb_dim, hidden1=16, hidden2=16):\n",
    "        super(Classifier, self).__init__()\n",
    "        self.fc1 = nn.Linear(max_seq_len*emb_dim, hidden1)\n",
    "        self.fc2 = nn.Linear(hidden1, hidden2)\n",
    "        self.fc3 = nn.Linear(hidden2, 5)\n",
    "        self.out = nn.LogSoftmax(dim=1)\n",
    "    \n",
    "    \n",
    "    def forward(self, inputs):\n",
    "        x = F.relu(self.fc1(inputs.squeeze(1).float()))\n",
    "        x = F.relu(self.fc2(x))\n",
    "        x = self.fc3(x)\n",
    "        return self.out(x)"
   ]
  },
  {
   "cell_type": "code",
   "execution_count": 19,
   "metadata": {},
   "outputs": [
    {
     "data": {
      "text/plain": [
       "Classifier(\n",
       "  (fc1): Linear(in_features=9600, out_features=16, bias=True)\n",
       "  (fc2): Linear(in_features=16, out_features=16, bias=True)\n",
       "  (fc3): Linear(in_features=16, out_features=5, bias=True)\n",
       "  (out): LogSoftmax(dim=1)\n",
       ")"
      ]
     },
     "execution_count": 19,
     "metadata": {},
     "output_type": "execute_result"
    }
   ],
   "source": [
    "MAX_SEQ_LEN = 32\n",
    "model = Classifier(MAX_SEQ_LEN, 300, 16, 16)\n",
    "model"
   ]
  },
  {
   "cell_type": "code",
   "execution_count": 20,
   "metadata": {},
   "outputs": [],
   "source": [
    "from torch import optim\n",
    "criterion = nn.NLLLoss()\n",
    "\n",
    "# Only train the classifier parameters, feature parameters are frozen\n",
    "optimizer = optim.Adam(model.parameters(), lr=0.003)"
   ]
  },
  {
   "cell_type": "code",
   "execution_count": 22,
   "metadata": {},
   "outputs": [
    {
     "name": "stdout",
     "output_type": "stream",
     "text": [
      "Epoch: 1/100, Train loss: 1.6479, Test loss: 1.6320, Accuracy: 0.1552\n",
      "Epoch: 2/100, Train loss: 1.5731, Test loss: 1.6052, Accuracy: 0.2122\n",
      "Epoch: 3/100, Train loss: 1.4257, Test loss: 1.6084, Accuracy: 0.2599\n",
      "Epoch: 4/100, Train loss: 1.1419, Test loss: 1.8773, Accuracy: 0.2719\n",
      "Epoch: 5/100, Train loss: 0.9189, Test loss: 2.2688, Accuracy: 0.2610\n",
      "Epoch: 6/100, Train loss: 0.8283, Test loss: 2.5315, Accuracy: 0.2237\n",
      "Epoch: 7/100, Train loss: 0.7864, Test loss: 2.7323, Accuracy: 0.2484\n",
      "Epoch: 8/100, Train loss: 0.7664, Test loss: 2.8125, Accuracy: 0.2654\n",
      "Epoch: 9/100, Train loss: 0.7615, Test loss: 2.9639, Accuracy: 0.2489\n",
      "Epoch: 10/100, Train loss: 0.7504, Test loss: 3.0427, Accuracy: 0.2133\n",
      "Epoch: 11/100, Train loss: 0.7463, Test loss: 3.0845, Accuracy: 0.2319\n",
      "Epoch: 12/100, Train loss: 0.7418, Test loss: 3.2442, Accuracy: 0.2122\n",
      "Epoch: 13/100, Train loss: 0.7411, Test loss: 3.3576, Accuracy: 0.2012\n",
      "Epoch: 14/100, Train loss: 0.7376, Test loss: 3.4967, Accuracy: 0.2177\n",
      "Epoch: 15/100, Train loss: 0.7436, Test loss: 3.4828, Accuracy: 0.2522\n",
      "Epoch: 16/100, Train loss: 0.7267, Test loss: 3.6061, Accuracy: 0.2489\n",
      "Epoch: 17/100, Train loss: 0.7528, Test loss: 3.7283, Accuracy: 0.2368\n",
      "Epoch: 18/100, Train loss: 0.7405, Test loss: 3.6604, Accuracy: 0.2588\n",
      "Epoch: 19/100, Train loss: 0.7139, Test loss: 4.0821, Accuracy: 0.2566\n",
      "Epoch: 20/100, Train loss: 0.7038, Test loss: 3.9980, Accuracy: 0.2719\n",
      "Epoch: 21/100, Train loss: 0.7356, Test loss: 3.6860, Accuracy: 0.2034\n",
      "Epoch: 22/100, Train loss: 0.8535, Test loss: 3.6866, Accuracy: 0.1793\n",
      "Epoch: 23/100, Train loss: 0.7898, Test loss: 3.3329, Accuracy: 0.2319\n",
      "Epoch: 24/100, Train loss: 0.7023, Test loss: 4.2546, Accuracy: 0.2385\n",
      "Epoch: 25/100, Train loss: 0.6812, Test loss: 3.8420, Accuracy: 0.2116\n",
      "Epoch: 26/100, Train loss: 0.7111, Test loss: 4.1200, Accuracy: 0.2155\n",
      "Epoch: 27/100, Train loss: 0.6968, Test loss: 4.0717, Accuracy: 0.2270\n",
      "Epoch: 28/100, Train loss: 0.6934, Test loss: 4.1232, Accuracy: 0.2188\n",
      "Epoch: 29/100, Train loss: 0.6563, Test loss: 4.2584, Accuracy: 0.2780\n",
      "Epoch: 30/100, Train loss: 0.6755, Test loss: 4.3288, Accuracy: 0.2193\n",
      "Epoch: 31/100, Train loss: 0.6633, Test loss: 4.3786, Accuracy: 0.1968\n",
      "Epoch: 32/100, Train loss: 0.6631, Test loss: 4.2021, Accuracy: 0.2462\n",
      "Epoch: 33/100, Train loss: 0.6184, Test loss: 4.6013, Accuracy: 0.2456\n",
      "Epoch: 34/100, Train loss: 0.6385, Test loss: 4.7612, Accuracy: 0.2456\n",
      "Epoch: 35/100, Train loss: 0.6378, Test loss: 4.3613, Accuracy: 0.2484\n",
      "Epoch: 36/100, Train loss: 0.5941, Test loss: 4.4556, Accuracy: 0.2473\n",
      "Epoch: 37/100, Train loss: 0.6195, Test loss: 4.4813, Accuracy: 0.2105\n",
      "Epoch: 38/100, Train loss: 0.5707, Test loss: 4.6572, Accuracy: 0.2648\n",
      "Epoch: 39/100, Train loss: 0.5809, Test loss: 4.6460, Accuracy: 0.2248\n",
      "Epoch: 40/100, Train loss: 0.5512, Test loss: 4.6523, Accuracy: 0.2462\n",
      "Epoch: 41/100, Train loss: 0.5441, Test loss: 4.7184, Accuracy: 0.2533\n",
      "Epoch: 42/100, Train loss: 0.5340, Test loss: 4.9832, Accuracy: 0.2648\n",
      "Epoch: 43/100, Train loss: 0.5321, Test loss: 4.8217, Accuracy: 0.2248\n",
      "Epoch: 44/100, Train loss: 0.5358, Test loss: 5.1734, Accuracy: 0.2566\n",
      "Epoch: 45/100, Train loss: 0.4718, Test loss: 5.3109, Accuracy: 0.2593\n",
      "Epoch: 46/100, Train loss: 0.4551, Test loss: 5.7570, Accuracy: 0.2352\n",
      "Epoch: 47/100, Train loss: 0.5406, Test loss: 5.3020, Accuracy: 0.2977\n",
      "Epoch: 48/100, Train loss: 0.4428, Test loss: 5.4748, Accuracy: 0.2621\n",
      "Epoch: 49/100, Train loss: 0.4007, Test loss: 5.5421, Accuracy: 0.2763\n",
      "Epoch: 50/100, Train loss: 0.4283, Test loss: 5.6811, Accuracy: 0.2588\n",
      "Epoch: 51/100, Train loss: 0.3885, Test loss: 5.4948, Accuracy: 0.2489\n",
      "Epoch: 52/100, Train loss: 0.3685, Test loss: 6.0963, Accuracy: 0.2527\n",
      "Epoch: 53/100, Train loss: 0.3402, Test loss: 6.1771, Accuracy: 0.2708\n",
      "Epoch: 54/100, Train loss: 0.3547, Test loss: 6.3517, Accuracy: 0.2758\n",
      "Epoch: 55/100, Train loss: 0.3695, Test loss: 6.3482, Accuracy: 0.2522\n",
      "Epoch: 56/100, Train loss: 0.3666, Test loss: 5.5024, Accuracy: 0.2533\n",
      "Epoch: 57/100, Train loss: 0.4897, Test loss: 5.6950, Accuracy: 0.2308\n",
      "Epoch: 58/100, Train loss: 0.3156, Test loss: 6.3457, Accuracy: 0.2664\n",
      "Epoch: 59/100, Train loss: 0.2762, Test loss: 6.2451, Accuracy: 0.2621\n",
      "Epoch: 60/100, Train loss: 0.2877, Test loss: 6.3551, Accuracy: 0.2769\n",
      "Epoch: 61/100, Train loss: 0.2470, Test loss: 7.0867, Accuracy: 0.2495\n",
      "Epoch: 62/100, Train loss: 0.3228, Test loss: 6.1178, Accuracy: 0.2703\n",
      "Epoch: 63/100, Train loss: 0.2599, Test loss: 6.6919, Accuracy: 0.2703\n",
      "Epoch: 64/100, Train loss: 0.2573, Test loss: 6.6549, Accuracy: 0.2478\n",
      "Epoch: 65/100, Train loss: 0.2238, Test loss: 6.9570, Accuracy: 0.2560\n",
      "Epoch: 66/100, Train loss: 0.1878, Test loss: 7.1159, Accuracy: 0.2473\n",
      "Epoch: 67/100, Train loss: 0.2206, Test loss: 7.2435, Accuracy: 0.2582\n",
      "Epoch: 68/100, Train loss: 0.2977, Test loss: 7.7498, Accuracy: 0.2451\n",
      "Epoch: 69/100, Train loss: 0.2804, Test loss: 6.9044, Accuracy: 0.2610\n",
      "Epoch: 70/100, Train loss: 0.2029, Test loss: 7.2550, Accuracy: 0.2637\n",
      "Epoch: 71/100, Train loss: 0.1403, Test loss: 7.5131, Accuracy: 0.2495\n",
      "Epoch: 72/100, Train loss: 0.1979, Test loss: 7.5702, Accuracy: 0.2555\n",
      "Epoch: 73/100, Train loss: 0.1596, Test loss: 7.7118, Accuracy: 0.2533\n",
      "Epoch: 74/100, Train loss: 0.2057, Test loss: 7.7694, Accuracy: 0.2505\n",
      "Epoch: 75/100, Train loss: 0.1875, Test loss: 7.4609, Accuracy: 0.2708\n",
      "Epoch: 76/100, Train loss: 0.1731, Test loss: 7.8717, Accuracy: 0.2582\n",
      "Epoch: 77/100, Train loss: 0.1047, Test loss: 8.1049, Accuracy: 0.2484\n",
      "Epoch: 78/100, Train loss: 0.1606, Test loss: 8.1303, Accuracy: 0.2610\n",
      "Epoch: 79/100, Train loss: 0.0819, Test loss: 8.2455, Accuracy: 0.2599\n",
      "Epoch: 80/100, Train loss: 0.0809, Test loss: 8.6294, Accuracy: 0.2516\n",
      "Epoch: 81/100, Train loss: 0.1738, Test loss: 9.4369, Accuracy: 0.2626\n",
      "Epoch: 82/100, Train loss: 0.3388, Test loss: 8.2241, Accuracy: 0.2632\n",
      "Epoch: 83/100, Train loss: 0.0903, Test loss: 8.5120, Accuracy: 0.2549\n",
      "Epoch: 84/100, Train loss: 0.1043, Test loss: 8.8895, Accuracy: 0.2615\n",
      "Epoch: 85/100, Train loss: 0.1107, Test loss: 8.4357, Accuracy: 0.2648\n",
      "Epoch: 86/100, Train loss: 0.1980, Test loss: 8.0936, Accuracy: 0.2686\n",
      "Epoch: 87/100, Train loss: 0.1048, Test loss: 8.4494, Accuracy: 0.2703\n",
      "Epoch: 88/100, Train loss: 0.0818, Test loss: 8.6239, Accuracy: 0.2785\n",
      "Epoch: 89/100, Train loss: 0.0689, Test loss: 8.7384, Accuracy: 0.2708\n",
      "Epoch: 90/100, Train loss: 0.0576, Test loss: 8.9362, Accuracy: 0.2736\n",
      "Epoch: 91/100, Train loss: 0.0527, Test loss: 9.2273, Accuracy: 0.2670\n",
      "Epoch: 92/100, Train loss: 0.0634, Test loss: 9.2084, Accuracy: 0.2758\n",
      "Epoch: 93/100, Train loss: 0.0672, Test loss: 9.4468, Accuracy: 0.2654\n",
      "Epoch: 94/100, Train loss: 0.0845, Test loss: 9.7449, Accuracy: 0.2654\n",
      "Epoch: 95/100, Train loss: 0.0468, Test loss: 9.9840, Accuracy: 0.2664\n",
      "Epoch: 96/100, Train loss: 0.1306, Test loss: 9.7299, Accuracy: 0.2769\n",
      "Epoch: 97/100, Train loss: 0.0875, Test loss: 9.7462, Accuracy: 0.2719\n",
      "Epoch: 98/100, Train loss: 0.0570, Test loss: 9.5461, Accuracy: 0.2648\n",
      "Epoch: 99/100, Train loss: 0.0396, Test loss: 9.7281, Accuracy: 0.2621\n",
      "Epoch: 100/100, Train loss: 0.0435, Test loss: 9.8037, Accuracy: 0.2544\n"
     ]
    },
    {
     "data": {
      "image/png": "[encoded data removed]",
      "text/plain": [
       "<Figure size 432x288 with 1 Axes>"
      ]
     },
     "metadata": {
      "needs_background": "light"
     },
     "output_type": "display_data"
    }
   ],
   "source": [
    "epochs = 100\n",
    "print_every = 40\n",
    "train_losses, test_losses, accuracies = [], [], []\n",
    "\n",
    "for e in range(epochs):\n",
    "    running_loss, running_test_losses, running_test_accuracy = 0, 0, 0\n",
    "    # print(f\"Epoch: {e+1}/{epochs}\")\n",
    "\n",
    "    for i, (sentences, labels) in enumerate(iter(train_loader)):\n",
    "\n",
    "        sentences.resize_(sentences.size()[0], 32* emb_dim)\n",
    "        \n",
    "        optimizer.zero_grad()\n",
    "        \n",
    "        output = model.forward(sentences)   # 1) Forward pass\n",
    "        train_loss = criterion(output, labels) # 2) Compute loss\n",
    "        train_loss.backward()                  # 3) Backward pass\n",
    "        optimizer.step()                 # 4) Update model\n",
    "        \n",
    "        running_loss += train_loss.item()\n",
    "        \n",
    "        # if i % print_every == 0:\n",
    "        #     print(f\"\\tIteration: {i}\\t Loss: {running_loss/print_every:.4f}\")\n",
    "        #     running_loss = 0\n",
    "    avg_running_loss = running_loss/len(train_loader)\n",
    "    train_losses.append(avg_running_loss)\n",
    "\n",
    "    model.eval()\n",
    "    with torch.no_grad():\n",
    "        for i, (sentences_test, labels_test) in enumerate(iter(test_loader)):\n",
    "            sentences_test.resize_(sentences_test.size()[0], 32* emb_dim)\n",
    "\n",
    "            output_test = model.forward(sentences_test)\n",
    "            test_loss = criterion(output_test, labels_test)\n",
    "\n",
    "            running_test_losses += test_loss.item()\n",
    "\n",
    "            prediction_label = torch.argmax(output_test, dim=1)\n",
    "            running_test_accuracy += (prediction_label == labels_test).sum() / len(labels_test)\n",
    "        avg_test_loss = running_test_losses/len(test_loader)\n",
    "        test_losses.append(avg_test_loss)\n",
    "        avg_running_accuracy = running_test_accuracy/len(test_loader)\n",
    "        accuracies.append(avg_running_accuracy)\n",
    "\n",
    "    model.train()\n",
    "\n",
    "    print(f\"Epoch: {e+1}/{epochs}, Train loss: {avg_running_loss:.4f}, Test loss: {avg_test_loss:.4f}, Accuracy: {avg_running_accuracy:.4f}\" )\n",
    "\n",
    "torch.save({'model_state': model.state_dict()}, 'final_model')\n",
    "plt.plot(train_losses, label='Train loss')\n",
    "plt.plot(test_losses, label='Test losses')\n",
    "plt.plot(accuracies, label='Accuracy')\n",
    "plt.legend()\n",
    "plt.show()"
   ]
  }
 ],
 "metadata": {
  "kernelspec": {
   "display_name": "Python 3.9.12 ('DL')",
   "language": "python",
   "name": "python3"
  },
  "language_info": {
   "codemirror_mode": {
    "name": "ipython",
    "version": 3
   },
   "file_extension": ".py",
   "mimetype": "text/x-python",
   "name": "python",
   "nbconvert_exporter": "python",
   "pygments_lexer": "ipython3",
   "version": "3.9.12"
  },
  "orig_nbformat": 4,
  "vscode": {
   "interpreter": {
    "hash": "ca6d8dca7ea44f50a219602c5adcd3e65ceab2675748fe45a38b1f25aedd036e"
   }
  }
 },
 "nbformat": 4,
 "nbformat_minor": 2
}
